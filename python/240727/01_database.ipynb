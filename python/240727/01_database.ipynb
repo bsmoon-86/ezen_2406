{
 "cells": [
  {
   "cell_type": "markdown",
   "metadata": {},
   "source": [
    "### mysql과 python의 연동\n",
    "1. mysql과 연동을 할 수 있는 기능을 가진 라이브러리 설치 \n",
    "2. 라이브러리 로드 \n",
    "3. 어떠한 DB server에 접속할 것인가?\n",
    "    - 서버의 정보를 등록 \n",
    "        - 서버의 주소 \n",
    "        - 서버의 포트번호\n",
    "        - 서버의 아이디\n",
    "        - 서버의 패스워드\n",
    "        - 사용할 데이터베이스의 이름\n",
    "4. DB서버와 Python 사이에 가상의 공간(커서)을 생성\n",
    "5. sql 쿼리문을 이용하여 가상 공간에 질의를 보낸다. \n",
    "    - 데이터의 변경이 존재하는 쿼리문\n",
    "        - 질의를 보낸다. \n",
    "        - 데이터베이스 서버의 데이터를 변경(커밋)\n",
    "        - 데이터베이스 서버와의 연결을 종료\n",
    "    - 데이터를 조회하는 쿼리문\n",
    "        - 질의를 보낸다 \n",
    "        - 질의에 대한 결과물을 받아온다. \n",
    "        - 데이터베이스 서버와의 연결을 종료"
   ]
  },
  {
   "cell_type": "code",
   "execution_count": null,
   "metadata": {},
   "outputs": [],
   "source": [
    "# 라이브러리 설치 \n",
    "!pip install pymysql"
   ]
  },
  {
   "cell_type": "code",
   "execution_count": null,
   "metadata": {},
   "outputs": [],
   "source": [
    "# 라이브러리 로드 \n",
    "import pymysql"
   ]
  },
  {
   "cell_type": "code",
   "execution_count": null,
   "metadata": {},
   "outputs": [],
   "source": [
    "# mysql 연결시 cryptography 에러 발생시 \n",
    "!pip install cryptography"
   ]
  },
  {
   "cell_type": "code",
   "execution_count": null,
   "metadata": {},
   "outputs": [],
   "source": [
    "# DB 서버와 연결\n",
    "_db = pymysql.connect(\n",
    "    host = 'localhost', \n",
    "    port = 3306, \n",
    "    user = 'root', \n",
    "    password = '1234', \n",
    "    db = 'ezen'\n",
    ")"
   ]
  },
  {
   "cell_type": "code",
   "execution_count": null,
   "metadata": {},
   "outputs": [],
   "source": [
    "# 가상 공간(Cursor) 생성\n",
    "# 기본값을 사용\n",
    "cursor = _db.cursor()\n",
    "# 옵션을 변경\n",
    "cursor2 = _db.cursor(pymysql.cursors.DictCursor)"
   ]
  },
  {
   "cell_type": "code",
   "execution_count": null,
   "metadata": {},
   "outputs": [],
   "source": [
    "# sql 쿼리문 작성\n",
    "query = \"select * from `user`\"\n",
    "# 가상 공간에 질의를 보낸다 (execute())\n",
    "cursor.execute(query)\n",
    "cursor2.execute(query)"
   ]
  },
  {
   "cell_type": "code",
   "execution_count": null,
   "metadata": {},
   "outputs": [],
   "source": [
    "# 가상공간에서 질의에 대한 답변을 받아온다.(fetchall())\n",
    "db_res = cursor.fetchall()\n",
    "db_res2 = cursor2.fetchall()"
   ]
  },
  {
   "cell_type": "code",
   "execution_count": null,
   "metadata": {},
   "outputs": [],
   "source": [
    "# 기본 커서에서 불러온 데이터\n",
    "print(db_res)"
   ]
  },
  {
   "cell_type": "code",
   "execution_count": null,
   "metadata": {},
   "outputs": [],
   "source": [
    "print(db_res2)"
   ]
  },
  {
   "cell_type": "code",
   "execution_count": null,
   "metadata": {},
   "outputs": [],
   "source": [
    "import pandas as pd"
   ]
  },
  {
   "cell_type": "code",
   "execution_count": null,
   "metadata": {},
   "outputs": [],
   "source": [
    "df = pd.DataFrame(db_res)\n",
    "df2 = pd.DataFrame(db_res2)"
   ]
  },
  {
   "cell_type": "code",
   "execution_count": null,
   "metadata": {},
   "outputs": [],
   "source": [
    "df"
   ]
  },
  {
   "cell_type": "code",
   "execution_count": null,
   "metadata": {},
   "outputs": [],
   "source": [
    "df2"
   ]
  },
  {
   "cell_type": "code",
   "execution_count": null,
   "metadata": {},
   "outputs": [],
   "source": [
    "# 데이터를 추가\n",
    "insert_query = \"\"\"\n",
    "    insert into \n",
    "    `user` \n",
    "    values \n",
    "    (\n",
    "        'test4', \n",
    "        '0000', \n",
    "        'choi'\n",
    "    )\n",
    "\"\"\"\n",
    "cursor2.execute(insert_query)"
   ]
  },
  {
   "cell_type": "code",
   "execution_count": null,
   "metadata": {},
   "outputs": [],
   "source": [
    "# 데이터 확인 \n",
    "cursor2.execute(query)\n",
    "cursor2.fetchall()"
   ]
  },
  {
   "cell_type": "code",
   "execution_count": null,
   "metadata": {},
   "outputs": [],
   "source": [
    "# DB 서버에 가상공간의 데이터를 대입(연동)\n",
    "_db.commit()"
   ]
  },
  {
   "cell_type": "code",
   "execution_count": null,
   "metadata": {},
   "outputs": [],
   "source": [
    "# 수정 쿼리문 작성 \n",
    "# where 절이 존재하지 않기때문에 모든 password가 변경\n",
    "update_query = \"\"\"\n",
    "    update `user` \n",
    "    set \n",
    "    `password` = '0000'\n",
    "\"\"\"\n",
    "# cursor2.execute(update_query)"
   ]
  },
  {
   "cell_type": "code",
   "execution_count": null,
   "metadata": {},
   "outputs": [],
   "source": [
    "cursor2.execute(query)\n",
    "cursor2.fetchall()"
   ]
  },
  {
   "cell_type": "code",
   "execution_count": null,
   "metadata": {},
   "outputs": [],
   "source": [
    "# _db.close()"
   ]
  },
  {
   "cell_type": "code",
   "execution_count": null,
   "metadata": {},
   "outputs": [],
   "source": [
    "# 외부에서 입력된 데이터를 가지고 쿼리문과 질의를 보낸다. \n",
    "# 패스워드 변경 \n",
    "input_id = input(\"아이디를 입력하시오\")\n",
    "input_pass = input(\"변경할 패스워드 값을 입력하시오\")\n",
    "# print(input_id, input_pass)\n",
    "\n",
    "update_query = f\"\"\"\n",
    "    update `user`\n",
    "    set \n",
    "    `password` = '{input_pass}'\n",
    "    where `id` = '{input_id}'\n",
    "\"\"\"\n",
    "# print(update_query)\n",
    "cursor2.execute(update_query)"
   ]
  },
  {
   "cell_type": "code",
   "execution_count": null,
   "metadata": {},
   "outputs": [],
   "source": [
    "input_id = input(\"아이디를 입력하시오\")\n",
    "input_pass = input(\"변경할 패스워드 값을 입력하시오\")\n",
    "update_query2 = \"\"\"\n",
    "    update `user`\n",
    "    set \n",
    "    `password` = %s  \n",
    "    where `id` = %s\n",
    "\"\"\"\n",
    "cursor2.execute(update_query2, [input_pass, input_id])"
   ]
  },
  {
   "cell_type": "code",
   "execution_count": null,
   "metadata": {},
   "outputs": [],
   "source": [
    "_db.commit()"
   ]
  },
  {
   "cell_type": "markdown",
   "metadata": {},
   "source": [
    "### mysql연동하고 쿼리문을 입력시 결과물을 되돌려주는 Class 생성\n",
    "1. 생성자 함수 : class가 생성될때 자동으로 실행되는 함수 \n",
    "    - DB 서버의 정보를 등록 (변수에 저장)\n",
    "2. sql_query() 함수 생성\n",
    "    - 매개변수 2개 사용\n",
    "        - _sql : 쿼리문을 입력 받는 부분\n",
    "        - *_value : 인자의 개수가 가변인 경우의 매개변수를 생성 (%s에 들어갈 데이터 값)\n",
    "    - DB 서버에 접속\n",
    "    - 가상 공간(Cursor) 생성 : DictCursor를 이용하여 생성\n",
    "    - 가상 공간에 질의 \n",
    "    - 조건문을 사용\n",
    "        - 질의가 select라면\n",
    "            - 질의를 보낸 후 결과 값을 되돌려주는 코드 작성\n",
    "        - 질의가 select가 아니라면\n",
    "            - 질의를 보낸 후 DB에 동기화\n",
    "    - DB 서버와의 연결을 종료\n"
   ]
  },
  {
   "cell_type": "code",
   "execution_count": null,
   "metadata": {},
   "outputs": [],
   "source": [
    "class MyDB:\n",
    "    # 생성자 함수 \n",
    "    def __init__(\n",
    "            self, \n",
    "            _host = 'localhost', \n",
    "            _port = 3306, \n",
    "            _user = 'root', \n",
    "            _password = '1234', \n",
    "            _db = 'ezen'):\n",
    "        # 매개변수를 통해 입력된 인자값을 변수에 저장 \n",
    "        self.host = _host\n",
    "        self.port = _port\n",
    "        self.user = _user\n",
    "        self.password = _password\n",
    "        self.db = _db\n",
    "    # sql_query() 함수 생성\n",
    "    def sql_query(self, _sql, *_values):\n",
    "        # DB 서버와의 연결 \n",
    "        _db = pymysql.connect(\n",
    "            host = self.host, \n",
    "            port = self.port, \n",
    "            user = self.user, \n",
    "            password = self.password, \n",
    "            db = self.db\n",
    "        )\n",
    "        # 가상 공간 생성\n",
    "        cursor = _db.cursor(pymysql.cursors.DictCursor)\n",
    "        try:\n",
    "            # 질의 \n",
    "            cursor.execute(_sql, _values)\n",
    "        except Exception as e:\n",
    "            print('Error')\n",
    "            _db.close()\n",
    "            return e\n",
    "        # 질의가 select문이라면?\n",
    "        # if _sql.lower().split()[0] == 'select':\n",
    "        # if _sql.strip().lower().startswith('select'):\n",
    "        if _sql.strip().lower()[:6] == 'select':\n",
    "            # 가상 공간에서 결과 값을 로드 \n",
    "            result = cursor.fetchall()\n",
    "        else:\n",
    "            # DB 서버와 동기화 \n",
    "            _db.commit()\n",
    "            result = \"Query OK\"\n",
    "        # DB 서버와의 연결을 종료\n",
    "        _db.close()\n",
    "        # 결과값을 되돌려준다. \n",
    "        return result\n",
    "        "
   ]
  },
  {
   "cell_type": "code",
   "execution_count": null,
   "metadata": {},
   "outputs": [],
   "source": [
    "# class를 이용하여 DB 서버와의 연결\n",
    "db1 = MyDB()"
   ]
  },
  {
   "cell_type": "code",
   "execution_count": null,
   "metadata": {},
   "outputs": [],
   "source": [
    "# MyDB class 안에 있는 함수를 호출 \n",
    "query = \"\"\"\n",
    "    select \n",
    "    * \n",
    "    from \n",
    "    `user`\n",
    "\"\"\"\n",
    "\n",
    "db1.sql_query(query)"
   ]
  },
  {
   "cell_type": "code",
   "execution_count": null,
   "metadata": {},
   "outputs": [],
   "source": [
    "query2 = \"\"\"\n",
    "    insert into \n",
    "    `user` \n",
    "    values \n",
    "    (%s, %s, %s)\n",
    "\"\"\"\n",
    "input_id = input('아이디를 입력하시오')\n",
    "input_pass = input('비밀번호를 입력하시오')\n",
    "input_name = input(\"이름을 입력하시오\")\n",
    "\n",
    "db1.sql_query(query2, input_id, input_pass, input_name)"
   ]
  },
  {
   "cell_type": "code",
   "execution_count": null,
   "metadata": {},
   "outputs": [],
   "source": []
  }
 ],
 "metadata": {
  "kernelspec": {
   "display_name": "Python 3",
   "language": "python",
   "name": "python3"
  },
  "language_info": {
   "codemirror_mode": {
    "name": "ipython",
    "version": 3
   },
   "file_extension": ".py",
   "mimetype": "text/x-python",
   "name": "python",
   "nbconvert_exporter": "python",
   "pygments_lexer": "ipython3",
   "version": "3.11.4"
  }
 },
 "nbformat": 4,
 "nbformat_minor": 2
}
