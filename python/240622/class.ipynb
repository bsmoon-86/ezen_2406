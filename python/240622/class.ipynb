{
 "cells": [
  {
   "cell_type": "markdown",
   "metadata": {},
   "source": [
    "#### class \n",
    "- class 선언 -> class 생성 -> class 안에 변수나 함수를 호출\n",
    "- class의 이름은 일반적으로 앞글자를 대문자로 사용(선택 사항)\n",
    "- 변수 + 함수의 결합체 \n",
    "\n",
    "#### 변수의 종류 \n",
    "- 전역 변수 \n",
    "    - 어디서든 사용이 가능한 변수를 의미\n",
    "    - 글로벌 변수라 부르기도 한다. \n",
    "    - globals()에 변수가 저장\n",
    "- 지역 변수 \n",
    "    - 특정한 영역에서 사용이 가능한 변수를 의미\n",
    "    - 함수, 클래스 내부에서 만들어진 변수\n",
    "    - 휘발성 변수라 부르기도 한다. \n",
    "- 매개 변수 \n",
    "    - 함수를 선언할 때 입력 값을 받는 공간\n",
    "    - 함수에서 return후 데이터가 소멸\n",
    "- 객체 변수 \n",
    "    - class 내부에서 생성된 변수 중 하나\n",
    "    - 각각의 class마다 독립적인 공간을 생성하여 데이터를 저장\n",
    "- 클래스 변수\n",
    "    - class 내부에서 생성된 변수 중 하나 \n",
    "    - 객체 변수와는 다르게 각각의 class들이 서로 공유하는 공간"
   ]
  },
  {
   "cell_type": "code",
   "execution_count": 16,
   "metadata": {},
   "outputs": [],
   "source": [
    "# class 선언 \n",
    "class Test:\n",
    "    # 변수(class변수) 생성 \n",
    "    user_list = []\n",
    "\n",
    "    # 함수 생성 \n",
    "    def regist(self, _name, _age):\n",
    "        # 객체 변수 생성 \n",
    "        self.name = _name\n",
    "        self.age = _age\n",
    "        self.user_list.append(_name) "
   ]
  },
  {
   "cell_type": "code",
   "execution_count": 17,
   "metadata": {},
   "outputs": [],
   "source": [
    "# class 생성 \n",
    "student1 = Test()"
   ]
  },
  {
   "cell_type": "code",
   "execution_count": 19,
   "metadata": {},
   "outputs": [
    {
     "name": "stdout",
     "output_type": "stream",
     "text": [
      "[]\n"
     ]
    }
   ],
   "source": [
    "# class 안에 있는 변수, 함수를 호출 \n",
    "print(student1.user_list)"
   ]
  },
  {
   "cell_type": "code",
   "execution_count": 20,
   "metadata": {},
   "outputs": [],
   "source": [
    "student2 = Test()"
   ]
  },
  {
   "cell_type": "code",
   "execution_count": 21,
   "metadata": {},
   "outputs": [
    {
     "name": "stdout",
     "output_type": "stream",
     "text": [
      "[]\n"
     ]
    }
   ],
   "source": [
    "print(student2.user_list)"
   ]
  },
  {
   "cell_type": "code",
   "execution_count": 22,
   "metadata": {},
   "outputs": [
    {
     "ename": "AttributeError",
     "evalue": "'Test' object has no attribute 'name'",
     "output_type": "error",
     "traceback": [
      "\u001b[1;31m---------------------------------------------------------------------------\u001b[0m",
      "\u001b[1;31mAttributeError\u001b[0m                            Traceback (most recent call last)",
      "Cell \u001b[1;32mIn[22], line 3\u001b[0m\n\u001b[0;32m      1\u001b[0m \u001b[38;5;66;03m# 에러 발생 : name이라는 변수가 존재하지 않는다.\u001b[39;00m\n\u001b[0;32m      2\u001b[0m \u001b[38;5;66;03m# 이유 : regist 함수에서 name이라는 변수를 생성하기 때문\u001b[39;00m\n\u001b[1;32m----> 3\u001b[0m \u001b[38;5;28mprint\u001b[39m(\u001b[43mstudent1\u001b[49m\u001b[38;5;241;43m.\u001b[39;49m\u001b[43mname\u001b[49m)\n",
      "\u001b[1;31mAttributeError\u001b[0m: 'Test' object has no attribute 'name'"
     ]
    }
   ],
   "source": [
    "# 에러 발생 : name이라는 변수가 존재하지 않는다.\n",
    "# 이유 : regist 함수에서 name이라는 변수를 생성하기 때문\n",
    "print(student1.name)"
   ]
  },
  {
   "cell_type": "code",
   "execution_count": 23,
   "metadata": {},
   "outputs": [],
   "source": [
    "# regist()함수는 매개변수가 3개 존재\n",
    "# self -> class가 생성된 위치(자동적으로 입력)\n",
    "# _name, _age 매개변수에는 기본값이 존재하지 않기때문에 인자 값을 입력(필수)\n",
    "student1.regist('Kim', 30)"
   ]
  },
  {
   "cell_type": "code",
   "execution_count": 24,
   "metadata": {},
   "outputs": [],
   "source": [
    "student2.regist('Park', 20)"
   ]
  },
  {
   "cell_type": "code",
   "execution_count": 26,
   "metadata": {},
   "outputs": [
    {
     "name": "stdout",
     "output_type": "stream",
     "text": [
      "Kim\n",
      "30\n",
      "['Kim', 'Park']\n"
     ]
    }
   ],
   "source": [
    "# student1안에 존재하는 변수 name, age, class_a를 확인\n",
    "print(student1.name)    # 'Kim' || 'Park'\n",
    "print(student1.age)     # 30 || 20\n",
    "print(student1.user_list) # 101 || 102"
   ]
  },
  {
   "cell_type": "code",
   "execution_count": 27,
   "metadata": {},
   "outputs": [
    {
     "name": "stdout",
     "output_type": "stream",
     "text": [
      "Park\n",
      "20\n",
      "['Kim', 'Park']\n"
     ]
    }
   ],
   "source": [
    "print(student2.name)\n",
    "print(student2.age)\n",
    "print(student2.user_list)"
   ]
  },
  {
   "cell_type": "code",
   "execution_count": 28,
   "metadata": {},
   "outputs": [],
   "source": [
    "# 생성자 함수가 존재하는 클래스 선언 \n",
    "class Calculate:\n",
    "    # 생성자 함수 : 클래스가 생성이 될때 자동적으로 실행이 되는 함수 \n",
    "    def __init__(self, _x, _y):\n",
    "        # 객체 변수 x, y를 생성하여 매개변수 _x, _y에 대입이 되는 인자값들을 저장\n",
    "        self.x = _x\n",
    "        self.y = _y\n",
    "    \n",
    "    # 두개의 객체 변수를 더한 결과 값을 되돌려주는 함수 생성 \n",
    "    def add(self):\n",
    "        result = self.x + self.y\n",
    "        return result\n",
    "\n",
    "    # 두개의 객체 변수를 뺀 결과 값을 되돌려주는 함수를 생성 \n",
    "    def subtract(self):\n",
    "        result = self.x - self.y\n",
    "        return result"
   ]
  },
  {
   "cell_type": "code",
   "execution_count": 30,
   "metadata": {},
   "outputs": [],
   "source": [
    "# class 생성 \n",
    "cal1 = Calculate(10, 3)\n",
    "cal2 = Calculate(20, 8)"
   ]
  },
  {
   "cell_type": "code",
   "execution_count": 31,
   "metadata": {},
   "outputs": [
    {
     "name": "stdout",
     "output_type": "stream",
     "text": [
      "10\n",
      "20\n"
     ]
    }
   ],
   "source": [
    "print(cal1.x)\n",
    "print(cal2.x)"
   ]
  },
  {
   "cell_type": "code",
   "execution_count": 32,
   "metadata": {},
   "outputs": [
    {
     "name": "stdout",
     "output_type": "stream",
     "text": [
      "13\n",
      "28\n"
     ]
    }
   ],
   "source": [
    "print(cal1.add())\n",
    "print(cal2.add())"
   ]
  },
  {
   "cell_type": "code",
   "execution_count": 33,
   "metadata": {},
   "outputs": [
    {
     "name": "stdout",
     "output_type": "stream",
     "text": [
      "7\n",
      "12\n"
     ]
    }
   ],
   "source": [
    "print(cal1.subtract())\n",
    "print(cal2.subtract())"
   ]
  },
  {
   "cell_type": "markdown",
   "metadata": {},
   "source": [
    "### class 생성 \n",
    "- class 이름은 Wallet\n",
    "- 생성자 함수에는 소유자의 이름, 나이, 휴대폰번호, 잔고(기본값을 0)값들을 객체 변수에 대입\n",
    "- 일을 한다는 함수를 생성 ( 일의 종류에 따라 잔고가 증가한다. )\n",
    "- 소비를 한다는 함수를 생성 ( 구매하는 물건의 종류에 따라 잔고가 감소한다. )\n",
    "- 지갑의 잔액을 확인하는 함수를 생성 "
   ]
  },
  {
   "cell_type": "code",
   "execution_count": null,
   "metadata": {},
   "outputs": [],
   "source": [
    "class Wallet:\n",
    "\n",
    "    # 생성자 함수 : 지갑의 소유자의 정보와 잔고를 입력하는 함수\n",
    "    def __init__(self, _name, _age, _phone, _balance = 0):\n",
    "        self.name = _name\n",
    "        self.age = _age\n",
    "        self.phone = _phone\n",
    "        self.balance = _balance"
   ]
  }
 ],
 "metadata": {
  "kernelspec": {
   "display_name": "base",
   "language": "python",
   "name": "python3"
  },
  "language_info": {
   "codemirror_mode": {
    "name": "ipython",
    "version": 3
   },
   "file_extension": ".py",
   "mimetype": "text/x-python",
   "name": "python",
   "nbconvert_exporter": "python",
   "pygments_lexer": "ipython3",
   "version": "3.11.4"
  }
 },
 "nbformat": 4,
 "nbformat_minor": 2
}
