{
 "cells": [
  {
   "cell_type": "markdown",
   "metadata": {},
   "source": [
    "#### 문자열에서 제공하는 함수"
   ]
  },
  {
   "cell_type": "code",
   "execution_count": 1,
   "metadata": {},
   "outputs": [],
   "source": [
    "# 문자열의 길이를 출력하는 함수 \n",
    "a = \"Hello\"\n",
    "b = \" Hello \""
   ]
  },
  {
   "cell_type": "code",
   "execution_count": 2,
   "metadata": {},
   "outputs": [
    {
     "name": "stdout",
     "output_type": "stream",
     "text": [
      "5\n",
      "7\n"
     ]
    }
   ],
   "source": [
    "print(len(a))\n",
    "print(len(b))"
   ]
  },
  {
   "cell_type": "code",
   "execution_count": 3,
   "metadata": {},
   "outputs": [
    {
     "name": "stdout",
     "output_type": "stream",
     "text": [
      "False\n"
     ]
    }
   ],
   "source": [
    "print(a == b)"
   ]
  },
  {
   "cell_type": "code",
   "execution_count": null,
   "metadata": {},
   "outputs": [],
   "source": [
    "# 문자의 형태를 변환 (대, 소문자를 변환)\n",
    "c = \"Hello world\"\n",
    "\n",
    "# 모든 문자를 대문자로 변경\n",
    "print(c.upper())\n",
    "# 모든 문자를 소문자로 변경 \n",
    "print(c.lower())\n",
    "# 대문자를 소문자로 소문자를 대문자로 변경\n",
    "print(c.swapcase())\n",
    "# 단어의 첫글자만 대문자로 변경\n",
    "print(c.title())"
   ]
  },
  {
   "cell_type": "code",
   "execution_count": 6,
   "metadata": {},
   "outputs": [
    {
     "name": "stdout",
     "output_type": "stream",
     "text": [
      "False\n",
      "True\n"
     ]
    }
   ],
   "source": [
    "x = \"hello\"\n",
    "y = \"Hello\"\n",
    "print(x == y)\n",
    "# x의 데이터를 단어의 첫글자만 대문자로 변환한 뒤 비교\n",
    "x = x.title()\n",
    "print(x == y)"
   ]
  },
  {
   "cell_type": "code",
   "execution_count": 7,
   "metadata": {},
   "outputs": [],
   "source": [
    "_list = [10, 30, 20, 40]\n",
    "# 오름차순 정렬 \n",
    "_list.sort()"
   ]
  },
  {
   "cell_type": "code",
   "execution_count": 8,
   "metadata": {},
   "outputs": [
    {
     "name": "stdout",
     "output_type": "stream",
     "text": [
      "[10, 20, 30, 40]\n"
     ]
    }
   ],
   "source": [
    "print(_list)"
   ]
  },
  {
   "cell_type": "code",
   "execution_count": 10,
   "metadata": {},
   "outputs": [
    {
     "name": "stdout",
     "output_type": "stream",
     "text": [
      "HELLO\n"
     ]
    }
   ],
   "source": [
    "x = \"hello\"\n",
    "# 모든 문자 대문자로 변경\n",
    "x = x.upper()\n",
    "print(x)"
   ]
  },
  {
   "cell_type": "code",
   "execution_count": 13,
   "metadata": {},
   "outputs": [],
   "source": [
    "# 문자열에서 시작과 끝의 공백을 제거 \n",
    "a = \"Hello World\"\n",
    "b = \"  Hello World  \""
   ]
  },
  {
   "cell_type": "code",
   "execution_count": 14,
   "metadata": {},
   "outputs": [
    {
     "name": "stdout",
     "output_type": "stream",
     "text": [
      "Hello World\n",
      "  Hello World  \n"
     ]
    }
   ],
   "source": [
    "print(a)\n",
    "print(b)"
   ]
  },
  {
   "cell_type": "code",
   "execution_count": 15,
   "metadata": {},
   "outputs": [
    {
     "data": {
      "text/plain": [
       "'  Hello World  '"
      ]
     },
     "execution_count": 15,
     "metadata": {},
     "output_type": "execute_result"
    }
   ],
   "source": [
    "b"
   ]
  },
  {
   "cell_type": "code",
   "execution_count": 16,
   "metadata": {},
   "outputs": [
    {
     "data": {
      "text/plain": [
       "'Hello World'"
      ]
     },
     "execution_count": 16,
     "metadata": {},
     "output_type": "execute_result"
    }
   ],
   "source": [
    "# strip() -> 문자열에 좌우의 공백을 제거 \n",
    "# lstrip() -> 문자열의 좌측(시작)의 공백 제거 \n",
    "# rstrip() -> 문자열의 우측(끝)의 공백 제거 \n",
    "b.strip()"
   ]
  },
  {
   "cell_type": "code",
   "execution_count": 17,
   "metadata": {},
   "outputs": [
    {
     "data": {
      "text/plain": [
       "'Hello World  '"
      ]
     },
     "execution_count": 17,
     "metadata": {},
     "output_type": "execute_result"
    }
   ],
   "source": [
    "b.lstrip()"
   ]
  },
  {
   "cell_type": "code",
   "execution_count": 18,
   "metadata": {},
   "outputs": [
    {
     "data": {
      "text/plain": [
       "'  Hello World'"
      ]
     },
     "execution_count": 18,
     "metadata": {},
     "output_type": "execute_result"
    }
   ],
   "source": [
    "b.rstrip()"
   ]
  },
  {
   "cell_type": "code",
   "execution_count": 20,
   "metadata": {},
   "outputs": [
    {
     "name": "stdout",
     "output_type": "stream",
     "text": [
      "False\n",
      "True\n"
     ]
    }
   ],
   "source": [
    "# a와 b를 비교 \n",
    "print(a == b)\n",
    "# b의 좌우의 공백을 제거한 뒤 비교\n",
    "b = b.strip()\n",
    "print(a == b)"
   ]
  },
  {
   "cell_type": "code",
   "execution_count": 21,
   "metadata": {},
   "outputs": [],
   "source": [
    "price1 = \"$10\"\n",
    "price2 = \"20$\""
   ]
  },
  {
   "cell_type": "code",
   "execution_count": 22,
   "metadata": {},
   "outputs": [
    {
     "name": "stdout",
     "output_type": "stream",
     "text": [
      "$1020$\n"
     ]
    }
   ],
   "source": [
    "print(price1 + price2)"
   ]
  },
  {
   "cell_type": "code",
   "execution_count": 24,
   "metadata": {},
   "outputs": [
    {
     "name": "stdout",
     "output_type": "stream",
     "text": [
      "10 20\n"
     ]
    }
   ],
   "source": [
    "# price1과 price2를 숫자 타입을 변경하기 위해서는 '$'를 제거 \n",
    "# price1에는 문자열 시작에 있는 '$'제거 \n",
    "# price2에는 문자열 끝에 있는 '$'제거 \n",
    "# 숫자의 타입으로 변경 \n",
    "price1 = price1.lstrip('$')\n",
    "price2 = price2.rstrip('$')\n",
    "print(price1, price2)"
   ]
  },
  {
   "cell_type": "code",
   "execution_count": 25,
   "metadata": {},
   "outputs": [
    {
     "name": "stdout",
     "output_type": "stream",
     "text": [
      "30\n"
     ]
    }
   ],
   "source": [
    "price1 = int(price1)\n",
    "price2 = int(price2)\n",
    "print(price1 + price2)"
   ]
  },
  {
   "cell_type": "code",
   "execution_count": null,
   "metadata": {},
   "outputs": [],
   "source": [
    "# 에러 발생 : 숫자 타입으로 변경할때 ','는 숫자로 변경이 불가능\n",
    "# strip()은 문자열의 시작과 끝을 제거하는 부분으로 ','제거가 불가능\n",
    "# replace() 함수를 이용하여 문자열 사이에 있는 데이터를 변환\n",
    "price3 = '$1,000.99'\n",
    "price3 = price3.lstrip('$')\n",
    "price3 = float(price3)\n",
    "print(price3)"
   ]
  },
  {
   "cell_type": "code",
   "execution_count": 27,
   "metadata": {},
   "outputs": [
    {
     "name": "stdout",
     "output_type": "stream",
     "text": [
      "1000.99 <class 'str'>\n",
      "1000.99 <class 'float'>\n"
     ]
    }
   ],
   "source": [
    "price3 = '$1,000.99'\n",
    "price3 = price3.lstrip('$')\n",
    "# ','를 제거 \n",
    "price3 = price3.replace(',', '')\n",
    "print(price3, type(price3)) # 1000.99  str\n",
    "price3 = float(price3)\n",
    "print(price3, type(price3)) # 1000.99  float"
   ]
  },
  {
   "cell_type": "code",
   "execution_count": 28,
   "metadata": {},
   "outputs": [],
   "source": [
    "name1 = \"상품A\"\n",
    "name2 = \"상 품 a\""
   ]
  },
  {
   "cell_type": "code",
   "execution_count": 31,
   "metadata": {},
   "outputs": [
    {
     "name": "stdout",
     "output_type": "stream",
     "text": [
      "True\n"
     ]
    }
   ],
   "source": [
    "# name2를 name1과 같은 데이터로 변환\n",
    "# 문자열을 대문자로 변경\n",
    "# 문자열 사이에 공백을 제거 \n",
    "# name1과 name2가 같은가?\n",
    "# name2.replace('a', 'A')\n",
    "name2 = name2.upper()\n",
    "name2 = name2.replace(' ', '')\n",
    "print(name1 == name2)"
   ]
  },
  {
   "cell_type": "code",
   "execution_count": 32,
   "metadata": {},
   "outputs": [
    {
     "name": "stdout",
     "output_type": "stream",
     "text": [
      "a b c d <class 'str'>\n"
     ]
    }
   ],
   "source": [
    "# 특정 문자열을 기준으로 문자를 나눠준다. \n",
    "d = \"a b c d\"\n",
    "print(d, type(d))"
   ]
  },
  {
   "cell_type": "code",
   "execution_count": 33,
   "metadata": {},
   "outputs": [
    {
     "name": "stdout",
     "output_type": "stream",
     "text": [
      "['a', 'b', 'c', 'd'] <class 'list'>\n"
     ]
    }
   ],
   "source": [
    "# 공백을 기준으로 문자열을 나눈다.\n",
    "d_list = d.split()\n",
    "print(d_list, type(d_list))"
   ]
  },
  {
   "cell_type": "code",
   "execution_count": 37,
   "metadata": {},
   "outputs": [
    {
     "name": "stdout",
     "output_type": "stream",
     "text": [
      "['c:', 'users', 'a.txt']\n",
      "a.txt\n",
      "['a', 'txt']\n",
      "a\n",
      "txt\n"
     ]
    }
   ],
   "source": [
    "# 파일의 경로와 파일의 이름 \n",
    "file_path = \"c:/users/a.txt\"\n",
    "# 파일의 이름과 확장자를 따로 추출\n",
    "# 1. '/'를 기준으로 문자열을 나눠준다.\n",
    "_list = file_path.split('/')\n",
    "print(_list)\n",
    "# 2. _list의 마지막 문자열을 추출\n",
    "file = _list[-1]\n",
    "print(file)\n",
    "# 3. file에서 '.'을 기준으로 데이터를 나눠준다. \n",
    "print(file.split('.'))\n",
    "file_name, file_end = file.split('.')\n",
    "print(file_name)\n",
    "print(file_end)"
   ]
  },
  {
   "cell_type": "code",
   "execution_count": 40,
   "metadata": {},
   "outputs": [],
   "source": [
    "# 문자열의 시작과 비교를 하는 방법 \n",
    "sql_query = \"select * from user\"\n",
    "sql_query2 = \"\"\"\n",
    "    SELECT \n",
    "    * \n",
    "    from \n",
    "    user\n",
    "\"\"\""
   ]
  },
  {
   "cell_type": "code",
   "execution_count": 45,
   "metadata": {},
   "outputs": [
    {
     "name": "stdout",
     "output_type": "stream",
     "text": [
      "['SELECT', '*', 'from', 'user']\n",
      "SELECT\n",
      "True\n"
     ]
    }
   ],
   "source": [
    "# sql_query와 sql_query2라는 문자열에서 문자의 시작이 select 인가?\n",
    "# sql_query인 경우\n",
    "# 1. 공백을 기준으로 데이터를 나눠준다. \n",
    "_query = sql_query2.split()\n",
    "print(_query)\n",
    "# 2. 첫번째 원소를 추출\n",
    "_keyword = _query[0]\n",
    "print(_keyword)\n",
    "# 3. _keyword를 소문자로 변경\n",
    "_keyword = _keyword.lower()\n",
    "# 4. 'select'와 같은가를 비교\n",
    "print(_keyword == 'select')"
   ]
  },
  {
   "cell_type": "code",
   "execution_count": 46,
   "metadata": {},
   "outputs": [
    {
     "data": {
      "text/plain": [
       "True"
      ]
     },
     "execution_count": 46,
     "metadata": {},
     "output_type": "execute_result"
    }
   ],
   "source": [
    "# 문자열의 시작이 특정 문자와 같은가? 함수가 존재 \n",
    "sql_query.startswith('select')"
   ]
  },
  {
   "cell_type": "code",
   "execution_count": 52,
   "metadata": {},
   "outputs": [
    {
     "data": {
      "text/plain": [
       "True"
      ]
     },
     "execution_count": 52,
     "metadata": {},
     "output_type": "execute_result"
    }
   ],
   "source": [
    "sql_query2.lstrip().lower().startswith('select')"
   ]
  },
  {
   "cell_type": "code",
   "execution_count": 48,
   "metadata": {},
   "outputs": [
    {
     "data": {
      "text/plain": [
       "'\\n    SELECT \\n    * \\n    from \\n    user\\n'"
      ]
     },
     "execution_count": 48,
     "metadata": {},
     "output_type": "execute_result"
    }
   ],
   "source": [
    "sql_query2"
   ]
  },
  {
   "cell_type": "markdown",
   "metadata": {},
   "source": [
    "### 일반 함수 \n",
    "- def 키워드를 이용해서 함수를 선언 \n",
    "- 특정 입력값을 가지고 작업을 실행하고 결과물을 되돌려주는 기능 \n",
    "- 매개변수는 0개 이상으로 선언이 가능"
   ]
  },
  {
   "cell_type": "code",
   "execution_count": 53,
   "metadata": {},
   "outputs": [],
   "source": [
    "# 매개변수가 존재하지 않은 함수를 선언 \n",
    "def func_1():\n",
    "    return \"Hello World\"\n",
    "# func_1() 함수는 함수를 호출할 때마다 'Hello World' 문자열을 되돌려준다. "
   ]
  },
  {
   "cell_type": "code",
   "execution_count": 54,
   "metadata": {},
   "outputs": [
    {
     "name": "stdout",
     "output_type": "stream",
     "text": [
      "Hello World\n",
      "Hello World\n"
     ]
    }
   ],
   "source": [
    "a = func_1()\n",
    "b = func_1()\n",
    "print(a)\n",
    "print(b)"
   ]
  },
  {
   "cell_type": "code",
   "execution_count": null,
   "metadata": {},
   "outputs": [],
   "source": [
    "# 에러 발생 코드 \n",
    "# func_1를 호출할 때 인자 값을 대입 \n",
    "# 매개변수가 존재하지 않는 함수에서 인자를 대입하면 에러 발생\n",
    "c = func_1(10)\n",
    "print(c)"
   ]
  },
  {
   "cell_type": "code",
   "execution_count": 56,
   "metadata": {},
   "outputs": [],
   "source": [
    "# 매개 변수가 존재하는 함수 선언\n",
    "def func_2(_x, _y):\n",
    "    result = _x + _y\n",
    "    return result\n",
    "# 두개의 인자(입력값)를 받아서 더해준 다음 되돌려준다. "
   ]
  },
  {
   "cell_type": "code",
   "execution_count": 57,
   "metadata": {},
   "outputs": [
    {
     "name": "stdout",
     "output_type": "stream",
     "text": [
      "15\n",
      "HelloWorld\n"
     ]
    }
   ],
   "source": [
    "res1 = func_2(10, 5)\n",
    "res2 = func_2('Hello', 'World')\n",
    "print(res1)\n",
    "print(res2)"
   ]
  },
  {
   "cell_type": "code",
   "execution_count": 58,
   "metadata": {},
   "outputs": [
    {
     "ename": "TypeError",
     "evalue": "func_2() missing 1 required positional argument: '_y'",
     "output_type": "error",
     "traceback": [
      "\u001b[1;31m---------------------------------------------------------------------------\u001b[0m",
      "\u001b[1;31mTypeError\u001b[0m                                 Traceback (most recent call last)",
      "Cell \u001b[1;32mIn[58], line 2\u001b[0m\n\u001b[0;32m      1\u001b[0m \u001b[38;5;66;03m# func_2를 호출하면서 인자 개수를 1개를 입력\u001b[39;00m\n\u001b[1;32m----> 2\u001b[0m \u001b[38;5;28mprint\u001b[39m(\u001b[43mfunc_2\u001b[49m\u001b[43m(\u001b[49m\u001b[38;5;241;43m10\u001b[39;49m\u001b[43m)\u001b[49m)\n",
      "\u001b[1;31mTypeError\u001b[0m: func_2() missing 1 required positional argument: '_y'"
     ]
    }
   ],
   "source": [
    "# func_2를 호출하면서 인자 개수를 1개를 입력\n",
    "print(func_2(10))"
   ]
  },
  {
   "cell_type": "code",
   "execution_count": 59,
   "metadata": {},
   "outputs": [
    {
     "ename": "TypeError",
     "evalue": "func_2() takes 2 positional arguments but 3 were given",
     "output_type": "error",
     "traceback": [
      "\u001b[1;31m---------------------------------------------------------------------------\u001b[0m",
      "\u001b[1;31mTypeError\u001b[0m                                 Traceback (most recent call last)",
      "Cell \u001b[1;32mIn[59], line 2\u001b[0m\n\u001b[0;32m      1\u001b[0m \u001b[38;5;66;03m# func_2를 호출하면서 인자 개수를 3개를 입력\u001b[39;00m\n\u001b[1;32m----> 2\u001b[0m \u001b[38;5;28mprint\u001b[39m(\u001b[43mfunc_2\u001b[49m\u001b[43m(\u001b[49m\u001b[38;5;241;43m10\u001b[39;49m\u001b[43m,\u001b[49m\u001b[43m \u001b[49m\u001b[38;5;241;43m20\u001b[39;49m\u001b[43m,\u001b[49m\u001b[43m \u001b[49m\u001b[38;5;241;43m30\u001b[39;49m\u001b[43m)\u001b[49m)\n",
      "\u001b[1;31mTypeError\u001b[0m: func_2() takes 2 positional arguments but 3 were given"
     ]
    }
   ],
   "source": [
    "# func_2를 호출하면서 인자 개수를 3개를 입력\n",
    "print(func_2(10, 20, 30))"
   ]
  },
  {
   "cell_type": "code",
   "execution_count": 64,
   "metadata": {},
   "outputs": [
    {
     "name": "stdout",
     "output_type": "stream",
     "text": [
      "Hello\t10\n"
     ]
    }
   ],
   "source": [
    "print('Hello', end='\\t')\n",
    "print(10)"
   ]
  },
  {
   "cell_type": "code",
   "execution_count": 65,
   "metadata": {},
   "outputs": [],
   "source": [
    "# 매개변수가 존재하는 함수 선언 (매개변수에 기본값을 지정을 하는 경우)\n",
    "def func_3(_x, _y = 10):\n",
    "    result = _x + _y\n",
    "    return result"
   ]
  },
  {
   "cell_type": "code",
   "execution_count": 66,
   "metadata": {},
   "outputs": [
    {
     "name": "stdout",
     "output_type": "stream",
     "text": [
      "15\n"
     ]
    }
   ],
   "source": [
    "print(func_3(5))\n",
    "# func_3() 호출  : 인자 5\n",
    "#  _x = 5, _y = 10\n",
    "# result라는 변수를 생성하여 5 + 10의 결과를 대입 \n",
    "# result를 되돌려준다.\n",
    "# _x, _y, result라는 공간을 초기화(휘발성 데이터)"
   ]
  },
  {
   "cell_type": "code",
   "execution_count": 67,
   "metadata": {},
   "outputs": [
    {
     "name": "stdout",
     "output_type": "stream",
     "text": [
      "60\n"
     ]
    }
   ],
   "source": [
    "print(func_3(10, 50))\n",
    "# func_3() 호출 : 인자 10, 50\n",
    "# _x = 10 대입\n",
    "# _y = 10 대입 -> _y = 50 대입\n",
    "# result 변수를 생성하여 10 + 50의 결과를 대입\n",
    "# result를 되돌려준다.\n",
    "# _x, _y, result라는 공간을 초기화(휘발성 데이터)"
   ]
  },
  {
   "cell_type": "code",
   "execution_count": 70,
   "metadata": {},
   "outputs": [
    {
     "name": "stdout",
     "output_type": "stream",
     "text": [
      "60\n"
     ]
    }
   ],
   "source": [
    "print(\n",
    "    sum(\n",
    "        [10, 20, 30]\n",
    "    )\n",
    ")"
   ]
  },
  {
   "cell_type": "code",
   "execution_count": 71,
   "metadata": {},
   "outputs": [],
   "source": [
    "# sum() 함수와 같은 기능을 가진 함수를 선언\n",
    "# 매개변수 1개\n",
    "def sum_c(_data):\n",
    "    # _data는 튜플이나 리스트의 형태로 데이터가 입력\n",
    "    # ex) _data = (10, 20, 30) -> 10 + 20 + 30의 결과를 되돌려준다.\n",
    "    # result = _data[0] + _data[1] + _data[2]\n",
    "    #   result += _data[0], result += _data[1], result += _data[2]\n",
    "    # 합계라는 초기값 변수를 생성\n",
    "    result = 0\n",
    "    for i in range(0, len(_data), 1):\n",
    "        # result에 누적합\n",
    "        result += _data[i]\n",
    "    # result를 되돌려준다.\n",
    "    return result\n"
   ]
  },
  {
   "cell_type": "code",
   "execution_count": 72,
   "metadata": {},
   "outputs": [
    {
     "name": "stdout",
     "output_type": "stream",
     "text": [
      "60\n"
     ]
    }
   ],
   "source": [
    "print(sum_c(\n",
    "    [10, 20, 30]\n",
    "))"
   ]
  },
  {
   "cell_type": "code",
   "execution_count": 75,
   "metadata": {},
   "outputs": [],
   "source": [
    "# 평균을 구하는 함수를 선언\n",
    "# 매개변수 1개\n",
    "def mean_c(_data):\n",
    "    # 합계를 구하는 부분 \n",
    "    # 합계라는 초기 값을 지정 \n",
    "    # result = 0\n",
    "    # for i in _data:\n",
    "    #     # i에 대입이 되는 데이터는 _data에 각 원소의 값\n",
    "    #     print(i)\n",
    "    #     result += i\n",
    "    result = sum_c(_data)\n",
    "    # 평균 -> 합계 / 개수\n",
    "    mean_result = result / len(_data)\n",
    "    # 평균을 되돌려준다. \n",
    "    return mean_result"
   ]
  },
  {
   "cell_type": "code",
   "execution_count": 76,
   "metadata": {},
   "outputs": [
    {
     "name": "stdout",
     "output_type": "stream",
     "text": [
      "20.0\n"
     ]
    }
   ],
   "source": [
    "print(mean_c([10, 20, 30]))"
   ]
  },
  {
   "cell_type": "code",
   "execution_count": 77,
   "metadata": {},
   "outputs": [],
   "source": [
    "# 인자의 개수가 가변인 경우 \n",
    "def func_4(*args):\n",
    "    print(args)\n",
    "    print(type(args))"
   ]
  },
  {
   "cell_type": "code",
   "execution_count": 79,
   "metadata": {},
   "outputs": [
    {
     "name": "stdout",
     "output_type": "stream",
     "text": [
      "(1, 2, 3, 4)\n",
      "<class 'tuple'>\n",
      "None\n"
     ]
    }
   ],
   "source": [
    "print(func_4(1,2,3,4))\n"
   ]
  },
  {
   "cell_type": "code",
   "execution_count": 81,
   "metadata": {},
   "outputs": [
    {
     "name": "stdout",
     "output_type": "stream",
     "text": [
      "None\n"
     ]
    }
   ],
   "source": [
    "print(_list.sort())"
   ]
  },
  {
   "cell_type": "code",
   "execution_count": 82,
   "metadata": {},
   "outputs": [
    {
     "name": "stdout",
     "output_type": "stream",
     "text": [
      "('a', 'b', 'c', 'd', 'e')\n",
      "<class 'tuple'>\n",
      "None\n"
     ]
    }
   ],
   "source": [
    "print(func_4('a', 'b', 'c', 'd', 'e'))"
   ]
  },
  {
   "cell_type": "code",
   "execution_count": null,
   "metadata": {},
   "outputs": [],
   "source": [
    "# 인자의 개수가 가변인 함수를 생성하여 인자값들의 평균을 되돌려주는 함수를 생성\n",
    "# 매개변수 : 가변 인자값을 담을수 있는 1개의 매개변수\n",
    "\n",
    "# 함수(mean_c2)를 선언\n",
    "\n",
    "    # 가변으로 들어온 인자값들의 합계를 변수에 대입 \n",
    "\n",
    "    # 합계 / 인자의 개수의 결과는 변수에 대입 \n",
    "\n",
    "    # 평균 결과를 되돌려준다. "
   ]
  },
  {
   "cell_type": "code",
   "execution_count": null,
   "metadata": {},
   "outputs": [],
   "source": [
    "print(mean_c2(1,2,3,4,5,6,7,8,9,10))"
   ]
  }
 ],
 "metadata": {
  "kernelspec": {
   "display_name": "base",
   "language": "python",
   "name": "python3"
  },
  "language_info": {
   "codemirror_mode": {
    "name": "ipython",
    "version": 3
   },
   "file_extension": ".py",
   "mimetype": "text/x-python",
   "name": "python",
   "nbconvert_exporter": "python",
   "pygments_lexer": "ipython3",
   "version": "3.11.4"
  }
 },
 "nbformat": 4,
 "nbformat_minor": 2
}
