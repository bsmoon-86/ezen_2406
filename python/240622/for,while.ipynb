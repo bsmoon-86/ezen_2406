{
 "cells": [
  {
   "cell_type": "markdown",
   "metadata": {},
   "source": [
    "### while문 \n",
    "- 시작값 지정하고 while 뒤의 조건식이 거짓이 될때까지 반복 실행\n",
    "- 반복 실행하는 코드에서 시작 값을 증가시키는 코드를 추가 \n",
    "- 유의할 점 : 무한 반복"
   ]
  },
  {
   "cell_type": "code",
   "execution_count": 4,
   "metadata": {},
   "outputs": [
    {
     "name": "stdout",
     "output_type": "stream",
     "text": [
      "1\t2\t3\t4\t5\t6\t7\t8\t9\t"
     ]
    }
   ],
   "source": [
    "# 시작 값 지정 \n",
    "i = 1\n",
    "# while 조건식 작성\n",
    "while i < 10:\n",
    "    print(i, end = '\\t')\n",
    "    # 시작값을 증가시키는 코드 \n",
    "    # i = i + 1\n",
    "    i += 1"
   ]
  },
  {
   "cell_type": "code",
   "execution_count": 5,
   "metadata": {},
   "outputs": [
    {
     "name": "stdout",
     "output_type": "stream",
     "text": [
      "2\t3\t4\t5\t6\t7\t8\t9\t10\t"
     ]
    }
   ],
   "source": [
    "i = 1 \n",
    "while i < 10:\n",
    "    i += 1\n",
    "    print(i, end='\\t')"
   ]
  },
  {
   "cell_type": "code",
   "execution_count": 7,
   "metadata": {},
   "outputs": [],
   "source": [
    "# 무한 반복\n",
    "# i = 1\n",
    "# while i < 10:\n",
    "#     print(i)"
   ]
  },
  {
   "cell_type": "code",
   "execution_count": 10,
   "metadata": {},
   "outputs": [
    {
     "name": "stdout",
     "output_type": "stream",
     "text": [
      "5050\n"
     ]
    }
   ],
   "source": [
    "# 반복문을 이용해서 숫자 1부터 100까지의 합계 \n",
    "\n",
    "# 합계의 데이터를 저장할 공간 필요\n",
    "result = 0\n",
    "\n",
    "# for문\n",
    "for i in range(1, 101, 1):\n",
    "    # 반복 실행할 코드 \n",
    "    # i를 result에 누적합\n",
    "    result = result + i\n",
    "print(result)"
   ]
  },
  {
   "cell_type": "code",
   "execution_count": 11,
   "metadata": {},
   "outputs": [
    {
     "name": "stdout",
     "output_type": "stream",
     "text": [
      "5050\n"
     ]
    }
   ],
   "source": [
    "# while문 \n",
    "result = 0\n",
    "i = 1\n",
    "\n",
    "while i <= 100:\n",
    "    # reulst에 i를 누적합 \n",
    "    result += i\n",
    "    # i값을 1씩 증가\n",
    "    i += 1\n",
    "print(result)"
   ]
  },
  {
   "cell_type": "code",
   "execution_count": 12,
   "metadata": {},
   "outputs": [
    {
     "name": "stdout",
     "output_type": "stream",
     "text": [
      "5150\n"
     ]
    }
   ],
   "source": [
    "# 잘못된 예시\n",
    "# while문 \n",
    "result = 0\n",
    "i = 1\n",
    "\n",
    "while i <= 100:\n",
    "    # i값을 1씩 증가\n",
    "    i += 1\n",
    "    # reulst에 i를 누적합 \n",
    "    result += i\n",
    "print(result)"
   ]
  },
  {
   "cell_type": "markdown",
   "metadata": {},
   "source": [
    "#### continue\n",
    "- 반복문으로 되돌아가는 구문 \n",
    "- continue 밑에 있는 코드들을 실행하지 않고 반복문으로 되돌아간다.\n",
    "- 반복 실행하는 코드 마지막에 작성을 하게 되면 무의미한 코드가 된다. \n",
    "#### break \n",
    "- 반복문을 강제적으로 종료 구문\n",
    "- 반복 횟수가 관계 없이 반복문을 강제적으로 종료"
   ]
  },
  {
   "cell_type": "code",
   "execution_count": 16,
   "metadata": {},
   "outputs": [
    {
     "name": "stdout",
     "output_type": "stream",
     "text": [
      "1부터 447까지의 합이 최초로 100,000이 넘어가는 시점이다 총 합계는 100128이다.\n"
     ]
    }
   ],
   "source": [
    "# 1부터 1씩 증가 시켜서 누적합을 구하는데 합계가 100,000이 넘어가는 최초의 순간은 언제인가?\n",
    "\n",
    "# for문\n",
    "# 합계 초기값을 생성\n",
    "result= 0 \n",
    "for i in range(1, 10001, 1):\n",
    "    # 누적합\n",
    "    result += i\n",
    "    # 합계가 100,000이상이라면?\n",
    "    if result >= 100000:\n",
    "        # 반복문을 종료\n",
    "        break\n",
    "print(f\"1부터 {i}까지의 합이 최초로 100,000이 넘어가는 시점이다 총 합계는 {result}이다.\")"
   ]
  },
  {
   "cell_type": "code",
   "execution_count": 1,
   "metadata": {},
   "outputs": [
    {
     "name": "stdout",
     "output_type": "stream",
     "text": [
      "1부터 447까지의 합이 최초로 100,000이 넘어가는 시점이다 총 합계는 100128이다.\n"
     ]
    }
   ],
   "source": [
    "# while문\n",
    "\n",
    "result = 0 \n",
    "i = 1\n",
    "\n",
    "# while문을 무한반복으로 생성\n",
    "while True:\n",
    "    result += i\n",
    "    if result >= 100000:\n",
    "        break\n",
    "    i += 1\n",
    "print(f\"1부터 {i}까지의 합이 최초로 100,000이 넘어가는 시점이다 총 합계는 {result}이다.\")"
   ]
  },
  {
   "cell_type": "code",
   "execution_count": null,
   "metadata": {},
   "outputs": [],
   "source": [
    "# 잘못된 예시\n",
    "# while문\n",
    "result = 0 \n",
    "i = 1\n",
    "# while문을 무한반복으로 생성\n",
    "while True:\n",
    "    if result >= 100000:\n",
    "        break\n",
    "    result += i\n",
    "    i += 1\n",
    "print(f\"1부터 {i}까지의 합이 최초로 100,000이 넘어가는 시점이다 총 합계는 {result}이다.\")"
   ]
  },
  {
   "cell_type": "markdown",
   "metadata": {},
   "source": [
    "#### 반복문 예제 (다중 반복문)\n",
    "- 페르마의 마지막 정리가 참인가?\n",
    "\n",
    "> a<sup>n</sup> + b<sup>n</sup> = c<sup>n</sup> 이 식에서 n이 2보다 큰 자연수라면 a, b, c에 들어갈 수 있는 자연수는 존재하지 않는다. \n"
   ]
  },
  {
   "cell_type": "code",
   "execution_count": 20,
   "metadata": {},
   "outputs": [
    {
     "name": "stdout",
     "output_type": "stream",
     "text": [
      "반복문 종료\n"
     ]
    }
   ],
   "source": [
    "n = 3\n",
    "\n",
    "# a의 경우의 수 1부터 100 반복문 생성\n",
    "for a in range(1, 101, 1):\n",
    "    # b의 경우의 수 1부터 100 반복문 생성\n",
    "    for b in range(1, 101, 1):\n",
    "        # c의 경우의 수 1부터 100 반복문 생성\n",
    "        for c in range(1, 101, 1):\n",
    "            # 반복 횟수 : 100 * 100 * 100 \n",
    "            if a ** n + b **n == c ** n:\n",
    "                print(a, b, c)\n",
    "print('반복문 종료')"
   ]
  }
 ],
 "metadata": {
  "kernelspec": {
   "display_name": "base",
   "language": "python",
   "name": "python3"
  },
  "language_info": {
   "codemirror_mode": {
    "name": "ipython",
    "version": 3
   },
   "file_extension": ".py",
   "mimetype": "text/x-python",
   "name": "python",
   "nbconvert_exporter": "python",
   "pygments_lexer": "ipython3",
   "version": "3.11.4"
  }
 },
 "nbformat": 4,
 "nbformat_minor": 2
}
