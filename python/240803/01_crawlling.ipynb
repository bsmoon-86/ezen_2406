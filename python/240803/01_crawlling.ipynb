{
 "cells": [
  {
   "cell_type": "markdown",
   "metadata": {},
   "source": [
    "### 웹 크롤링\n",
    "- requests 라이브러리와 bs4 라이브러리 사용\n",
    "\n",
    "- selenium 라이브러리를 이용하여 웹 브라우져를 제어하여 크롤링"
   ]
  },
  {
   "cell_type": "code",
   "execution_count": null,
   "metadata": {},
   "outputs": [],
   "source": [
    "!pip install requests"
   ]
  },
  {
   "cell_type": "code",
   "execution_count": 3,
   "metadata": {},
   "outputs": [],
   "source": [
    "import requests"
   ]
  },
  {
   "cell_type": "code",
   "execution_count": 4,
   "metadata": {},
   "outputs": [],
   "source": [
    "# 네이버 서버에 요청 \n",
    "url = 'https://www.naver.com'\n",
    "response = requests.get(url)"
   ]
  },
  {
   "cell_type": "code",
   "execution_count": null,
   "metadata": {},
   "outputs": [],
   "source": [
    "print(response.text)"
   ]
  },
  {
   "cell_type": "code",
   "execution_count": 7,
   "metadata": {},
   "outputs": [],
   "source": [
    "html_data = response.text"
   ]
  },
  {
   "cell_type": "code",
   "execution_count": 8,
   "metadata": {},
   "outputs": [
    {
     "data": {
      "text/plain": [
       "378"
      ]
     },
     "execution_count": 8,
     "metadata": {},
     "output_type": "execute_result"
    }
   ],
   "source": [
    "# html_data에서 네이버라는 문구를 크롤링 \n",
    "html_data.find('네이버')"
   ]
  },
  {
   "cell_type": "code",
   "execution_count": 12,
   "metadata": {},
   "outputs": [
    {
     "data": {
      "text/plain": [
       "'네이버 메인에서 다양한 정보와 유용한 컨텐츠를 만나 보세요'"
      ]
     },
     "execution_count": 12,
     "metadata": {},
     "output_type": "execute_result"
    }
   ],
   "source": [
    "html_data[378:410]"
   ]
  },
  {
   "cell_type": "markdown",
   "metadata": {},
   "source": [
    "### bs4 라이브러리 \n",
    "- bs4 라이브러리 안에 있는 BeautifulSoup Class를 사용\n",
    "- html로 이루어진 문자열 데이터를 parsing 작업을 하여 데이터를 쉽게 추출하기 위한 Class\n",
    "    - parsing \n",
    "        - Class에 독립변수 값을 설정 \n",
    "        - 데이터의 타입을 변경 \n",
    "- html 데이터를 TAG를 기준으로 데이터를 추출하는 기능\n",
    "- 웹의 구조를 어느 정도 인지하고 사용하게 되면 쉽게 사용이 가능"
   ]
  },
  {
   "cell_type": "code",
   "execution_count": null,
   "metadata": {},
   "outputs": [],
   "source": [
    "!pip install bs4"
   ]
  },
  {
   "cell_type": "code",
   "execution_count": 14,
   "metadata": {},
   "outputs": [],
   "source": [
    "from bs4 import BeautifulSoup as bs"
   ]
  },
  {
   "cell_type": "code",
   "execution_count": 15,
   "metadata": {},
   "outputs": [],
   "source": [
    "# html 데이터를 bs Class에 대입하여 데이터의 타입을 변경 \n",
    "soup = bs(html_data, 'html.parser')"
   ]
  },
  {
   "cell_type": "code",
   "execution_count": null,
   "metadata": {},
   "outputs": [],
   "source": [
    "soup"
   ]
  },
  {
   "cell_type": "markdown",
   "metadata": {},
   "source": [
    "- 태그의 이름을 기준으로 검색\n",
    "    - soup.태그명 : 해당 태그명의 첫번째 태그를 출력 \n",
    "    - soup.태그명.string : 첫번째 태그명의 문자열(content)을 출력\n",
    "        - ex) `<p>test</p>` --> test\n",
    "    - soup.태그명['속성명'] : 첫번째 태그에서 해당 속성의 값을 출력\n",
    "        - ex) `<a href='https://www.google.com'>Google</a>` --> 'https://www.google.com'"
   ]
  },
  {
   "cell_type": "code",
   "execution_count": 17,
   "metadata": {},
   "outputs": [
    {
     "name": "stdout",
     "output_type": "stream",
     "text": [
      "<a href=\"#topAsideButton\"><span>상단영역 바로가기</span></a>\n"
     ]
    }
   ],
   "source": [
    "# soup에서 a태그를 출력\n",
    "print(soup.a)"
   ]
  },
  {
   "cell_type": "code",
   "execution_count": 18,
   "metadata": {},
   "outputs": [
    {
     "name": "stdout",
     "output_type": "stream",
     "text": [
      "상단영역 바로가기\n"
     ]
    }
   ],
   "source": [
    "print(soup.a.string)"
   ]
  },
  {
   "cell_type": "code",
   "execution_count": 19,
   "metadata": {},
   "outputs": [
    {
     "name": "stdout",
     "output_type": "stream",
     "text": [
      "#topAsideButton\n"
     ]
    }
   ],
   "source": [
    "print(soup.a['href'])"
   ]
  },
  {
   "cell_type": "markdown",
   "metadata": {},
   "source": [
    "- BeautifulSoup 안에 함수 \n",
    "    - find()\n",
    "        - html 데이터에서 특정 태그의 첫번째 정보를 출력 \n",
    "        - find(속성명 = 속성값) : 태그들 중 해당 속성명과 속성값을 가진 첫번째 태그의 정보를 출력 \n",
    "        - 결과 값의 타입이 TAG의 형태로 출력(find()함수 이용이 가능)\n",
    "    - find_all()\n",
    "        - html 데이터에서 특정 태그를 모두 출력 \n",
    "        - limit 매개변수 : 출력할 태그의 개수를 설정\n",
    "        - 결과 값의 타입이 ResultSet 형태로 출력(find()함수 이용이 불가능)"
   ]
  },
  {
   "cell_type": "code",
   "execution_count": 20,
   "metadata": {},
   "outputs": [
    {
     "data": {
      "text/plain": [
       "bs4.BeautifulSoup"
      ]
     },
     "execution_count": 20,
     "metadata": {},
     "output_type": "execute_result"
    }
   ],
   "source": [
    "type(soup)"
   ]
  },
  {
   "cell_type": "code",
   "execution_count": 21,
   "metadata": {},
   "outputs": [
    {
     "data": {
      "text/plain": [
       "bs4.element.Tag"
      ]
     },
     "execution_count": 21,
     "metadata": {},
     "output_type": "execute_result"
    }
   ],
   "source": [
    "type(soup.find('a'))"
   ]
  },
  {
   "cell_type": "code",
   "execution_count": 22,
   "metadata": {},
   "outputs": [
    {
     "data": {
      "text/plain": [
       "bs4.element.ResultSet"
      ]
     },
     "execution_count": 22,
     "metadata": {},
     "output_type": "execute_result"
    }
   ],
   "source": [
    "type(soup.find_all('a'))"
   ]
  },
  {
   "cell_type": "code",
   "execution_count": 23,
   "metadata": {},
   "outputs": [
    {
     "name": "stdout",
     "output_type": "stream",
     "text": [
      "<a href=\"#topAsideButton\"><span>상단영역 바로가기</span></a>\n",
      "<a href=\"#topAsideButton\"><span>상단영역 바로가기</span></a>\n"
     ]
    }
   ],
   "source": [
    "print(soup.a)\n",
    "print(soup.find('a'))"
   ]
  },
  {
   "cell_type": "code",
   "execution_count": 24,
   "metadata": {},
   "outputs": [
    {
     "name": "stdout",
     "output_type": "stream",
     "text": [
      "[<a href=\"#topAsideButton\"><span>상단영역 바로가기</span></a>, <a href=\"#shortcutArea\"><span>서비스 메뉴 바로가기</span></a>, <a href=\"#newsstand\"><span>새소식 블록 바로가기</span></a>, <a href=\"#shopping\"><span>쇼핑 블록 바로가기</span></a>, <a href=\"#feed\"><span>관심사 블록 바로가기</span></a>, <a href=\"#account\"><span>MY 영역 바로가기</span></a>, <a href=\"#widgetboard\"><span>위젯 보드 바로가기</span></a>, <a href=\"#viewSetting\"><span>보기 설정 바로가기</span></a>]\n"
     ]
    }
   ],
   "source": [
    "print(soup.find_all('a'))"
   ]
  },
  {
   "cell_type": "code",
   "execution_count": 25,
   "metadata": {},
   "outputs": [
    {
     "name": "stdout",
     "output_type": "stream",
     "text": [
      "상단영역 바로가기\n",
      "상단영역 바로가기\n",
      "상단영역 바로가기\n"
     ]
    }
   ],
   "source": [
    "# Tag 형태로 이루어진 데이터에서 Text 추출 \n",
    "print(soup.a.string)\n",
    "print(soup.find('a').string)\n",
    "print(soup.find('a').get_text())"
   ]
  },
  {
   "cell_type": "code",
   "execution_count": 29,
   "metadata": {},
   "outputs": [
    {
     "name": "stdout",
     "output_type": "stream",
     "text": [
      "[<a href=\"#topAsideButton\"><span>상단영역 바로가기</span></a>, <a href=\"#shortcutArea\"><span>서비스 메뉴 바로가기</span></a>, <a href=\"#newsstand\"><span>새소식 블록 바로가기</span></a>, <a href=\"#shopping\"><span>쇼핑 블록 바로가기</span></a>, <a href=\"#feed\"><span>관심사 블록 바로가기</span></a>, <a href=\"#account\"><span>MY 영역 바로가기</span></a>, <a href=\"#widgetboard\"><span>위젯 보드 바로가기</span></a>, <a href=\"#viewSetting\"><span>보기 설정 바로가기</span></a>]\n",
      "상단영역 바로가기\n",
      "서비스 메뉴 바로가기\n"
     ]
    }
   ],
   "source": [
    "# ResultSet 형태에서 Text를 추출 \n",
    "a_list = soup.find_all('a')\n",
    "print(a_list)\n",
    "print(a_list[0].get_text())\n",
    "print(a_list[1].get_text())"
   ]
  },
  {
   "cell_type": "code",
   "execution_count": 32,
   "metadata": {},
   "outputs": [
    {
     "name": "stdout",
     "output_type": "stream",
     "text": [
      "['상단영역 바로가기', '서비스 메뉴 바로가기', '새소식 블록 바로가기', '쇼핑 블록 바로가기', '관심사 블록 바로가기', 'MY 영역 바로가기', '위젯 보드 바로가기', '보기 설정 바로가기']\n"
     ]
    }
   ],
   "source": [
    "a_text = []\n",
    "\n",
    "for i in a_list:\n",
    "    # print(type(i))\n",
    "    # print(i)\n",
    "    # print(i.get_text())\n",
    "    a_text.append(i.get_text())\n",
    "\n",
    "print(a_text)"
   ]
  }
 ],
 "metadata": {
  "kernelspec": {
   "display_name": "Python 3",
   "language": "python",
   "name": "python3"
  },
  "language_info": {
   "codemirror_mode": {
    "name": "ipython",
    "version": 3
   },
   "file_extension": ".py",
   "mimetype": "text/x-python",
   "name": "python",
   "nbconvert_exporter": "python",
   "pygments_lexer": "ipython3",
   "version": "3.9.6"
  }
 },
 "nbformat": 4,
 "nbformat_minor": 2
}
