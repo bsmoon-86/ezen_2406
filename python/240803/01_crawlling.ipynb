{
 "cells": [
  {
   "cell_type": "markdown",
   "metadata": {},
   "source": [
    "### 웹 크롤링\n",
    "- requests 라이브러리와 bs4 라이브러리 사용\n",
    "\n",
    "- selenium 라이브러리를 이용하여 웹 브라우져를 제어하여 크롤링"
   ]
  },
  {
   "cell_type": "code",
   "execution_count": null,
   "metadata": {},
   "outputs": [],
   "source": [
    "!pip install requests"
   ]
  },
  {
   "cell_type": "code",
   "execution_count": 3,
   "metadata": {},
   "outputs": [],
   "source": [
    "import requests"
   ]
  },
  {
   "cell_type": "code",
   "execution_count": 4,
   "metadata": {},
   "outputs": [],
   "source": [
    "# 네이버 서버에 요청 \n",
    "url = 'https://www.naver.com'\n",
    "response = requests.get(url)"
   ]
  },
  {
   "cell_type": "code",
   "execution_count": null,
   "metadata": {},
   "outputs": [],
   "source": [
    "print(response.text)"
   ]
  },
  {
   "cell_type": "code",
   "execution_count": 7,
   "metadata": {},
   "outputs": [],
   "source": [
    "html_data = response.text"
   ]
  },
  {
   "cell_type": "code",
   "execution_count": 8,
   "metadata": {},
   "outputs": [
    {
     "data": {
      "text/plain": [
       "378"
      ]
     },
     "execution_count": 8,
     "metadata": {},
     "output_type": "execute_result"
    }
   ],
   "source": [
    "# html_data에서 네이버라는 문구를 크롤링 \n",
    "html_data.find('네이버')"
   ]
  },
  {
   "cell_type": "code",
   "execution_count": 12,
   "metadata": {},
   "outputs": [
    {
     "data": {
      "text/plain": [
       "'네이버 메인에서 다양한 정보와 유용한 컨텐츠를 만나 보세요'"
      ]
     },
     "execution_count": 12,
     "metadata": {},
     "output_type": "execute_result"
    }
   ],
   "source": [
    "html_data[378:410]"
   ]
  },
  {
   "cell_type": "markdown",
   "metadata": {},
   "source": [
    "### bs4 라이브러리 \n",
    "- bs4 라이브러리 안에 있는 BeautifulSoup Class를 사용\n",
    "- html로 이루어진 문자열 데이터를 parsing 작업을 하여 데이터를 쉽게 추출하기 위한 Class\n",
    "    - parsing \n",
    "        - Class에 독립변수 값을 설정 \n",
    "        - 데이터의 타입을 변경 \n",
    "- html 데이터를 TAG를 기준으로 데이터를 추출하는 기능\n",
    "- 웹의 구조를 어느 정도 인지하고 사용하게 되면 쉽게 사용이 가능"
   ]
  },
  {
   "cell_type": "code",
   "execution_count": null,
   "metadata": {},
   "outputs": [],
   "source": [
    "!pip install bs4"
   ]
  },
  {
   "cell_type": "code",
   "execution_count": 14,
   "metadata": {},
   "outputs": [],
   "source": [
    "from bs4 import BeautifulSoup as bs"
   ]
  },
  {
   "cell_type": "code",
   "execution_count": 15,
   "metadata": {},
   "outputs": [],
   "source": [
    "# html 데이터를 bs Class에 대입하여 데이터의 타입을 변경 \n",
    "soup = bs(html_data, 'html.parser')"
   ]
  },
  {
   "cell_type": "code",
   "execution_count": null,
   "metadata": {},
   "outputs": [],
   "source": [
    "soup"
   ]
  },
  {
   "cell_type": "markdown",
   "metadata": {},
   "source": [
    "- 태그의 이름을 기준으로 검색\n",
    "    - soup.태그명 : 해당 태그명의 첫번째 태그를 출력 \n",
    "    - soup.태그명.string : 첫번째 태그명의 문자열(content)을 출력\n",
    "        - ex) `<p>test</p>` --> test\n",
    "    - soup.태그명['속성명'] : 첫번째 태그에서 해당 속성의 값을 출력\n",
    "        - ex) `<a href='https://www.google.com'>Google</a>` --> 'https://www.google.com'"
   ]
  },
  {
   "cell_type": "code",
   "execution_count": 17,
   "metadata": {},
   "outputs": [
    {
     "name": "stdout",
     "output_type": "stream",
     "text": [
      "<a href=\"#topAsideButton\"><span>상단영역 바로가기</span></a>\n"
     ]
    }
   ],
   "source": [
    "# soup에서 a태그를 출력\n",
    "print(soup.a)"
   ]
  },
  {
   "cell_type": "code",
   "execution_count": 18,
   "metadata": {},
   "outputs": [
    {
     "name": "stdout",
     "output_type": "stream",
     "text": [
      "상단영역 바로가기\n"
     ]
    }
   ],
   "source": [
    "print(soup.a.string)"
   ]
  },
  {
   "cell_type": "code",
   "execution_count": 19,
   "metadata": {},
   "outputs": [
    {
     "name": "stdout",
     "output_type": "stream",
     "text": [
      "#topAsideButton\n"
     ]
    }
   ],
   "source": [
    "print(soup.a['href'])"
   ]
  },
  {
   "cell_type": "markdown",
   "metadata": {},
   "source": [
    "- BeautifulSoup 안에 함수 \n",
    "    - find()\n",
    "        - html 데이터에서 특정 태그의 첫번째 정보를 출력 \n",
    "        - find(속성명 = 속성값) : 태그들 중 해당 속성명과 속성값을 가진 첫번째 태그의 정보를 출력 \n",
    "        - 결과 값의 타입이 TAG의 형태로 출력(find()함수 이용이 가능)\n",
    "    - find_all()\n",
    "        - html 데이터에서 특정 태그를 모두 출력 \n",
    "        - limit 매개변수 : 출력할 태그의 개수를 설정\n",
    "        - 결과 값의 타입이 ResultSet 형태로 출력(find()함수 이용이 불가능)"
   ]
  },
  {
   "cell_type": "code",
   "execution_count": 20,
   "metadata": {},
   "outputs": [
    {
     "data": {
      "text/plain": [
       "bs4.BeautifulSoup"
      ]
     },
     "execution_count": 20,
     "metadata": {},
     "output_type": "execute_result"
    }
   ],
   "source": [
    "type(soup)"
   ]
  },
  {
   "cell_type": "code",
   "execution_count": 21,
   "metadata": {},
   "outputs": [
    {
     "data": {
      "text/plain": [
       "bs4.element.Tag"
      ]
     },
     "execution_count": 21,
     "metadata": {},
     "output_type": "execute_result"
    }
   ],
   "source": [
    "type(soup.find('a'))"
   ]
  },
  {
   "cell_type": "code",
   "execution_count": 22,
   "metadata": {},
   "outputs": [
    {
     "data": {
      "text/plain": [
       "bs4.element.ResultSet"
      ]
     },
     "execution_count": 22,
     "metadata": {},
     "output_type": "execute_result"
    }
   ],
   "source": [
    "type(soup.find_all('a'))"
   ]
  },
  {
   "cell_type": "code",
   "execution_count": 23,
   "metadata": {},
   "outputs": [
    {
     "name": "stdout",
     "output_type": "stream",
     "text": [
      "<a href=\"#topAsideButton\"><span>상단영역 바로가기</span></a>\n",
      "<a href=\"#topAsideButton\"><span>상단영역 바로가기</span></a>\n"
     ]
    }
   ],
   "source": [
    "print(soup.a)\n",
    "print(soup.find('a'))"
   ]
  },
  {
   "cell_type": "code",
   "execution_count": 24,
   "metadata": {},
   "outputs": [
    {
     "name": "stdout",
     "output_type": "stream",
     "text": [
      "[<a href=\"#topAsideButton\"><span>상단영역 바로가기</span></a>, <a href=\"#shortcutArea\"><span>서비스 메뉴 바로가기</span></a>, <a href=\"#newsstand\"><span>새소식 블록 바로가기</span></a>, <a href=\"#shopping\"><span>쇼핑 블록 바로가기</span></a>, <a href=\"#feed\"><span>관심사 블록 바로가기</span></a>, <a href=\"#account\"><span>MY 영역 바로가기</span></a>, <a href=\"#widgetboard\"><span>위젯 보드 바로가기</span></a>, <a href=\"#viewSetting\"><span>보기 설정 바로가기</span></a>]\n"
     ]
    }
   ],
   "source": [
    "print(soup.find_all('a'))"
   ]
  },
  {
   "cell_type": "code",
   "execution_count": 25,
   "metadata": {},
   "outputs": [
    {
     "name": "stdout",
     "output_type": "stream",
     "text": [
      "상단영역 바로가기\n",
      "상단영역 바로가기\n",
      "상단영역 바로가기\n"
     ]
    }
   ],
   "source": [
    "# Tag 형태로 이루어진 데이터에서 Text 추출 \n",
    "print(soup.a.string)\n",
    "print(soup.find('a').string)\n",
    "print(soup.find('a').get_text())"
   ]
  },
  {
   "cell_type": "code",
   "execution_count": 29,
   "metadata": {},
   "outputs": [
    {
     "name": "stdout",
     "output_type": "stream",
     "text": [
      "[<a href=\"#topAsideButton\"><span>상단영역 바로가기</span></a>, <a href=\"#shortcutArea\"><span>서비스 메뉴 바로가기</span></a>, <a href=\"#newsstand\"><span>새소식 블록 바로가기</span></a>, <a href=\"#shopping\"><span>쇼핑 블록 바로가기</span></a>, <a href=\"#feed\"><span>관심사 블록 바로가기</span></a>, <a href=\"#account\"><span>MY 영역 바로가기</span></a>, <a href=\"#widgetboard\"><span>위젯 보드 바로가기</span></a>, <a href=\"#viewSetting\"><span>보기 설정 바로가기</span></a>]\n",
      "상단영역 바로가기\n",
      "서비스 메뉴 바로가기\n"
     ]
    }
   ],
   "source": [
    "# ResultSet 형태에서 Text를 추출 \n",
    "a_list = soup.find_all('a')\n",
    "print(a_list)\n",
    "print(a_list[0].get_text())\n",
    "print(a_list[1].get_text())"
   ]
  },
  {
   "cell_type": "code",
   "execution_count": 32,
   "metadata": {},
   "outputs": [
    {
     "name": "stdout",
     "output_type": "stream",
     "text": [
      "['상단영역 바로가기', '서비스 메뉴 바로가기', '새소식 블록 바로가기', '쇼핑 블록 바로가기', '관심사 블록 바로가기', 'MY 영역 바로가기', '위젯 보드 바로가기', '보기 설정 바로가기']\n"
     ]
    }
   ],
   "source": [
    "a_text = []\n",
    "\n",
    "for i in a_list:\n",
    "    # print(type(i))\n",
    "    # print(i)\n",
    "    # print(i.get_text())\n",
    "    a_text.append(i.get_text())\n",
    "\n",
    "print(a_text)"
   ]
  },
  {
   "cell_type": "code",
   "execution_count": 35,
   "metadata": {},
   "outputs": [
    {
     "data": {
      "text/plain": [
       "[<div id=\"u_skip\"> <a href=\"#topAsideButton\"><span>상단영역 바로가기</span></a> <a href=\"#shortcutArea\"><span>서비스 메뉴 바로가기</span></a> <a href=\"#newsstand\"><span>새소식 블록 바로가기</span></a> <a href=\"#shopping\"><span>쇼핑 블록 바로가기</span></a> <a href=\"#feed\"><span>관심사 블록 바로가기</span></a> <a href=\"#account\"><span>MY 영역 바로가기</span></a> <a href=\"#widgetboard\"><span>위젯 보드 바로가기</span></a> <a href=\"#viewSetting\"><span>보기 설정 바로가기</span></a> </div>,\n",
       " <div id=\"wrap\"> <div id=\"header\" role=\"banner\"> <div class=\"header_inner\" id=\"topSearchWrap\"> <div class=\"search_special_bg\" id=\"special-logo\"></div> <div class=\"ad_area\" id=\"timeboard-ex\" style=\"min-width:1340px\"> </div> <div class=\"search_area\" id=\"search_area\" style=\"border-color:#fff\"> <div class=\"search_group\"> <div class=\"search_group_inner\" id=\"search\"> <h1 class=\"search_logo\" id=\"special-input-logo\"></h1> <form action=\"https://search.naver.com/search.naver\" id=\"sform\" method=\"get\" name=\"search\" role=\"search\"> <fieldset> <legend class=\"blind\">검색</legend> <input name=\"where\" type=\"hidden\" value=\"nexearch\"/> <input id=\"sm\" name=\"sm\" type=\"hidden\" value=\"top_hty\"/> <input id=\"fbm\" name=\"fbm\" type=\"hidden\" value=\"0\"/> <input disabled=\"disabled\" id=\"acr\" name=\"acr\" type=\"hidden\" value=\"\"/> <input disabled=\"disabled\" id=\"acq\" name=\"acq\" type=\"hidden\" value=\"\"/> <input disabled=\"disabled\" id=\"qdt\" name=\"qdt\" type=\"hidden\" value=\"\"/> <input id=\"ie\" name=\"ie\" type=\"hidden\" value=\"utf8\"/> <input disabled=\"disabled\" id=\"acir\" name=\"acir\" type=\"hidden\" value=\"\"/> <input disabled=\"disabled\" id=\"os\" name=\"os\" type=\"hidden\" value=\"\"/> <input disabled=\"disabled\" id=\"bid\" name=\"bid\" type=\"hidden\" value=\"\"/> <input disabled=\"disabled\" id=\"pkid\" name=\"pkid\" type=\"hidden\" value=\"\"/> <input disabled=\"disabled\" id=\"eid\" name=\"eid\" type=\"hidden\" value=\"\"/> <input disabled=\"disabled\" id=\"mra\" name=\"mra\" type=\"hidden\" value=\"\"/> <div class=\"search_input_box\"> <input autocomplete=\"off\" class=\"search_input\" data-atcmp-element=\"\" id=\"query\" maxlength=\"255\" name=\"query\" placeholder=\"검색어를 입력해 주세요.\" title=\"검색어를 입력해 주세요.\" type=\"search\"/> </div> <button class=\"btn_search\" onclick='window.nclk_v2(this,\"sch.action\")' type=\"submit\"> <span class=\"ico_btn_search_svg\"> <svg id=\"search-btn\" viewbox=\"0 0 50 50\" xmlns=\"http://www.w3.org/2000/svg\"> <path d=\"M22.13.5c11.378 0 20.632 9.256 20.632 20.63 0 4.699-1.566 9.155-4.439 12.782l10.164 10.165a2.41 2.41 0 0 1-1.706 4.115 2.412 2.412 0 0 1-1.706-.705L33.31 35.719a2.41 2.41 0 0 1 0-3.41 15.71 15.71 0 0 0 4.628-11.178c0-8.718-7.09-15.808-15.807-15.808-8.718 0-15.808 7.09-15.808 15.808 0 7.15 4.817 13.43 11.714 15.273a2.41 2.41 0 0 1 1.705 2.954 2.41 2.41 0 0 1-2.95 1.705C7.788 38.658 1.5 30.46 1.5 21.131 1.5 9.756 10.756.5 22.13.5zm4.716 34.746a3.483 3.483 0 1 1 0 6.966 3.483 3.483 0 0 1 0-6.966z\"></path> </svg> </span> <span class=\"blind\">검색</span> </button> </fieldset> </form> <div class=\"search_box\"> <button aria-pressed=\"false\" class=\"btn_keyboard\" id=\"ke_kbd_btn\" type=\"button\"> <span class=\"keybord_text\"> <span class=\"blind\">입력도구</span> </span> </button> <div id=\"_nx_kbd\" style=\"display:none\"></div> <button class=\"btn_arrow\" data-atcmp-element=\"\" id=\"nautocomplete\" type=\"button\"> <span class=\"blind\">자동완성/최근검색어펼치기</span> </button> </div> <div class=\"layer_atcmp\" id=\"autoFrame\" style=\"display:none\"></div> </div> </div> </div> <div id=\"search-right-first\"></div> <div id=\"search-right-second\"></div> <div aria-label=\"주요 서비스\" class=\"shortcut_area\" id=\"shortcutArea\" role=\"navigation\"></div> <div class=\"menu_area\" id=\"topAsideArea\"></div> <div class=\"pay_area\" id=\"topPayArea\"></div> <div class=\"talk_area\" id=\"topTalkArea\"></div> <div class=\"notify_area\" id=\"topNotiArea\"></div> <div class=\"shopping_area\" id=\"topShoppingArea\"></div> </div> </div> <div id=\"container\" role=\"main\"> <div id=\"root\"></div> </div> <div id=\"footer\" role=\"contentinfo\"></div> </div>,\n",
       " <div id=\"header\" role=\"banner\"> <div class=\"header_inner\" id=\"topSearchWrap\"> <div class=\"search_special_bg\" id=\"special-logo\"></div> <div class=\"ad_area\" id=\"timeboard-ex\" style=\"min-width:1340px\"> </div> <div class=\"search_area\" id=\"search_area\" style=\"border-color:#fff\"> <div class=\"search_group\"> <div class=\"search_group_inner\" id=\"search\"> <h1 class=\"search_logo\" id=\"special-input-logo\"></h1> <form action=\"https://search.naver.com/search.naver\" id=\"sform\" method=\"get\" name=\"search\" role=\"search\"> <fieldset> <legend class=\"blind\">검색</legend> <input name=\"where\" type=\"hidden\" value=\"nexearch\"/> <input id=\"sm\" name=\"sm\" type=\"hidden\" value=\"top_hty\"/> <input id=\"fbm\" name=\"fbm\" type=\"hidden\" value=\"0\"/> <input disabled=\"disabled\" id=\"acr\" name=\"acr\" type=\"hidden\" value=\"\"/> <input disabled=\"disabled\" id=\"acq\" name=\"acq\" type=\"hidden\" value=\"\"/> <input disabled=\"disabled\" id=\"qdt\" name=\"qdt\" type=\"hidden\" value=\"\"/> <input id=\"ie\" name=\"ie\" type=\"hidden\" value=\"utf8\"/> <input disabled=\"disabled\" id=\"acir\" name=\"acir\" type=\"hidden\" value=\"\"/> <input disabled=\"disabled\" id=\"os\" name=\"os\" type=\"hidden\" value=\"\"/> <input disabled=\"disabled\" id=\"bid\" name=\"bid\" type=\"hidden\" value=\"\"/> <input disabled=\"disabled\" id=\"pkid\" name=\"pkid\" type=\"hidden\" value=\"\"/> <input disabled=\"disabled\" id=\"eid\" name=\"eid\" type=\"hidden\" value=\"\"/> <input disabled=\"disabled\" id=\"mra\" name=\"mra\" type=\"hidden\" value=\"\"/> <div class=\"search_input_box\"> <input autocomplete=\"off\" class=\"search_input\" data-atcmp-element=\"\" id=\"query\" maxlength=\"255\" name=\"query\" placeholder=\"검색어를 입력해 주세요.\" title=\"검색어를 입력해 주세요.\" type=\"search\"/> </div> <button class=\"btn_search\" onclick='window.nclk_v2(this,\"sch.action\")' type=\"submit\"> <span class=\"ico_btn_search_svg\"> <svg id=\"search-btn\" viewbox=\"0 0 50 50\" xmlns=\"http://www.w3.org/2000/svg\"> <path d=\"M22.13.5c11.378 0 20.632 9.256 20.632 20.63 0 4.699-1.566 9.155-4.439 12.782l10.164 10.165a2.41 2.41 0 0 1-1.706 4.115 2.412 2.412 0 0 1-1.706-.705L33.31 35.719a2.41 2.41 0 0 1 0-3.41 15.71 15.71 0 0 0 4.628-11.178c0-8.718-7.09-15.808-15.807-15.808-8.718 0-15.808 7.09-15.808 15.808 0 7.15 4.817 13.43 11.714 15.273a2.41 2.41 0 0 1 1.705 2.954 2.41 2.41 0 0 1-2.95 1.705C7.788 38.658 1.5 30.46 1.5 21.131 1.5 9.756 10.756.5 22.13.5zm4.716 34.746a3.483 3.483 0 1 1 0 6.966 3.483 3.483 0 0 1 0-6.966z\"></path> </svg> </span> <span class=\"blind\">검색</span> </button> </fieldset> </form> <div class=\"search_box\"> <button aria-pressed=\"false\" class=\"btn_keyboard\" id=\"ke_kbd_btn\" type=\"button\"> <span class=\"keybord_text\"> <span class=\"blind\">입력도구</span> </span> </button> <div id=\"_nx_kbd\" style=\"display:none\"></div> <button class=\"btn_arrow\" data-atcmp-element=\"\" id=\"nautocomplete\" type=\"button\"> <span class=\"blind\">자동완성/최근검색어펼치기</span> </button> </div> <div class=\"layer_atcmp\" id=\"autoFrame\" style=\"display:none\"></div> </div> </div> </div> <div id=\"search-right-first\"></div> <div id=\"search-right-second\"></div> <div aria-label=\"주요 서비스\" class=\"shortcut_area\" id=\"shortcutArea\" role=\"navigation\"></div> <div class=\"menu_area\" id=\"topAsideArea\"></div> <div class=\"pay_area\" id=\"topPayArea\"></div> <div class=\"talk_area\" id=\"topTalkArea\"></div> <div class=\"notify_area\" id=\"topNotiArea\"></div> <div class=\"shopping_area\" id=\"topShoppingArea\"></div> </div> </div>,\n",
       " <div class=\"header_inner\" id=\"topSearchWrap\"> <div class=\"search_special_bg\" id=\"special-logo\"></div> <div class=\"ad_area\" id=\"timeboard-ex\" style=\"min-width:1340px\"> </div> <div class=\"search_area\" id=\"search_area\" style=\"border-color:#fff\"> <div class=\"search_group\"> <div class=\"search_group_inner\" id=\"search\"> <h1 class=\"search_logo\" id=\"special-input-logo\"></h1> <form action=\"https://search.naver.com/search.naver\" id=\"sform\" method=\"get\" name=\"search\" role=\"search\"> <fieldset> <legend class=\"blind\">검색</legend> <input name=\"where\" type=\"hidden\" value=\"nexearch\"/> <input id=\"sm\" name=\"sm\" type=\"hidden\" value=\"top_hty\"/> <input id=\"fbm\" name=\"fbm\" type=\"hidden\" value=\"0\"/> <input disabled=\"disabled\" id=\"acr\" name=\"acr\" type=\"hidden\" value=\"\"/> <input disabled=\"disabled\" id=\"acq\" name=\"acq\" type=\"hidden\" value=\"\"/> <input disabled=\"disabled\" id=\"qdt\" name=\"qdt\" type=\"hidden\" value=\"\"/> <input id=\"ie\" name=\"ie\" type=\"hidden\" value=\"utf8\"/> <input disabled=\"disabled\" id=\"acir\" name=\"acir\" type=\"hidden\" value=\"\"/> <input disabled=\"disabled\" id=\"os\" name=\"os\" type=\"hidden\" value=\"\"/> <input disabled=\"disabled\" id=\"bid\" name=\"bid\" type=\"hidden\" value=\"\"/> <input disabled=\"disabled\" id=\"pkid\" name=\"pkid\" type=\"hidden\" value=\"\"/> <input disabled=\"disabled\" id=\"eid\" name=\"eid\" type=\"hidden\" value=\"\"/> <input disabled=\"disabled\" id=\"mra\" name=\"mra\" type=\"hidden\" value=\"\"/> <div class=\"search_input_box\"> <input autocomplete=\"off\" class=\"search_input\" data-atcmp-element=\"\" id=\"query\" maxlength=\"255\" name=\"query\" placeholder=\"검색어를 입력해 주세요.\" title=\"검색어를 입력해 주세요.\" type=\"search\"/> </div> <button class=\"btn_search\" onclick='window.nclk_v2(this,\"sch.action\")' type=\"submit\"> <span class=\"ico_btn_search_svg\"> <svg id=\"search-btn\" viewbox=\"0 0 50 50\" xmlns=\"http://www.w3.org/2000/svg\"> <path d=\"M22.13.5c11.378 0 20.632 9.256 20.632 20.63 0 4.699-1.566 9.155-4.439 12.782l10.164 10.165a2.41 2.41 0 0 1-1.706 4.115 2.412 2.412 0 0 1-1.706-.705L33.31 35.719a2.41 2.41 0 0 1 0-3.41 15.71 15.71 0 0 0 4.628-11.178c0-8.718-7.09-15.808-15.807-15.808-8.718 0-15.808 7.09-15.808 15.808 0 7.15 4.817 13.43 11.714 15.273a2.41 2.41 0 0 1 1.705 2.954 2.41 2.41 0 0 1-2.95 1.705C7.788 38.658 1.5 30.46 1.5 21.131 1.5 9.756 10.756.5 22.13.5zm4.716 34.746a3.483 3.483 0 1 1 0 6.966 3.483 3.483 0 0 1 0-6.966z\"></path> </svg> </span> <span class=\"blind\">검색</span> </button> </fieldset> </form> <div class=\"search_box\"> <button aria-pressed=\"false\" class=\"btn_keyboard\" id=\"ke_kbd_btn\" type=\"button\"> <span class=\"keybord_text\"> <span class=\"blind\">입력도구</span> </span> </button> <div id=\"_nx_kbd\" style=\"display:none\"></div> <button class=\"btn_arrow\" data-atcmp-element=\"\" id=\"nautocomplete\" type=\"button\"> <span class=\"blind\">자동완성/최근검색어펼치기</span> </button> </div> <div class=\"layer_atcmp\" id=\"autoFrame\" style=\"display:none\"></div> </div> </div> </div> <div id=\"search-right-first\"></div> <div id=\"search-right-second\"></div> <div aria-label=\"주요 서비스\" class=\"shortcut_area\" id=\"shortcutArea\" role=\"navigation\"></div> <div class=\"menu_area\" id=\"topAsideArea\"></div> <div class=\"pay_area\" id=\"topPayArea\"></div> <div class=\"talk_area\" id=\"topTalkArea\"></div> <div class=\"notify_area\" id=\"topNotiArea\"></div> <div class=\"shopping_area\" id=\"topShoppingArea\"></div> </div>,\n",
       " <div class=\"search_special_bg\" id=\"special-logo\"></div>,\n",
       " <div class=\"ad_area\" id=\"timeboard-ex\" style=\"min-width:1340px\"> </div>,\n",
       " <div class=\"search_area\" id=\"search_area\" style=\"border-color:#fff\"> <div class=\"search_group\"> <div class=\"search_group_inner\" id=\"search\"> <h1 class=\"search_logo\" id=\"special-input-logo\"></h1> <form action=\"https://search.naver.com/search.naver\" id=\"sform\" method=\"get\" name=\"search\" role=\"search\"> <fieldset> <legend class=\"blind\">검색</legend> <input name=\"where\" type=\"hidden\" value=\"nexearch\"/> <input id=\"sm\" name=\"sm\" type=\"hidden\" value=\"top_hty\"/> <input id=\"fbm\" name=\"fbm\" type=\"hidden\" value=\"0\"/> <input disabled=\"disabled\" id=\"acr\" name=\"acr\" type=\"hidden\" value=\"\"/> <input disabled=\"disabled\" id=\"acq\" name=\"acq\" type=\"hidden\" value=\"\"/> <input disabled=\"disabled\" id=\"qdt\" name=\"qdt\" type=\"hidden\" value=\"\"/> <input id=\"ie\" name=\"ie\" type=\"hidden\" value=\"utf8\"/> <input disabled=\"disabled\" id=\"acir\" name=\"acir\" type=\"hidden\" value=\"\"/> <input disabled=\"disabled\" id=\"os\" name=\"os\" type=\"hidden\" value=\"\"/> <input disabled=\"disabled\" id=\"bid\" name=\"bid\" type=\"hidden\" value=\"\"/> <input disabled=\"disabled\" id=\"pkid\" name=\"pkid\" type=\"hidden\" value=\"\"/> <input disabled=\"disabled\" id=\"eid\" name=\"eid\" type=\"hidden\" value=\"\"/> <input disabled=\"disabled\" id=\"mra\" name=\"mra\" type=\"hidden\" value=\"\"/> <div class=\"search_input_box\"> <input autocomplete=\"off\" class=\"search_input\" data-atcmp-element=\"\" id=\"query\" maxlength=\"255\" name=\"query\" placeholder=\"검색어를 입력해 주세요.\" title=\"검색어를 입력해 주세요.\" type=\"search\"/> </div> <button class=\"btn_search\" onclick='window.nclk_v2(this,\"sch.action\")' type=\"submit\"> <span class=\"ico_btn_search_svg\"> <svg id=\"search-btn\" viewbox=\"0 0 50 50\" xmlns=\"http://www.w3.org/2000/svg\"> <path d=\"M22.13.5c11.378 0 20.632 9.256 20.632 20.63 0 4.699-1.566 9.155-4.439 12.782l10.164 10.165a2.41 2.41 0 0 1-1.706 4.115 2.412 2.412 0 0 1-1.706-.705L33.31 35.719a2.41 2.41 0 0 1 0-3.41 15.71 15.71 0 0 0 4.628-11.178c0-8.718-7.09-15.808-15.807-15.808-8.718 0-15.808 7.09-15.808 15.808 0 7.15 4.817 13.43 11.714 15.273a2.41 2.41 0 0 1 1.705 2.954 2.41 2.41 0 0 1-2.95 1.705C7.788 38.658 1.5 30.46 1.5 21.131 1.5 9.756 10.756.5 22.13.5zm4.716 34.746a3.483 3.483 0 1 1 0 6.966 3.483 3.483 0 0 1 0-6.966z\"></path> </svg> </span> <span class=\"blind\">검색</span> </button> </fieldset> </form> <div class=\"search_box\"> <button aria-pressed=\"false\" class=\"btn_keyboard\" id=\"ke_kbd_btn\" type=\"button\"> <span class=\"keybord_text\"> <span class=\"blind\">입력도구</span> </span> </button> <div id=\"_nx_kbd\" style=\"display:none\"></div> <button class=\"btn_arrow\" data-atcmp-element=\"\" id=\"nautocomplete\" type=\"button\"> <span class=\"blind\">자동완성/최근검색어펼치기</span> </button> </div> <div class=\"layer_atcmp\" id=\"autoFrame\" style=\"display:none\"></div> </div> </div> </div>,\n",
       " <div class=\"search_group\"> <div class=\"search_group_inner\" id=\"search\"> <h1 class=\"search_logo\" id=\"special-input-logo\"></h1> <form action=\"https://search.naver.com/search.naver\" id=\"sform\" method=\"get\" name=\"search\" role=\"search\"> <fieldset> <legend class=\"blind\">검색</legend> <input name=\"where\" type=\"hidden\" value=\"nexearch\"/> <input id=\"sm\" name=\"sm\" type=\"hidden\" value=\"top_hty\"/> <input id=\"fbm\" name=\"fbm\" type=\"hidden\" value=\"0\"/> <input disabled=\"disabled\" id=\"acr\" name=\"acr\" type=\"hidden\" value=\"\"/> <input disabled=\"disabled\" id=\"acq\" name=\"acq\" type=\"hidden\" value=\"\"/> <input disabled=\"disabled\" id=\"qdt\" name=\"qdt\" type=\"hidden\" value=\"\"/> <input id=\"ie\" name=\"ie\" type=\"hidden\" value=\"utf8\"/> <input disabled=\"disabled\" id=\"acir\" name=\"acir\" type=\"hidden\" value=\"\"/> <input disabled=\"disabled\" id=\"os\" name=\"os\" type=\"hidden\" value=\"\"/> <input disabled=\"disabled\" id=\"bid\" name=\"bid\" type=\"hidden\" value=\"\"/> <input disabled=\"disabled\" id=\"pkid\" name=\"pkid\" type=\"hidden\" value=\"\"/> <input disabled=\"disabled\" id=\"eid\" name=\"eid\" type=\"hidden\" value=\"\"/> <input disabled=\"disabled\" id=\"mra\" name=\"mra\" type=\"hidden\" value=\"\"/> <div class=\"search_input_box\"> <input autocomplete=\"off\" class=\"search_input\" data-atcmp-element=\"\" id=\"query\" maxlength=\"255\" name=\"query\" placeholder=\"검색어를 입력해 주세요.\" title=\"검색어를 입력해 주세요.\" type=\"search\"/> </div> <button class=\"btn_search\" onclick='window.nclk_v2(this,\"sch.action\")' type=\"submit\"> <span class=\"ico_btn_search_svg\"> <svg id=\"search-btn\" viewbox=\"0 0 50 50\" xmlns=\"http://www.w3.org/2000/svg\"> <path d=\"M22.13.5c11.378 0 20.632 9.256 20.632 20.63 0 4.699-1.566 9.155-4.439 12.782l10.164 10.165a2.41 2.41 0 0 1-1.706 4.115 2.412 2.412 0 0 1-1.706-.705L33.31 35.719a2.41 2.41 0 0 1 0-3.41 15.71 15.71 0 0 0 4.628-11.178c0-8.718-7.09-15.808-15.807-15.808-8.718 0-15.808 7.09-15.808 15.808 0 7.15 4.817 13.43 11.714 15.273a2.41 2.41 0 0 1 1.705 2.954 2.41 2.41 0 0 1-2.95 1.705C7.788 38.658 1.5 30.46 1.5 21.131 1.5 9.756 10.756.5 22.13.5zm4.716 34.746a3.483 3.483 0 1 1 0 6.966 3.483 3.483 0 0 1 0-6.966z\"></path> </svg> </span> <span class=\"blind\">검색</span> </button> </fieldset> </form> <div class=\"search_box\"> <button aria-pressed=\"false\" class=\"btn_keyboard\" id=\"ke_kbd_btn\" type=\"button\"> <span class=\"keybord_text\"> <span class=\"blind\">입력도구</span> </span> </button> <div id=\"_nx_kbd\" style=\"display:none\"></div> <button class=\"btn_arrow\" data-atcmp-element=\"\" id=\"nautocomplete\" type=\"button\"> <span class=\"blind\">자동완성/최근검색어펼치기</span> </button> </div> <div class=\"layer_atcmp\" id=\"autoFrame\" style=\"display:none\"></div> </div> </div>,\n",
       " <div class=\"search_group_inner\" id=\"search\"> <h1 class=\"search_logo\" id=\"special-input-logo\"></h1> <form action=\"https://search.naver.com/search.naver\" id=\"sform\" method=\"get\" name=\"search\" role=\"search\"> <fieldset> <legend class=\"blind\">검색</legend> <input name=\"where\" type=\"hidden\" value=\"nexearch\"/> <input id=\"sm\" name=\"sm\" type=\"hidden\" value=\"top_hty\"/> <input id=\"fbm\" name=\"fbm\" type=\"hidden\" value=\"0\"/> <input disabled=\"disabled\" id=\"acr\" name=\"acr\" type=\"hidden\" value=\"\"/> <input disabled=\"disabled\" id=\"acq\" name=\"acq\" type=\"hidden\" value=\"\"/> <input disabled=\"disabled\" id=\"qdt\" name=\"qdt\" type=\"hidden\" value=\"\"/> <input id=\"ie\" name=\"ie\" type=\"hidden\" value=\"utf8\"/> <input disabled=\"disabled\" id=\"acir\" name=\"acir\" type=\"hidden\" value=\"\"/> <input disabled=\"disabled\" id=\"os\" name=\"os\" type=\"hidden\" value=\"\"/> <input disabled=\"disabled\" id=\"bid\" name=\"bid\" type=\"hidden\" value=\"\"/> <input disabled=\"disabled\" id=\"pkid\" name=\"pkid\" type=\"hidden\" value=\"\"/> <input disabled=\"disabled\" id=\"eid\" name=\"eid\" type=\"hidden\" value=\"\"/> <input disabled=\"disabled\" id=\"mra\" name=\"mra\" type=\"hidden\" value=\"\"/> <div class=\"search_input_box\"> <input autocomplete=\"off\" class=\"search_input\" data-atcmp-element=\"\" id=\"query\" maxlength=\"255\" name=\"query\" placeholder=\"검색어를 입력해 주세요.\" title=\"검색어를 입력해 주세요.\" type=\"search\"/> </div> <button class=\"btn_search\" onclick='window.nclk_v2(this,\"sch.action\")' type=\"submit\"> <span class=\"ico_btn_search_svg\"> <svg id=\"search-btn\" viewbox=\"0 0 50 50\" xmlns=\"http://www.w3.org/2000/svg\"> <path d=\"M22.13.5c11.378 0 20.632 9.256 20.632 20.63 0 4.699-1.566 9.155-4.439 12.782l10.164 10.165a2.41 2.41 0 0 1-1.706 4.115 2.412 2.412 0 0 1-1.706-.705L33.31 35.719a2.41 2.41 0 0 1 0-3.41 15.71 15.71 0 0 0 4.628-11.178c0-8.718-7.09-15.808-15.807-15.808-8.718 0-15.808 7.09-15.808 15.808 0 7.15 4.817 13.43 11.714 15.273a2.41 2.41 0 0 1 1.705 2.954 2.41 2.41 0 0 1-2.95 1.705C7.788 38.658 1.5 30.46 1.5 21.131 1.5 9.756 10.756.5 22.13.5zm4.716 34.746a3.483 3.483 0 1 1 0 6.966 3.483 3.483 0 0 1 0-6.966z\"></path> </svg> </span> <span class=\"blind\">검색</span> </button> </fieldset> </form> <div class=\"search_box\"> <button aria-pressed=\"false\" class=\"btn_keyboard\" id=\"ke_kbd_btn\" type=\"button\"> <span class=\"keybord_text\"> <span class=\"blind\">입력도구</span> </span> </button> <div id=\"_nx_kbd\" style=\"display:none\"></div> <button class=\"btn_arrow\" data-atcmp-element=\"\" id=\"nautocomplete\" type=\"button\"> <span class=\"blind\">자동완성/최근검색어펼치기</span> </button> </div> <div class=\"layer_atcmp\" id=\"autoFrame\" style=\"display:none\"></div> </div>,\n",
       " <div class=\"search_input_box\"> <input autocomplete=\"off\" class=\"search_input\" data-atcmp-element=\"\" id=\"query\" maxlength=\"255\" name=\"query\" placeholder=\"검색어를 입력해 주세요.\" title=\"검색어를 입력해 주세요.\" type=\"search\"/> </div>,\n",
       " <div class=\"search_box\"> <button aria-pressed=\"false\" class=\"btn_keyboard\" id=\"ke_kbd_btn\" type=\"button\"> <span class=\"keybord_text\"> <span class=\"blind\">입력도구</span> </span> </button> <div id=\"_nx_kbd\" style=\"display:none\"></div> <button class=\"btn_arrow\" data-atcmp-element=\"\" id=\"nautocomplete\" type=\"button\"> <span class=\"blind\">자동완성/최근검색어펼치기</span> </button> </div>,\n",
       " <div id=\"_nx_kbd\" style=\"display:none\"></div>,\n",
       " <div class=\"layer_atcmp\" id=\"autoFrame\" style=\"display:none\"></div>,\n",
       " <div id=\"search-right-first\"></div>,\n",
       " <div id=\"search-right-second\"></div>,\n",
       " <div aria-label=\"주요 서비스\" class=\"shortcut_area\" id=\"shortcutArea\" role=\"navigation\"></div>,\n",
       " <div class=\"menu_area\" id=\"topAsideArea\"></div>,\n",
       " <div class=\"pay_area\" id=\"topPayArea\"></div>,\n",
       " <div class=\"talk_area\" id=\"topTalkArea\"></div>,\n",
       " <div class=\"notify_area\" id=\"topNotiArea\"></div>,\n",
       " <div class=\"shopping_area\" id=\"topShoppingArea\"></div>,\n",
       " <div id=\"container\" role=\"main\"> <div id=\"root\"></div> </div>,\n",
       " <div id=\"root\"></div>,\n",
       " <div id=\"footer\" role=\"contentinfo\"></div>]"
      ]
     },
     "execution_count": 35,
     "metadata": {},
     "output_type": "execute_result"
    }
   ],
   "source": [
    "soup.find_all('div')"
   ]
  },
  {
   "cell_type": "code",
   "execution_count": 36,
   "metadata": {},
   "outputs": [
    {
     "data": {
      "text/plain": [
       "<div id=\"container\" role=\"main\"> <div id=\"root\"></div> </div>"
      ]
     },
     "execution_count": 36,
     "metadata": {},
     "output_type": "execute_result"
    }
   ],
   "source": [
    "# div태그 중에 id 값이 container 태그를 출력\n",
    "soup.find('div', attrs={'id' : 'container'})"
   ]
  },
  {
   "cell_type": "code",
   "execution_count": 37,
   "metadata": {},
   "outputs": [],
   "source": [
    "# 네이버 파이넨스 사이트에 요청\n",
    "finance_url = 'https://finance.naver.com/'\n",
    "\n",
    "# requests 라이브러리를 이용하여 요청 \n",
    "finance_res = requests.get(finance_url)"
   ]
  },
  {
   "cell_type": "code",
   "execution_count": 38,
   "metadata": {},
   "outputs": [],
   "source": [
    "# bs를 이용하여 데이터를 파싱 \n",
    "finance_soup = bs(finance_res.text, 'html.parser')"
   ]
  },
  {
   "cell_type": "code",
   "execution_count": null,
   "metadata": {},
   "outputs": [],
   "source": [
    "finance_soup"
   ]
  },
  {
   "cell_type": "code",
   "execution_count": 40,
   "metadata": {},
   "outputs": [
    {
     "data": {
      "text/plain": [
       "12"
      ]
     },
     "execution_count": 40,
     "metadata": {},
     "output_type": "execute_result"
    }
   ],
   "source": [
    "# table 태그중 class의 값이 tbl_home인 태그의 개수를 확인 \n",
    "len(\n",
    "    finance_soup.find_all('table', attrs={\n",
    "        'class' : 'tbl_home'\n",
    "    })\n",
    ")"
   ]
  },
  {
   "cell_type": "code",
   "execution_count": 41,
   "metadata": {},
   "outputs": [
    {
     "data": {
      "text/plain": [
       "1"
      ]
     },
     "execution_count": 41,
     "metadata": {},
     "output_type": "execute_result"
    }
   ],
   "source": [
    "# table에서 class가 tbl_home의 개수가 너무 많다. \n",
    "# 부모 태그인 div에 class가 section_sise_top인 태그의 개수를 확인 \n",
    "len(\n",
    "    finance_soup.find_all('div', attrs={\n",
    "        'class' : 'section_sise_top'\n",
    "    })\n",
    ")"
   ]
  },
  {
   "cell_type": "code",
   "execution_count": 42,
   "metadata": {},
   "outputs": [],
   "source": [
    "# 태그의 개수가 1개인 것을 확인 \n",
    "# 전체 html에서 div가 'section_sise_top'인 태그로 라인의 수를 줄인다. \n",
    "section_data = finance_soup.find('div', attrs = {\n",
    "    'class' : 'section_sise_top'\n",
    "})"
   ]
  },
  {
   "cell_type": "code",
   "execution_count": null,
   "metadata": {},
   "outputs": [],
   "source": [
    "section_data"
   ]
  },
  {
   "cell_type": "code",
   "execution_count": 44,
   "metadata": {},
   "outputs": [
    {
     "data": {
      "text/plain": [
       "4"
      ]
     },
     "execution_count": 44,
     "metadata": {},
     "output_type": "execute_result"
    }
   ],
   "source": [
    "# section_data에서 table태그중 class가 tbl_home인 태그의 개수를 확인 \n",
    "len(\n",
    "    section_data.find_all(\n",
    "        'table', attrs = {\n",
    "            'class' : 'tbl_home'\n",
    "        }\n",
    "    )\n",
    ")"
   ]
  },
  {
   "cell_type": "code",
   "execution_count": 45,
   "metadata": {},
   "outputs": [],
   "source": [
    "# table 4개의 정보를 모두 저장 \n",
    "tables = section_data.find_all('table')"
   ]
  },
  {
   "cell_type": "code",
   "execution_count": 46,
   "metadata": {},
   "outputs": [],
   "source": [
    "# table중 첫번째 table의 정보를 확인 \n",
    "table1 = tables[0]"
   ]
  },
  {
   "cell_type": "code",
   "execution_count": null,
   "metadata": {},
   "outputs": [],
   "source": [
    "table1"
   ]
  },
  {
   "cell_type": "code",
   "execution_count": 49,
   "metadata": {},
   "outputs": [],
   "source": [
    "# table1에서 thead의 값들을 출력하여 DataFrame에 columns의 값을 사용\n",
    "thead_data = table1.find('thead')"
   ]
  },
  {
   "cell_type": "code",
   "execution_count": 51,
   "metadata": {},
   "outputs": [],
   "source": [
    "# thead_data에서 th태그를 모두 출력 \n",
    "th_list = thead_data.find_all('th')"
   ]
  },
  {
   "cell_type": "code",
   "execution_count": 56,
   "metadata": {},
   "outputs": [],
   "source": [
    "# th_list에서 문자들만 출력하여 새로운 리스트에 대입 \n",
    "# 리스트 형태의 데이터에서 각 원소들에 특정 행동을 하는 함수 -> map()\n",
    "cols = list(\n",
    "    map(\n",
    "        lambda x : x.get_text(), \n",
    "        th_list\n",
    "    )\n",
    ")"
   ]
  },
  {
   "cell_type": "code",
   "execution_count": null,
   "metadata": {},
   "outputs": [],
   "source": []
  }
 ],
 "metadata": {
  "kernelspec": {
   "display_name": "Python 3",
   "language": "python",
   "name": "python3"
  },
  "language_info": {
   "codemirror_mode": {
    "name": "ipython",
    "version": 3
   },
   "file_extension": ".py",
   "mimetype": "text/x-python",
   "name": "python",
   "nbconvert_exporter": "python",
   "pygments_lexer": "ipython3",
   "version": "3.9.6"
  }
 },
 "nbformat": 4,
 "nbformat_minor": 2
}
