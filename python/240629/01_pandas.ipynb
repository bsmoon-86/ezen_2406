{
 "cells": [
  {
   "cell_type": "code",
   "execution_count": null,
   "metadata": {},
   "outputs": [],
   "source": [
    "# 라이브러리 설치 \n",
    "!pip install pandas"
   ]
  },
  {
   "cell_type": "code",
   "execution_count": null,
   "metadata": {},
   "outputs": [],
   "source": [
    "# 라이브러리 로드 \n",
    "# import 라이브러리명 as 별칭 \n",
    "import pandas as pd\n",
    "# from 라이브러리명 import 라이브러리안에 특정 기능 as 별칭"
   ]
  },
  {
   "cell_type": "code",
   "execution_count": null,
   "metadata": {},
   "outputs": [],
   "source": [
    "# 판다스에서 제공하는 1차원 데이터형태인 Series 데이터(class 생성)를 생성 \n",
    "series_1 = pd.Series(\n",
    "    [5000, 6000, 6500, 6500]\n",
    ")"
   ]
  },
  {
   "cell_type": "code",
   "execution_count": null,
   "metadata": {},
   "outputs": [],
   "source": [
    "print(series_1)"
   ]
  },
  {
   "cell_type": "code",
   "execution_count": null,
   "metadata": {},
   "outputs": [],
   "source": [
    "# Series 라는 Class에는 적어도 2개의 변수가 존재 \n",
    "# values, index 변수 \n",
    "print(\"Series Class에서 values라는 변수는\", series_1.values)\n",
    "print(\"Series Class에서 index라는 변수는\", series_1.index)"
   ]
  },
  {
   "cell_type": "code",
   "execution_count": null,
   "metadata": {},
   "outputs": [],
   "source": [
    "series_2 = pd.Series(\n",
    "    [500, 500, 1000, 1200]\n",
    ")"
   ]
  },
  {
   "cell_type": "code",
   "execution_count": null,
   "metadata": {},
   "outputs": [],
   "source": [
    "# series 간의 합\n",
    "# 같은 인덱스를 가진 value끼리 합\n",
    "print(series_1 + series_2)"
   ]
  },
  {
   "cell_type": "code",
   "execution_count": null,
   "metadata": {},
   "outputs": [],
   "source": [
    "a_list = [1,2,3,4]\n",
    "b_list = [5,6,7,8]\n",
    "print(a_list + b_list)"
   ]
  },
  {
   "cell_type": "code",
   "execution_count": null,
   "metadata": {},
   "outputs": [],
   "source": [
    "series_3 = pd.Series([100, 200, 300], index=[1,2,3])\n",
    "series_3"
   ]
  },
  {
   "cell_type": "code",
   "execution_count": null,
   "metadata": {},
   "outputs": [],
   "source": [
    "print(series_1 + series_3)"
   ]
  },
  {
   "cell_type": "code",
   "execution_count": null,
   "metadata": {},
   "outputs": [],
   "source": [
    "# Series 생성할때 index를 지정 \n",
    "# 주의할 점  : 데이터(values)의 개수와 인덱스의 개수는 같아야 한다. \n",
    "series_4 = pd.Series(\n",
    "    [5000, 6000, 6500, 6500], \n",
    "    index = ['아메리카노', '카페라떼', '카페모카', '카푸치노']\n",
    ")"
   ]
  },
  {
   "cell_type": "code",
   "execution_count": null,
   "metadata": {},
   "outputs": [],
   "source": [
    "series_4"
   ]
  },
  {
   "cell_type": "code",
   "execution_count": null,
   "metadata": {},
   "outputs": [],
   "source": [
    "# 기존의 series 데이터에서 index를 변경 \n",
    "# class 안에 있는 변수의 데이터를 변경\n",
    "series_1.index = ['아메리카노', '카페라떼', '카페모카', '카푸치노']"
   ]
  },
  {
   "cell_type": "code",
   "execution_count": null,
   "metadata": {},
   "outputs": [],
   "source": [
    "series_1"
   ]
  },
  {
   "cell_type": "code",
   "execution_count": null,
   "metadata": {},
   "outputs": [],
   "source": [
    "# series class 안에 있는 rename함수를 이용\n",
    "series_2.rename(\n",
    "    {\n",
    "        0 : 'A', \n",
    "        1 : 'B', \n",
    "        2 : 'C', \n",
    "        3 : 'D'\n",
    "    }, inplace=True\n",
    ")"
   ]
  },
  {
   "cell_type": "code",
   "execution_count": null,
   "metadata": {},
   "outputs": [],
   "source": [
    "series_2"
   ]
  },
  {
   "cell_type": "code",
   "execution_count": null,
   "metadata": {},
   "outputs": [],
   "source": [
    "series_2.index = ['A', 'b', 'C', 'D']"
   ]
  },
  {
   "cell_type": "code",
   "execution_count": null,
   "metadata": {},
   "outputs": [],
   "source": [
    "series_2"
   ]
  },
  {
   "cell_type": "code",
   "execution_count": null,
   "metadata": {},
   "outputs": [],
   "source": [
    "series_2.rename(\n",
    "    {\n",
    "        'b' : 'B'\n",
    "    }, inplace=True\n",
    ")"
   ]
  },
  {
   "cell_type": "code",
   "execution_count": null,
   "metadata": {},
   "outputs": [],
   "source": [
    "# 2차원 데이터 형태인 DataFrame(class) 생성 \n",
    "_values = [\n",
    "    [1,2,3], \n",
    "    [4,5,6], \n",
    "    [7,8,9]\n",
    "]\n",
    "df = pd.DataFrame(_values)"
   ]
  },
  {
   "cell_type": "code",
   "execution_count": null,
   "metadata": {},
   "outputs": [],
   "source": [
    "print(df)"
   ]
  },
  {
   "cell_type": "code",
   "execution_count": null,
   "metadata": {},
   "outputs": [],
   "source": [
    "df"
   ]
  },
  {
   "cell_type": "code",
   "execution_count": null,
   "metadata": {},
   "outputs": [],
   "source": [
    "print('DataFrame에서 index라는 변수', df.index)\n",
    "print('DataFrame에서 columns라는 변수', df.columns)\n",
    "print('DataFrame에서 values라는 변수', df.values)"
   ]
  },
  {
   "cell_type": "code",
   "execution_count": null,
   "metadata": {},
   "outputs": [],
   "source": [
    "# DataFrame에서 컬럼의 이름을 변경 \n",
    "df.columns = ['A', 'B', 'C']"
   ]
  },
  {
   "cell_type": "code",
   "execution_count": null,
   "metadata": {},
   "outputs": [],
   "source": [
    "df"
   ]
  },
  {
   "cell_type": "code",
   "execution_count": null,
   "metadata": {},
   "outputs": [],
   "source": [
    "# axis 매개변수 : 인덱스, 컬럼중에 선택\n",
    "# 'rows' // 0 -> 행을 선택(인덱스 기준)\n",
    "# 'columns' // 1 -> 열을 선택(컬럼 기준)\n",
    "df.rename(\n",
    "    {\n",
    "        'A' : 'a'\n",
    "    },\n",
    "    axis='columns'\n",
    ")"
   ]
  },
  {
   "cell_type": "markdown",
   "metadata": {},
   "source": [
    "### Dict 데이터를 이용하여 DataFrame을 생성"
   ]
  },
  {
   "cell_type": "code",
   "execution_count": null,
   "metadata": {},
   "outputs": [],
   "source": [
    "data = {\n",
    "    'name' : ['test', 'test2', 'test3'], \n",
    "    'age' : [20, 30, 40]\n",
    "}\n",
    "df2 = pd.DataFrame(data)"
   ]
  },
  {
   "cell_type": "code",
   "execution_count": null,
   "metadata": {},
   "outputs": [],
   "source": [
    "df2"
   ]
  },
  {
   "cell_type": "code",
   "execution_count": null,
   "metadata": {},
   "outputs": [],
   "source": [
    "data2 = [\n",
    "    {\n",
    "        'name' : 'test', \n",
    "        'age' : 20\n",
    "    }, \n",
    "    {\n",
    "        'name' : 'test2', \n",
    "        'age' : 30\n",
    "    }, \n",
    "    {\n",
    "        'name' : 'test3', \n",
    "        'age' : 40\n",
    "    }\n",
    "]\n",
    "df3 = pd.DataFrame(data2)"
   ]
  },
  {
   "cell_type": "code",
   "execution_count": null,
   "metadata": {},
   "outputs": [],
   "source": [
    "df3"
   ]
  },
  {
   "cell_type": "markdown",
   "metadata": {},
   "source": [
    "### DataFrame에 있는 필터 기능\n",
    "- 데이터프레임명.loc[인덱스의 조건, 컬럼의 조건]\n",
    "    - 인덱스의 값을 기준으로 데이터프레임을 필터링\n",
    "    - 컬럼의 값을 기준으로 데이터프레임을 필터링\n",
    "- 데이터프레임명.iloc[인덱스의 조건, 컬럼의 조건]\n",
    "    - 인덱스의 위치를 기준으로 데이터프레임을 필터링\n",
    "    - 컬럼의 위치를 기준으로 데이터프레임을 필터링 "
   ]
  },
  {
   "cell_type": "code",
   "execution_count": null,
   "metadata": {},
   "outputs": [],
   "source": [
    "# df3에서 나이가 30인 데이터를 출력 \n",
    "# 2차원 데이터에서 단일 데이터 출력 -> 차원 축소가 2번 \n",
    "# loc 조건 -> index는 1이라는 조건, column은 age라는 조건 \n",
    "df3.loc[1, 'age']"
   ]
  },
  {
   "cell_type": "code",
   "execution_count": null,
   "metadata": {},
   "outputs": [],
   "source": [
    "# 특정 컬럼의 데이터만 출력 \n",
    "# 데이터프레임명[컬럼명]\n",
    "df3['age']\n"
   ]
  },
  {
   "cell_type": "code",
   "execution_count": null,
   "metadata": {},
   "outputs": [],
   "source": [
    "# 데이터프레임명.loc[]\n",
    "# 인덱스의 조건 : 전체\n",
    "# 컬럼의 조건 : age\n",
    "df3.loc[ : , 'age']"
   ]
  },
  {
   "cell_type": "code",
   "execution_count": null,
   "metadata": {},
   "outputs": [],
   "source": [
    "# iloc[]\n",
    "# 인덱스조건 : 전체\n",
    "# 컬럼의 조건 : 2번째 컬럼\n",
    "df3.iloc[ : , 1]"
   ]
  },
  {
   "cell_type": "code",
   "execution_count": null,
   "metadata": {},
   "outputs": [],
   "source": [
    "# loc를 사용하여 컬럼을 전체 인덱스의 조건으로만 필터링 \n",
    "df3.loc[2]"
   ]
  },
  {
   "cell_type": "code",
   "execution_count": null,
   "metadata": {},
   "outputs": [],
   "source": [
    "# 나이가 30살 이상인 데이터를 모두 확인 \n",
    "# 인덱스의 조건식 -> age가 30 이상\n",
    "# 컬럼의 조건식 -> 전체\n",
    "# df3에 있는 age 컬럼의 데이터를 추출해서 30 이상인 데이터를 확인 \n",
    "flag = df3['age'] >= 30\n",
    "df3.loc[flag]\n"
   ]
  },
  {
   "cell_type": "code",
   "execution_count": null,
   "metadata": {},
   "outputs": [],
   "source": [
    "# flag에 반대인 데이터를 출력 ?\n",
    "# flag의 부정을 생성 \n",
    "# 비트연산자(~) -> 2진수 데이터를 역으로 변경 \n",
    "# True -> 1, False -> 0\n",
    "df3.loc[~flag]"
   ]
  },
  {
   "cell_type": "markdown",
   "metadata": {},
   "source": [
    "### 결측치 \n",
    "- 데이터프레임에서 value가 존재하지 않는 경우 \n",
    "- NaN으로 표시 \n",
    "- 결측치가 발생하는 이유\n",
    "    - 데이터를 받아오는 과정에서 통신상 에러 \n",
    "    - 데이터를 입력하는 과정에서 에러 \n",
    "    - 더이상 수집하지 않는 데이터"
   ]
  },
  {
   "cell_type": "code",
   "execution_count": null,
   "metadata": {},
   "outputs": [],
   "source": [
    "import numpy as np"
   ]
  },
  {
   "cell_type": "code",
   "execution_count": null,
   "metadata": {},
   "outputs": [],
   "source": [
    "data = {\n",
    "    'A' : [1,2,3,4,np.nan], \n",
    "    'B' : [1,2,np.nan,4,5], \n",
    "    'C' : [np.nan,2,3,4,5]\n",
    "}\n",
    "df4 = pd.DataFrame(data)"
   ]
  },
  {
   "cell_type": "code",
   "execution_count": null,
   "metadata": {},
   "outputs": [],
   "source": [
    "df4"
   ]
  },
  {
   "cell_type": "code",
   "execution_count": null,
   "metadata": {},
   "outputs": [],
   "source": [
    "np.nan == np.nan"
   ]
  },
  {
   "cell_type": "code",
   "execution_count": null,
   "metadata": {},
   "outputs": [],
   "source": [
    "# 데이터프레임에서 결측치가 존재하는가?\n",
    "# case1 데이터프레임의 정보(info)를 확인 \n",
    "df4.info()"
   ]
  },
  {
   "cell_type": "code",
   "execution_count": null,
   "metadata": {},
   "outputs": [],
   "source": [
    "# case2 결측치와 같은가? 비교연산자\n",
    "# np.nan == np.nan -> False (사용 불가)\n",
    "# is__함수 : 존재의 여부를 판단하는 함수\n",
    "# 결측치 키워드(na)\n",
    "# isna() : 결측치의 존재 여부를 판단하는 함수\n",
    "df4.isna()"
   ]
  },
  {
   "cell_type": "code",
   "execution_count": null,
   "metadata": {},
   "outputs": [],
   "source": [
    "# 결측치의 개수를 확인 \n",
    "# sum() : 합계를 구하는 함수 \n",
    "    # 매개변수 axis : 인덱스를 기준, 컬럼을 기준 \n",
    "df4.isna().sum(axis = 1)"
   ]
  },
  {
   "cell_type": "code",
   "execution_count": null,
   "metadata": {},
   "outputs": [],
   "source": [
    "# 결측치를 포함한 데이터를 필터링\n",
    "flag_null = df4.isna().any(axis=1)\n",
    "df4.loc[flag_null]"
   ]
  },
  {
   "cell_type": "code",
   "execution_count": null,
   "metadata": {},
   "outputs": [],
   "source": [
    "# 결측치가 포함되지 않은 데이터를 필터링\n",
    "df4.loc[~flag_null]"
   ]
  },
  {
   "cell_type": "code",
   "execution_count": null,
   "metadata": {},
   "outputs": [],
   "source": [
    "# 결측치를 제거 \n",
    "# 제거 키워드(drop) + 결측치(na) -> dropna()\n",
    "# axis 매개변수 : 결측치가 포함된 행(0 || 'rows')을 지울것인가? 열(1 || 'columns')을 지울것인가?\n",
    "\n",
    "df4.dropna(axis=0)"
   ]
  },
  {
   "cell_type": "code",
   "execution_count": null,
   "metadata": {},
   "outputs": [],
   "source": [
    "# 결측치를 특정 데이터로 채워주는 함수 \n",
    "# 채워준다 키워드(fill) + 결측치(na) -> fillna()\n",
    "# fillna(data) -> 결측치를 data로 치환해준다. \n",
    "# 매개변수 method -> 'ffill', 'bfill'\n",
    "#   ffill : 전 행의 데이터로 치환\n",
    "#   bfill : 후 행의 데이터로 치환\n",
    "df4.fillna(10)"
   ]
  },
  {
   "cell_type": "code",
   "execution_count": null,
   "metadata": {},
   "outputs": [],
   "source": [
    "df4.fillna(method='ffill')"
   ]
  },
  {
   "cell_type": "code",
   "execution_count": null,
   "metadata": {},
   "outputs": [],
   "source": [
    "df4.fillna(method='bfill')"
   ]
  },
  {
   "cell_type": "markdown",
   "metadata": {},
   "source": [
    "### pandas를 이용하여 외부의 파일을 로드 \n",
    "- 엑셀파일 \n",
    "    - read_excel()\n",
    "        - xls, xlsx 확장자로 이루어진 파일들을 로드할때 사용하는 함수 \n",
    "        - 추가적으로 'openpyxl' 라이브러리를 설치가 필요한 경우가 존재 \n",
    "- 그 외의 데이터 파일 \n",
    "    - read_csv()\n",
    "        - csv, tsv 확장자로 이루어진 파일들을 로드할때 사용하는 함수 \n",
    "    - read_json()\n",
    "        - json 확장자로 이루어진 파일들을 로드할때 사용하는 함수 \n",
    "    - read_xml()\n",
    "        - xml 확장자로 이루어진 파일들을 로드할때 사용하는 함수\n",
    "    - 공통적으로 encoding 매개변수가 존재 \n",
    "        - read_excel에는 해당 매개변수가 존재하지 않는다. \n",
    "        - 기본값(UTF-8)\n",
    "        - CP949, EUC-KR : 파일 내에 한글로 이루어진 데이터가 존재하는 경우 encoding 에러가 종종 발생할때 encoding 변경\n",
    "\n",
    "#### 파일의 경로 \n",
    "\n",
    "- 절대 경로\n",
    "    - 절대적인 주소값\n",
    "    - 환경이 변하더라도(컴퓨터가 변경되었을때) 언제나 같은 위치를 지정\n",
    "    - ex) `c:/users/admin/document/a.csv`, `https://www.google.com`\n",
    "- 상대 경로\n",
    "    - 상대적인 주소값\n",
    "    - 환경이 변할때 주소도 같이 변경\n",
    "    - ./ : 현재 작업중인 디렉토리 \n",
    "    - ../ : 상위 디렉토리로 이동\n",
    "    - 디렉토리명/ : 하위 디렉토리로 이동\n",
    "    - ex) 상위 디렉토리 이동(../) -> csv 하위 디렉토리로 이동(csv/) -> 2014.csv : ../csv/2014.csv\n"
   ]
  },
  {
   "cell_type": "code",
   "execution_count": null,
   "metadata": {},
   "outputs": [],
   "source": [
    "# csv 폴더에 있는 corona.csv 파일을 로드 \n",
    "# 절대경로\n",
    "corona = pd.read_csv(r'D:\\python\\ezen_2406\\python\\csv\\corona.csv')"
   ]
  },
  {
   "cell_type": "code",
   "execution_count": null,
   "metadata": {},
   "outputs": [],
   "source": [
    "# 상대경로 \n",
    "# 상위 디렉토리 이동, csv 하위 디렉토리 이동, corona.csv\n",
    "corona2 = pd.read_csv(\"../csv/corona.csv\")"
   ]
  },
  {
   "cell_type": "code",
   "execution_count": null,
   "metadata": {},
   "outputs": [],
   "source": [
    "# 상위의 데이터 n개를 확인 \n",
    "corona.head(10)"
   ]
  },
  {
   "cell_type": "code",
   "execution_count": null,
   "metadata": {},
   "outputs": [],
   "source": [
    "# 하위의 데이터 n개를 확인 \n",
    "corona.tail(1)"
   ]
  },
  {
   "cell_type": "code",
   "execution_count": null,
   "metadata": {},
   "outputs": [],
   "source": [
    "# 데이터프레임의 정보를 확인 \n",
    "corona.info()"
   ]
  },
  {
   "cell_type": "code",
   "execution_count": null,
   "metadata": {},
   "outputs": [],
   "source": [
    "# 통계적인 요약 정보를 출력하는 함수 \n",
    "corona.describe()"
   ]
  },
  {
   "cell_type": "code",
   "execution_count": null,
   "metadata": {},
   "outputs": [],
   "source": [
    "corona"
   ]
  },
  {
   "cell_type": "code",
   "execution_count": null,
   "metadata": {},
   "outputs": [],
   "source": [
    "## 컬럼을 제거 (Unnamed: 0, seq)\n",
    "# 제거 키워드(drop)\n",
    "# drop() : 특정한 컬럼이나 인덱스를 제거할때 사용 \n",
    "# axis 매개변수 \n",
    "corona.drop(['Unnamed: 0','seq'], axis=1, inplace=True)"
   ]
  },
  {
   "cell_type": "code",
   "execution_count": null,
   "metadata": {},
   "outputs": [],
   "source": [
    "# 컬럼의 이름을 변경 \n",
    "corona.columns = ['등록일시', '총사망자', '총확진자', '기준일', '기준시간', '수정일시', '누적확진자', '누적확진율']"
   ]
  },
  {
   "cell_type": "code",
   "execution_count": null,
   "metadata": {},
   "outputs": [],
   "source": [
    "corona.head(1)"
   ]
  },
  {
   "cell_type": "code",
   "execution_count": null,
   "metadata": {},
   "outputs": [],
   "source": [
    "# 특정 컬럼의 이름을 변경 \n",
    "corona.rename(\n",
    "    {\n",
    "        '누적확진자' : '누적의심자'\n",
    "    }, axis = 1, inplace=True\n",
    ")"
   ]
  },
  {
   "cell_type": "code",
   "execution_count": null,
   "metadata": {},
   "outputs": [],
   "source": [
    "# 결측치의 개수를 확인 \n",
    "corona.isna().sum()"
   ]
  },
  {
   "cell_type": "code",
   "execution_count": null,
   "metadata": {},
   "outputs": [],
   "source": [
    "# 누적확진율 데이터에서 결측치인 데이터만 출력\n",
    "# corona데이터에서 누적확진율 데이터만 출력\n",
    "flag_null = corona['누적확진율'].isna()\n",
    "corona.loc[flag_null]"
   ]
  },
  {
   "cell_type": "code",
   "execution_count": null,
   "metadata": {},
   "outputs": [],
   "source": [
    "# 특정 컬럼의 데이터를 기준으로 오름차순 정렬 \n",
    "# 차순정렬 키워드(sort) + 데이터(values) -> sort_values(기준이되는 컬럼)\n",
    "# ascending 매개변수 : 차순정렬 방법 기본값(True) 오름차순정렬\n",
    "corona.sort_values(['등록일시'], inplace=True)"
   ]
  },
  {
   "cell_type": "code",
   "execution_count": null,
   "metadata": {},
   "outputs": [],
   "source": [
    "corona.head(10)"
   ]
  },
  {
   "cell_type": "code",
   "execution_count": null,
   "metadata": {},
   "outputs": [],
   "source": [
    "# corona에서 인덱스의 값들을 재지정 (초기화)\n",
    "# 초기화 키워드(reset) + 인덱스(index) -> reset_index()\n",
    "# drop 매개변수 : 기본값(False), 기존의 인덱스를 제거할것인가?\n",
    "# corona.reset_index().drop('index', axis=1)\n",
    "corona.reset_index(drop=True, inplace=True)"
   ]
  },
  {
   "cell_type": "code",
   "execution_count": null,
   "metadata": {},
   "outputs": [],
   "source": [
    "corona.head()"
   ]
  },
  {
   "cell_type": "code",
   "execution_count": null,
   "metadata": {},
   "outputs": [],
   "source": [
    "# 총 사망자에서 60이라는 데이터만 출력하려면?\n",
    "corona.loc[1, '총사망자'] - corona.loc[0, '총사망자']\n",
    "corona.loc[2, '총사망자'] - corona.loc[1, '총사망자']\n",
    "corona.loc[3, '총사망자'] - corona.loc[2, '총사망자']\n",
    "corona.loc[4, '총사망자'] - corona.loc[3, '총사망자']\n",
    "\n",
    "\n",
    "\n",
    "corona.loc[819, '총사망자'] - corona.loc[818, '총사망자']"
   ]
  },
  {
   "cell_type": "code",
   "execution_count": null,
   "metadata": {},
   "outputs": [],
   "source": [
    "# 위의 코드를 819번 반복 실행하기 위해서 for문 이용\n",
    "# for문을 이용하여 나온 결과 값을 1차원 데이터(list)에 저장 \n",
    "daily_death = [0]\n",
    "\n",
    "for i in range(1, len(corona), 1):\n",
    "    death_cnt = corona.loc[i, '총사망자'] - corona.loc[i-1, '총사망자']\n",
    "    daily_death.append(death_cnt)\n",
    "\n",
    "print(daily_death)"
   ]
  },
  {
   "cell_type": "code",
   "execution_count": null,
   "metadata": {},
   "outputs": [],
   "source": [
    "# 1차원 리스트 데이터를 데이터프레임에 대입 \n",
    "# 파생변수를 생성 -> 새로운 컬럼을 추가 \n",
    "corona['일일사망자'] = daily_death"
   ]
  },
  {
   "cell_type": "code",
   "execution_count": null,
   "metadata": {},
   "outputs": [],
   "source": [
    "corona.head()"
   ]
  },
  {
   "cell_type": "code",
   "execution_count": null,
   "metadata": {},
   "outputs": [],
   "source": [
    "### shift() 함수를 이용하여 일일사망자 구하기 \n",
    "# shift(n) : n만큼 인덱스를 이동 시키는 함수\n",
    "corona['일일사망자2'] = (corona['총사망자'] - corona['총사망자'].shift(1)).fillna(0)"
   ]
  },
  {
   "cell_type": "code",
   "execution_count": null,
   "metadata": {},
   "outputs": [],
   "source": [
    "corona.head()"
   ]
  },
  {
   "cell_type": "code",
   "execution_count": null,
   "metadata": {},
   "outputs": [],
   "source": [
    "corona['일일사망자3'] = corona['총사망자'].diff(1).fillna(0)"
   ]
  },
  {
   "cell_type": "code",
   "execution_count": null,
   "metadata": {},
   "outputs": [],
   "source": [
    "corona.head()"
   ]
  },
  {
   "cell_type": "code",
   "execution_count": null,
   "metadata": {},
   "outputs": [],
   "source": [
    "corona.describe()"
   ]
  },
  {
   "cell_type": "code",
   "execution_count": null,
   "metadata": {},
   "outputs": [],
   "source": [
    "# 일일사망자에 음수 데이터가 존재한다?\n",
    "# 일일사망자가 음수인 데이터만 확인 \n",
    "# 인덱스 조건 :  일일사망자가 음수인 \n",
    "flag = corona['일일사망자'] < 0\n",
    "corona.loc[flag]"
   ]
  },
  {
   "cell_type": "code",
   "execution_count": null,
   "metadata": {},
   "outputs": [],
   "source": [
    "# 음수인 데이터는 인덱스가 446번이다 \n",
    "# 인덱스가 444부터 448까지의 데이터를 출력 \n",
    "corona.loc[444:448]"
   ]
  },
  {
   "cell_type": "code",
   "execution_count": null,
   "metadata": {},
   "outputs": [],
   "source": [
    "# 인덱스 445의 등록일시가 잘못되어있다. \n",
    "# 2021-05-30 00:00:00.0 데이터를 2021-05-31 00:00:00.000으로 변경\n",
    "corona.loc[445, '등록일시'] = '2021-05-31 00:00:00.000'"
   ]
  },
  {
   "cell_type": "code",
   "execution_count": null,
   "metadata": {},
   "outputs": [],
   "source": [
    "corona.loc[444:448]"
   ]
  },
  {
   "cell_type": "markdown",
   "metadata": {},
   "source": [
    "### 복습 \n",
    "1. 등록일시를 기준으로 오름차순 정렬\n",
    "2. 인덱스를 초기화하고 기존의 인덱스는 제거 \n",
    "3. '일일사망자', '총사망자2', '일일사망자3' 컬럼을 제거 \n",
    "4. '일일사망자' 컬럼을 생성하고 shift()함수를 이용하여 '총사망자'의 데이터에서 전 행의 데이터와의 차이값을 대입 (결측치는 0으로 대체)\n",
    "5. '일일확진자' 컬럼을 생성하고 diff()함수를 이용하여 '총확진자'의 데이터에서 전 행의 데이터와의 차이값을 대입 (결측치는 0으로 대체)\n",
    "6. 일일사망자와 일일확진자에 음수의 데이터가 존재하는가 확인"
   ]
  },
  {
   "cell_type": "code",
   "execution_count": null,
   "metadata": {},
   "outputs": [],
   "source": [
    "# 등록일시를 기준으로 오름차순 정렬 \n",
    "corona.sort_values(['등록일시'], inplace=True)"
   ]
  },
  {
   "cell_type": "code",
   "execution_count": null,
   "metadata": {},
   "outputs": [],
   "source": [
    "# 인덱스를 초기화하고 기존의 인덱스는 제거 \n",
    "corona.reset_index(drop=True, inplace=True)"
   ]
  },
  {
   "cell_type": "code",
   "execution_count": null,
   "metadata": {},
   "outputs": [],
   "source": [
    "# 특정컬럼을 제거 (해당 컬럼을 제외한 나머지 컬럼을 확인)\n",
    "corona.drop(['일일사망자', '총사망자2', '일일사망자3'], axis=1, inplace=True)"
   ]
  },
  {
   "cell_type": "code",
   "execution_count": null,
   "metadata": {},
   "outputs": [],
   "source": [
    "corona.loc[:, '등록일시' : '누적확진율']"
   ]
  },
  {
   "cell_type": "code",
   "execution_count": null,
   "metadata": {},
   "outputs": [],
   "source": [
    "corona.iloc[:, :8]"
   ]
  },
  {
   "cell_type": "code",
   "execution_count": null,
   "metadata": {},
   "outputs": [],
   "source": [
    "# 일일사망자 컬럼을 생성하고 총사망자 컬럼의 데이터의 차이를 대입\n",
    "corona['일일사망자'] = (corona['총사망자'] - corona['총사망자'].shift(1)).fillna(0)\n",
    "corona.head()"
   ]
  },
  {
   "cell_type": "code",
   "execution_count": null,
   "metadata": {},
   "outputs": [],
   "source": [
    "# 일일확진자 컬럼을 생성하고 총확진자 컬럼의 데이터의 차이를 대입 \n",
    "corona['일일확진자'] = corona['총확진자'].diff(1).fillna(0)\n",
    "corona.head()"
   ]
  },
  {
   "cell_type": "code",
   "execution_count": 90,
   "metadata": {},
   "outputs": [
    {
     "data": {
      "text/html": [
       "<div>\n",
       "<style scoped>\n",
       "    .dataframe tbody tr th:only-of-type {\n",
       "        vertical-align: middle;\n",
       "    }\n",
       "\n",
       "    .dataframe tbody tr th {\n",
       "        vertical-align: top;\n",
       "    }\n",
       "\n",
       "    .dataframe thead th {\n",
       "        text-align: right;\n",
       "    }\n",
       "</style>\n",
       "<table border=\"1\" class=\"dataframe\">\n",
       "  <thead>\n",
       "    <tr style=\"text-align: right;\">\n",
       "      <th></th>\n",
       "      <th>총사망자</th>\n",
       "      <th>총확진자</th>\n",
       "      <th>기준일</th>\n",
       "      <th>누적의심자</th>\n",
       "      <th>누적확진율</th>\n",
       "      <th>일일사망자</th>\n",
       "      <th>일일확진자</th>\n",
       "    </tr>\n",
       "  </thead>\n",
       "  <tbody>\n",
       "    <tr>\n",
       "      <th>count</th>\n",
       "      <td>820.000000</td>\n",
       "      <td>8.200000e+02</td>\n",
       "      <td>8.200000e+02</td>\n",
       "      <td>6.920000e+02</td>\n",
       "      <td>623.000000</td>\n",
       "      <td>820.000000</td>\n",
       "      <td>820.000000</td>\n",
       "    </tr>\n",
       "    <tr>\n",
       "      <th>mean</th>\n",
       "      <td>3927.832927</td>\n",
       "      <td>1.913097e+06</td>\n",
       "      <td>2.020897e+07</td>\n",
       "      <td>7.545057e+06</td>\n",
       "      <td>1.556435</td>\n",
       "      <td>29.574390</td>\n",
       "      <td>22171.569512</td>\n",
       "    </tr>\n",
       "    <tr>\n",
       "      <th>std</th>\n",
       "      <td>6164.310693</td>\n",
       "      <td>4.857030e+06</td>\n",
       "      <td>7.118265e+03</td>\n",
       "      <td>6.172020e+06</td>\n",
       "      <td>0.543014</td>\n",
       "      <td>68.530435</td>\n",
       "      <td>71013.844067</td>\n",
       "    </tr>\n",
       "    <tr>\n",
       "      <th>min</th>\n",
       "      <td>54.000000</td>\n",
       "      <td>7.513000e+03</td>\n",
       "      <td>2.020031e+07</td>\n",
       "      <td>2.101440e+05</td>\n",
       "      <td>0.902205</td>\n",
       "      <td>0.000000</td>\n",
       "      <td>0.000000</td>\n",
       "    </tr>\n",
       "    <tr>\n",
       "      <th>25%</th>\n",
       "      <td>415.750000</td>\n",
       "      <td>2.393525e+04</td>\n",
       "      <td>2.020100e+07</td>\n",
       "      <td>1.934309e+06</td>\n",
       "      <td>1.078089</td>\n",
       "      <td>2.000000</td>\n",
       "      <td>125.000000</td>\n",
       "    </tr>\n",
       "    <tr>\n",
       "      <th>50%</th>\n",
       "      <td>1812.500000</td>\n",
       "      <td>1.185640e+05</td>\n",
       "      <td>2.021042e+07</td>\n",
       "      <td>6.368310e+06</td>\n",
       "      <td>1.416159</td>\n",
       "      <td>5.000000</td>\n",
       "      <td>634.000000</td>\n",
       "    </tr>\n",
       "    <tr>\n",
       "      <th>75%</th>\n",
       "      <td>3120.500000</td>\n",
       "      <td>3.979915e+05</td>\n",
       "      <td>2.021112e+07</td>\n",
       "      <td>1.216890e+07</td>\n",
       "      <td>1.816009</td>\n",
       "      <td>20.000000</td>\n",
       "      <td>2782.750000</td>\n",
       "    </tr>\n",
       "    <tr>\n",
       "      <th>max</th>\n",
       "      <td>24305.000000</td>\n",
       "      <td>1.818820e+07</td>\n",
       "      <td>2.022061e+07</td>\n",
       "      <td>2.151807e+07</td>\n",
       "      <td>3.919308</td>\n",
       "      <td>469.000000</td>\n",
       "      <td>621204.000000</td>\n",
       "    </tr>\n",
       "  </tbody>\n",
       "</table>\n",
       "</div>"
      ],
      "text/plain": [
       "               총사망자          총확진자           기준일         누적의심자       누적확진율  \\\n",
       "count    820.000000  8.200000e+02  8.200000e+02  6.920000e+02  623.000000   \n",
       "mean    3927.832927  1.913097e+06  2.020897e+07  7.545057e+06    1.556435   \n",
       "std     6164.310693  4.857030e+06  7.118265e+03  6.172020e+06    0.543014   \n",
       "min       54.000000  7.513000e+03  2.020031e+07  2.101440e+05    0.902205   \n",
       "25%      415.750000  2.393525e+04  2.020100e+07  1.934309e+06    1.078089   \n",
       "50%     1812.500000  1.185640e+05  2.021042e+07  6.368310e+06    1.416159   \n",
       "75%     3120.500000  3.979915e+05  2.021112e+07  1.216890e+07    1.816009   \n",
       "max    24305.000000  1.818820e+07  2.022061e+07  2.151807e+07    3.919308   \n",
       "\n",
       "            일일사망자          일일확진자  \n",
       "count  820.000000     820.000000  \n",
       "mean    29.574390   22171.569512  \n",
       "std     68.530435   71013.844067  \n",
       "min      0.000000       0.000000  \n",
       "25%      2.000000     125.000000  \n",
       "50%      5.000000     634.000000  \n",
       "75%     20.000000    2782.750000  \n",
       "max    469.000000  621204.000000  "
      ]
     },
     "execution_count": 90,
     "metadata": {},
     "output_type": "execute_result"
    }
   ],
   "source": [
    "# 일일사망자, 일일확진자 컬럼에 음수가 존재하는가?\n",
    "corona.describe()"
   ]
  },
  {
   "cell_type": "markdown",
   "metadata": {},
   "source": [
    "### 특수 함수 \n",
    "- map()\n",
    "    - 1차원 데이터를 각 원소들을 변환 사용 \n",
    "    - python 기본함수 \n",
    "        - list( map( 함수명, 1차원리스트 ) )\n",
    "    - Series 내장함수 \n",
    "        - Series명.map(함수명)\n",
    "- lambda 함수\n",
    "    - 일반적인 함수는 함수를 선언, 함수를 호출로 작업이 나눠져있다. \n",
    "    - 함수를 선언함과 동시에 호출"
   ]
  },
  {
   "cell_type": "code",
   "execution_count": 92,
   "metadata": {},
   "outputs": [
    {
     "data": {
      "text/plain": [
       "[1, 4, 9, 16, 25]"
      ]
     },
     "execution_count": 92,
     "metadata": {},
     "output_type": "execute_result"
    }
   ],
   "source": [
    "# python에 기본함수 map \n",
    "\n",
    "# 일반함수를 선언\n",
    "def change(x):\n",
    "    result = x ** 2\n",
    "    return result\n",
    "# 1차원 리스트를 생성\n",
    "_list = [1,2,3,4,5]\n",
    "\n",
    "# map 함수 \n",
    "list(\n",
    "    map(\n",
    "        change, \n",
    "        _list\n",
    "    )\n",
    ")"
   ]
  },
  {
   "cell_type": "code",
   "execution_count": 93,
   "metadata": {},
   "outputs": [
    {
     "data": {
      "text/plain": [
       "[1, 4, 9, 16, 25]"
      ]
     },
     "execution_count": 93,
     "metadata": {},
     "output_type": "execute_result"
    }
   ],
   "source": [
    "_list = [1,2,3,4,5]\n",
    "\n",
    "list(\n",
    "    map(\n",
    "        lambda x : x ** 2, \n",
    "        _list\n",
    "    )\n",
    ")"
   ]
  },
  {
   "cell_type": "code",
   "execution_count": 94,
   "metadata": {},
   "outputs": [],
   "source": [
    "# series에 내장된 map()함수 \n",
    "corona_30 = corona.tail(30)"
   ]
  },
  {
   "cell_type": "code",
   "execution_count": null,
   "metadata": {},
   "outputs": [],
   "source": [
    "# 일일사망자가 25명 미만이면 low, 25명 이상이면 high\n",
    "# map + 일반함수 \n",
    "def change(x):\n",
    "    # x가 25 이상인가?\n",
    "    if x >= 25:\n",
    "        result = 'high'\n",
    "    else:\n",
    "        result = 'low'\n",
    "    return result\n",
    "\n",
    "corona_30['일일사망자'].map(\n",
    "    change\n",
    ")"
   ]
  },
  {
   "cell_type": "code",
   "execution_count": 99,
   "metadata": {},
   "outputs": [
    {
     "data": {
      "text/plain": [
       "790    high\n",
       "791    high\n",
       "792    high\n",
       "793    high\n",
       "794    high\n",
       "795    high\n",
       "796    high\n",
       "797    high\n",
       "798    high\n",
       "799    high\n",
       "800    high\n",
       "801    high\n",
       "802    high\n",
       "803     low\n",
       "804     low\n",
       "805     low\n",
       "806    high\n",
       "807    high\n",
       "808    high\n",
       "809     low\n",
       "810     low\n",
       "811     low\n",
       "812     low\n",
       "813     low\n",
       "814     low\n",
       "815     low\n",
       "816     low\n",
       "817     low\n",
       "818     low\n",
       "819     low\n",
       "Name: 일일사망자, dtype: object"
      ]
     },
     "execution_count": 99,
     "metadata": {},
     "output_type": "execute_result"
    }
   ],
   "source": [
    "# map + lambda\n",
    "# if문을 한줄로 작성하는 방법 : '참인경우 데이터' if 조건식 else '거짓인 경우 데이터'\n",
    "corona_30['일일사망자'].map(\n",
    "    lambda x : 'high' if x >= 25 else 'low'\n",
    ")"
   ]
  }
 ],
 "metadata": {
  "kernelspec": {
   "display_name": "base",
   "language": "python",
   "name": "python3"
  },
  "language_info": {
   "codemirror_mode": {
    "name": "ipython",
    "version": 3
   },
   "file_extension": ".py",
   "mimetype": "text/x-python",
   "name": "python",
   "nbconvert_exporter": "python",
   "pygments_lexer": "ipython3",
   "version": "3.11.4"
  }
 },
 "nbformat": 4,
 "nbformat_minor": 2
}
