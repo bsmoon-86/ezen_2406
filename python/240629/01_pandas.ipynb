{
 "cells": [
  {
   "cell_type": "code",
   "execution_count": null,
   "metadata": {},
   "outputs": [],
   "source": [
    "# 라이브러리 설치 \n",
    "!pip install pandas"
   ]
  },
  {
   "cell_type": "code",
   "execution_count": null,
   "metadata": {},
   "outputs": [],
   "source": [
    "# 라이브러리 로드 \n",
    "# import 라이브러리명 as 별칭 \n",
    "import pandas as pd\n",
    "# from 라이브러리명 import 라이브러리안에 특정 기능 as 별칭"
   ]
  },
  {
   "cell_type": "code",
   "execution_count": null,
   "metadata": {},
   "outputs": [],
   "source": [
    "# 판다스에서 제공하는 1차원 데이터형태인 Series 데이터(class 생성)를 생성 \n",
    "series_1 = pd.Series(\n",
    "    [5000, 6000, 6500, 6500]\n",
    ")"
   ]
  },
  {
   "cell_type": "code",
   "execution_count": null,
   "metadata": {},
   "outputs": [],
   "source": [
    "print(series_1)"
   ]
  },
  {
   "cell_type": "code",
   "execution_count": null,
   "metadata": {},
   "outputs": [],
   "source": [
    "# Series 라는 Class에는 적어도 2개의 변수가 존재 \n",
    "# values, index 변수 \n",
    "print(\"Series Class에서 values라는 변수는\", series_1.values)\n",
    "print(\"Series Class에서 index라는 변수는\", series_1.index)"
   ]
  },
  {
   "cell_type": "code",
   "execution_count": null,
   "metadata": {},
   "outputs": [],
   "source": [
    "series_2 = pd.Series(\n",
    "    [500, 500, 1000, 1200]\n",
    ")"
   ]
  },
  {
   "cell_type": "code",
   "execution_count": null,
   "metadata": {},
   "outputs": [],
   "source": [
    "# series 간의 합\n",
    "# 같은 인덱스를 가진 value끼리 합\n",
    "print(series_1 + series_2)"
   ]
  },
  {
   "cell_type": "code",
   "execution_count": null,
   "metadata": {},
   "outputs": [],
   "source": [
    "a_list = [1,2,3,4]\n",
    "b_list = [5,6,7,8]\n",
    "print(a_list + b_list)"
   ]
  },
  {
   "cell_type": "code",
   "execution_count": null,
   "metadata": {},
   "outputs": [],
   "source": [
    "series_3 = pd.Series([100, 200, 300], index=[1,2,3])\n",
    "series_3"
   ]
  },
  {
   "cell_type": "code",
   "execution_count": null,
   "metadata": {},
   "outputs": [],
   "source": [
    "print(series_1 + series_3)"
   ]
  },
  {
   "cell_type": "code",
   "execution_count": null,
   "metadata": {},
   "outputs": [],
   "source": [
    "# Series 생성할때 index를 지정 \n",
    "# 주의할 점  : 데이터(values)의 개수와 인덱스의 개수는 같아야 한다. \n",
    "series_4 = pd.Series(\n",
    "    [5000, 6000, 6500, 6500], \n",
    "    index = ['아메리카노', '카페라떼', '카페모카', '카푸치노']\n",
    ")"
   ]
  },
  {
   "cell_type": "code",
   "execution_count": null,
   "metadata": {},
   "outputs": [],
   "source": [
    "series_4"
   ]
  },
  {
   "cell_type": "code",
   "execution_count": null,
   "metadata": {},
   "outputs": [],
   "source": [
    "# 기존의 series 데이터에서 index를 변경 \n",
    "# class 안에 있는 변수의 데이터를 변경\n",
    "series_1.index = ['아메리카노', '카페라떼', '카페모카', '카푸치노']"
   ]
  },
  {
   "cell_type": "code",
   "execution_count": null,
   "metadata": {},
   "outputs": [],
   "source": [
    "series_1"
   ]
  },
  {
   "cell_type": "code",
   "execution_count": null,
   "metadata": {},
   "outputs": [],
   "source": [
    "# series class 안에 있는 rename함수를 이용\n",
    "series_2.rename(\n",
    "    {\n",
    "        0 : 'A', \n",
    "        1 : 'B', \n",
    "        2 : 'C', \n",
    "        3 : 'D'\n",
    "    }, inplace=True\n",
    ")"
   ]
  },
  {
   "cell_type": "code",
   "execution_count": null,
   "metadata": {},
   "outputs": [],
   "source": [
    "series_2"
   ]
  },
  {
   "cell_type": "code",
   "execution_count": null,
   "metadata": {},
   "outputs": [],
   "source": [
    "series_2.index = ['A', 'b', 'C', 'D']"
   ]
  },
  {
   "cell_type": "code",
   "execution_count": null,
   "metadata": {},
   "outputs": [],
   "source": [
    "series_2"
   ]
  },
  {
   "cell_type": "code",
   "execution_count": null,
   "metadata": {},
   "outputs": [],
   "source": [
    "series_2.rename(\n",
    "    {\n",
    "        'b' : 'B'\n",
    "    }, inplace=True\n",
    ")"
   ]
  },
  {
   "cell_type": "code",
   "execution_count": null,
   "metadata": {},
   "outputs": [],
   "source": [
    "# 2차원 데이터 형태인 DataFrame(class) 생성 \n",
    "_values = [\n",
    "    [1,2,3], \n",
    "    [4,5,6], \n",
    "    [7,8,9]\n",
    "]\n",
    "df = pd.DataFrame(_values)"
   ]
  },
  {
   "cell_type": "code",
   "execution_count": null,
   "metadata": {},
   "outputs": [],
   "source": [
    "print(df)"
   ]
  },
  {
   "cell_type": "code",
   "execution_count": null,
   "metadata": {},
   "outputs": [],
   "source": [
    "df"
   ]
  },
  {
   "cell_type": "code",
   "execution_count": null,
   "metadata": {},
   "outputs": [],
   "source": [
    "print('DataFrame에서 index라는 변수', df.index)\n",
    "print('DataFrame에서 columns라는 변수', df.columns)\n",
    "print('DataFrame에서 values라는 변수', df.values)"
   ]
  },
  {
   "cell_type": "code",
   "execution_count": null,
   "metadata": {},
   "outputs": [],
   "source": [
    "# DataFrame에서 컬럼의 이름을 변경 \n",
    "df.columns = ['A', 'B', 'C']"
   ]
  },
  {
   "cell_type": "code",
   "execution_count": null,
   "metadata": {},
   "outputs": [],
   "source": [
    "df"
   ]
  },
  {
   "cell_type": "code",
   "execution_count": null,
   "metadata": {},
   "outputs": [],
   "source": [
    "# axis 매개변수 : 인덱스, 컬럼중에 선택\n",
    "# 'rows' // 0 -> 행을 선택(인덱스 기준)\n",
    "# 'columns' // 1 -> 열을 선택(컬럼 기준)\n",
    "df.rename(\n",
    "    {\n",
    "        'A' : 'a'\n",
    "    },\n",
    "    axis='columns'\n",
    ")"
   ]
  },
  {
   "cell_type": "markdown",
   "metadata": {},
   "source": [
    "### Dict 데이터를 이용하여 DataFrame을 생성"
   ]
  },
  {
   "cell_type": "code",
   "execution_count": null,
   "metadata": {},
   "outputs": [],
   "source": [
    "data = {\n",
    "    'name' : ['test', 'test2', 'test3'], \n",
    "    'age' : [20, 30, 40]\n",
    "}\n",
    "df2 = pd.DataFrame(data)"
   ]
  },
  {
   "cell_type": "code",
   "execution_count": null,
   "metadata": {},
   "outputs": [],
   "source": [
    "df2"
   ]
  },
  {
   "cell_type": "code",
   "execution_count": null,
   "metadata": {},
   "outputs": [],
   "source": [
    "data2 = [\n",
    "    {\n",
    "        'name' : 'test', \n",
    "        'age' : 20\n",
    "    }, \n",
    "    {\n",
    "        'name' : 'test2', \n",
    "        'age' : 30\n",
    "    }, \n",
    "    {\n",
    "        'name' : 'test3', \n",
    "        'age' : 40\n",
    "    }\n",
    "]\n",
    "df3 = pd.DataFrame(data2)"
   ]
  },
  {
   "cell_type": "code",
   "execution_count": null,
   "metadata": {},
   "outputs": [],
   "source": [
    "df3"
   ]
  },
  {
   "cell_type": "markdown",
   "metadata": {},
   "source": [
    "### DataFrame에 있는 필터 기능\n",
    "- 데이터프레임명.loc[인덱스의 조건, 컬럼의 조건]\n",
    "    - 인덱스의 값을 기준으로 데이터프레임을 필터링\n",
    "    - 컬럼의 값을 기준으로 데이터프레임을 필터링\n",
    "- 데이터프레임명.iloc[인덱스의 조건, 컬럼의 조건]\n",
    "    - 인덱스의 위치를 기준으로 데이터프레임을 필터링\n",
    "    - 컬럼의 위치를 기준으로 데이터프레임을 필터링 "
   ]
  },
  {
   "cell_type": "code",
   "execution_count": null,
   "metadata": {},
   "outputs": [],
   "source": [
    "# df3에서 나이가 30인 데이터를 출력 \n",
    "# 2차원 데이터에서 단일 데이터 출력 -> 차원 축소가 2번 \n",
    "# loc 조건 -> index는 1이라는 조건, column은 age라는 조건 \n",
    "df3.loc[1, 'age']"
   ]
  },
  {
   "cell_type": "code",
   "execution_count": null,
   "metadata": {},
   "outputs": [],
   "source": [
    "# 특정 컬럼의 데이터만 출력 \n",
    "# 데이터프레임명[컬럼명]\n",
    "df3['age']\n"
   ]
  },
  {
   "cell_type": "code",
   "execution_count": null,
   "metadata": {},
   "outputs": [],
   "source": [
    "# 데이터프레임명.loc[]\n",
    "# 인덱스의 조건 : 전체\n",
    "# 컬럼의 조건 : age\n",
    "df3.loc[ : , 'age']"
   ]
  },
  {
   "cell_type": "code",
   "execution_count": null,
   "metadata": {},
   "outputs": [],
   "source": [
    "# iloc[]\n",
    "# 인덱스조건 : 전체\n",
    "# 컬럼의 조건 : 2번째 컬럼\n",
    "df3.iloc[ : , 1]"
   ]
  },
  {
   "cell_type": "code",
   "execution_count": null,
   "metadata": {},
   "outputs": [],
   "source": [
    "# loc를 사용하여 컬럼을 전체 인덱스의 조건으로만 필터링 \n",
    "df3.loc[2]"
   ]
  },
  {
   "cell_type": "code",
   "execution_count": null,
   "metadata": {},
   "outputs": [],
   "source": [
    "# 나이가 30살 이상인 데이터를 모두 확인 \n",
    "# 인덱스의 조건식 -> age가 30 이상\n",
    "# 컬럼의 조건식 -> 전체\n",
    "# df3에 있는 age 컬럼의 데이터를 추출해서 30 이상인 데이터를 확인 \n",
    "flag = df3['age'] >= 30\n",
    "df3.loc[flag]\n"
   ]
  },
  {
   "cell_type": "code",
   "execution_count": null,
   "metadata": {},
   "outputs": [],
   "source": [
    "# flag에 반대인 데이터를 출력 ?\n",
    "# flag의 부정을 생성 \n",
    "# 비트연산자(~) -> 2진수 데이터를 역으로 변경 \n",
    "# True -> 1, False -> 0\n",
    "df3.loc[~flag]"
   ]
  },
  {
   "cell_type": "markdown",
   "metadata": {},
   "source": [
    "### 결측치 \n",
    "- 데이터프레임에서 value가 존재하지 않는 경우 \n",
    "- NaN으로 표시 \n",
    "- 결측치가 발생하는 이유\n",
    "    - 데이터를 받아오는 과정에서 통신상 에러 \n",
    "    - 데이터를 입력하는 과정에서 에러 \n",
    "    - 더이상 수집하지 않는 데이터"
   ]
  },
  {
   "cell_type": "code",
   "execution_count": null,
   "metadata": {},
   "outputs": [],
   "source": [
    "import numpy as np"
   ]
  },
  {
   "cell_type": "code",
   "execution_count": null,
   "metadata": {},
   "outputs": [],
   "source": [
    "data = {\n",
    "    'A' : [1,2,3,4,np.nan], \n",
    "    'B' : [1,2,np.nan,4,5], \n",
    "    'C' : [np.nan,2,3,4,5]\n",
    "}\n",
    "df4 = pd.DataFrame(data)"
   ]
  },
  {
   "cell_type": "code",
   "execution_count": null,
   "metadata": {},
   "outputs": [],
   "source": [
    "df4"
   ]
  },
  {
   "cell_type": "code",
   "execution_count": null,
   "metadata": {},
   "outputs": [],
   "source": [
    "np.nan == np.nan"
   ]
  },
  {
   "cell_type": "code",
   "execution_count": null,
   "metadata": {},
   "outputs": [],
   "source": [
    "# 데이터프레임에서 결측치가 존재하는가?\n",
    "# case1 데이터프레임의 정보(info)를 확인 \n",
    "df4.info()"
   ]
  },
  {
   "cell_type": "code",
   "execution_count": null,
   "metadata": {},
   "outputs": [],
   "source": [
    "# case2 결측치와 같은가? 비교연산자\n",
    "# np.nan == np.nan -> False (사용 불가)\n",
    "# is__함수 : 존재의 여부를 판단하는 함수\n",
    "# 결측치 키워드(na)\n",
    "# isna() : 결측치의 존재 여부를 판단하는 함수\n",
    "df4.isna()"
   ]
  },
  {
   "cell_type": "code",
   "execution_count": null,
   "metadata": {},
   "outputs": [],
   "source": [
    "# 결측치의 개수를 확인 \n",
    "# sum() : 합계를 구하는 함수 \n",
    "    # 매개변수 axis : 인덱스를 기준, 컬럼을 기준 \n",
    "df4.isna().sum(axis = 1)"
   ]
  },
  {
   "cell_type": "code",
   "execution_count": null,
   "metadata": {},
   "outputs": [],
   "source": [
    "# 결측치를 포함한 데이터를 필터링\n",
    "flag_null = df4.isna().any(axis=1)\n",
    "df4.loc[flag_null]"
   ]
  },
  {
   "cell_type": "code",
   "execution_count": null,
   "metadata": {},
   "outputs": [],
   "source": [
    "# 결측치가 포함되지 않은 데이터를 필터링\n",
    "df4.loc[~flag_null]"
   ]
  },
  {
   "cell_type": "code",
   "execution_count": null,
   "metadata": {},
   "outputs": [],
   "source": [
    "# 결측치를 제거 \n",
    "# 제거 키워드(drop) + 결측치(na) -> dropna()\n",
    "# axis 매개변수 : 결측치가 포함된 행(0 || 'rows')을 지울것인가? 열(1 || 'columns')을 지울것인가?\n",
    "\n",
    "df4.dropna(axis=0)"
   ]
  },
  {
   "cell_type": "code",
   "execution_count": null,
   "metadata": {},
   "outputs": [],
   "source": [
    "# 결측치를 특정 데이터로 채워주는 함수 \n",
    "# 채워준다 키워드(fill) + 결측치(na) -> fillna()\n",
    "# fillna(data) -> 결측치를 data로 치환해준다. \n",
    "# 매개변수 method -> 'ffill', 'bfill'\n",
    "#   ffill : 전 행의 데이터로 치환\n",
    "#   bfill : 후 행의 데이터로 치환\n",
    "df4.fillna(10)"
   ]
  },
  {
   "cell_type": "code",
   "execution_count": null,
   "metadata": {},
   "outputs": [],
   "source": [
    "df4.fillna(method='ffill')"
   ]
  },
  {
   "cell_type": "code",
   "execution_count": null,
   "metadata": {},
   "outputs": [],
   "source": [
    "df4.fillna(method='bfill')"
   ]
  },
  {
   "cell_type": "markdown",
   "metadata": {},
   "source": [
    "### pandas를 이용하여 외부의 파일을 로드 \n",
    "- 엑셀파일 \n",
    "    - read_excel()\n",
    "        - xls, xlsx 확장자로 이루어진 파일들을 로드할때 사용하는 함수 \n",
    "        - 추가적으로 'openpyxl' 라이브러리를 설치가 필요한 경우가 존재 \n",
    "- 그 외의 데이터 파일 \n",
    "    - read_csv()\n",
    "        - csv, tsv 확장자로 이루어진 파일들을 로드할때 사용하는 함수 \n",
    "    - read_json()\n",
    "        - json 확장자로 이루어진 파일들을 로드할때 사용하는 함수 \n",
    "    - read_xml()\n",
    "        - xml 확장자로 이루어진 파일들을 로드할때 사용하는 함수\n",
    "    - 공통적으로 encoding 매개변수가 존재 \n",
    "        - read_excel에는 해당 매개변수가 존재하지 않는다. \n",
    "        - 기본값(UTF-8)\n",
    "        - CP949, EUC-KR : 파일 내에 한글로 이루어진 데이터가 존재하는 경우 encoding 에러가 종종 발생할때 encoding 변경\n",
    "\n",
    "#### 파일의 경로 \n",
    "\n",
    "- 절대 경로\n",
    "    - 절대적인 주소값\n",
    "    - 환경이 변하더라도(컴퓨터가 변경되었을때) 언제나 같은 위치를 지정\n",
    "    - ex) `c:/users/admin/document/a.csv`, `https://www.google.com`\n",
    "- 상대 경로\n",
    "    - 상대적인 주소값\n",
    "    - 환경이 변할때 주소도 같이 변경\n",
    "    - ./ : 현재 작업중인 디렉토리 \n",
    "    - ../ : 상위 디렉토리로 이동\n",
    "    - 디렉토리명/ : 하위 디렉토리로 이동\n",
    "    - ex) 상위 디렉토리 이동(../) -> csv 하위 디렉토리로 이동(csv/) -> 2014.csv : ../csv/2014.csv\n"
   ]
  },
  {
   "cell_type": "code",
   "execution_count": null,
   "metadata": {},
   "outputs": [],
   "source": [
    "# csv 폴더에 있는 corona.csv 파일을 로드 \n",
    "# 절대경로\n",
    "corona = pd.read_csv(r'D:\\python\\ezen_2406\\python\\csv\\corona.csv')"
   ]
  },
  {
   "cell_type": "code",
   "execution_count": null,
   "metadata": {},
   "outputs": [],
   "source": [
    "# 상대경로 \n",
    "# 상위 디렉토리 이동, csv 하위 디렉토리 이동, corona.csv\n",
    "corona2 = pd.read_csv(\"../csv/corona.csv\")"
   ]
  },
  {
   "cell_type": "code",
   "execution_count": null,
   "metadata": {},
   "outputs": [],
   "source": [
    "# 상위의 데이터 n개를 확인 \n",
    "corona.head(10)"
   ]
  },
  {
   "cell_type": "code",
   "execution_count": null,
   "metadata": {},
   "outputs": [],
   "source": [
    "# 하위의 데이터 n개를 확인 \n",
    "corona.tail(1)"
   ]
  },
  {
   "cell_type": "code",
   "execution_count": null,
   "metadata": {},
   "outputs": [],
   "source": [
    "# 데이터프레임의 정보를 확인 \n",
    "corona.info()"
   ]
  },
  {
   "cell_type": "code",
   "execution_count": null,
   "metadata": {},
   "outputs": [],
   "source": [
    "# 통계적인 요약 정보를 출력하는 함수 \n",
    "corona.describe()"
   ]
  },
  {
   "cell_type": "code",
   "execution_count": null,
   "metadata": {},
   "outputs": [],
   "source": [
    "corona"
   ]
  },
  {
   "cell_type": "code",
   "execution_count": null,
   "metadata": {},
   "outputs": [],
   "source": [
    "## 컬럼을 제거 (Unnamed: 0, seq)\n",
    "# 제거 키워드(drop)\n",
    "# drop() : 특정한 컬럼이나 인덱스를 제거할때 사용 \n",
    "# axis 매개변수 \n",
    "corona.drop(['Unnamed: 0','seq'], axis=1, inplace=True)"
   ]
  },
  {
   "cell_type": "code",
   "execution_count": null,
   "metadata": {},
   "outputs": [],
   "source": [
    "# 컬럼의 이름을 변경 \n",
    "corona.columns = ['등록일시', '총사망자', '총확진자', '기준일', '기준시간', '수정일시', '누적확진자', '누적확진율']"
   ]
  },
  {
   "cell_type": "code",
   "execution_count": null,
   "metadata": {},
   "outputs": [],
   "source": [
    "corona.head(1)"
   ]
  },
  {
   "cell_type": "code",
   "execution_count": null,
   "metadata": {},
   "outputs": [],
   "source": [
    "# 특정 컬럼의 이름을 변경 \n",
    "corona.rename(\n",
    "    {\n",
    "        '누적확진자' : '누적의심자'\n",
    "    }, axis = 1, inplace=True\n",
    ")"
   ]
  },
  {
   "cell_type": "code",
   "execution_count": null,
   "metadata": {},
   "outputs": [],
   "source": [
    "# 결측치의 개수를 확인 \n",
    "corona.isna().sum()"
   ]
  },
  {
   "cell_type": "code",
   "execution_count": null,
   "metadata": {},
   "outputs": [],
   "source": [
    "# 누적확진율 데이터에서 결측치인 데이터만 출력\n",
    "# corona데이터에서 누적확진율 데이터만 출력\n",
    "flag_null = corona['누적확진율'].isna()\n",
    "corona.loc[flag_null]"
   ]
  },
  {
   "cell_type": "code",
   "execution_count": null,
   "metadata": {},
   "outputs": [],
   "source": [
    "# 특정 컬럼의 데이터를 기준으로 오름차순 정렬 \n",
    "# 차순정렬 키워드(sort) + 데이터(values) -> sort_values(기준이되는 컬럼)\n",
    "# ascending 매개변수 : 차순정렬 방법 기본값(True) 오름차순정렬\n",
    "corona.sort_values(['등록일시'], inplace=True)"
   ]
  },
  {
   "cell_type": "code",
   "execution_count": null,
   "metadata": {},
   "outputs": [],
   "source": [
    "corona.head(10)"
   ]
  },
  {
   "cell_type": "code",
   "execution_count": null,
   "metadata": {},
   "outputs": [],
   "source": [
    "# corona에서 인덱스의 값들을 재지정 (초기화)\n",
    "# 초기화 키워드(reset) + 인덱스(index) -> reset_index()\n",
    "# drop 매개변수 : 기본값(False), 기존의 인덱스를 제거할것인가?\n",
    "# corona.reset_index().drop('index', axis=1)\n",
    "corona.reset_index(drop=True, inplace=True)"
   ]
  },
  {
   "cell_type": "code",
   "execution_count": null,
   "metadata": {},
   "outputs": [],
   "source": [
    "corona.head()"
   ]
  },
  {
   "cell_type": "code",
   "execution_count": null,
   "metadata": {},
   "outputs": [],
   "source": [
    "# 총 사망자에서 60이라는 데이터만 출력하려면?\n",
    "corona.loc[1, '총사망자'] - corona.loc[0, '총사망자']\n",
    "corona.loc[2, '총사망자'] - corona.loc[1, '총사망자']\n",
    "corona.loc[3, '총사망자'] - corona.loc[2, '총사망자']\n",
    "corona.loc[4, '총사망자'] - corona.loc[3, '총사망자']\n",
    "\n",
    "\n",
    "\n",
    "corona.loc[819, '총사망자'] - corona.loc[818, '총사망자']"
   ]
  },
  {
   "cell_type": "code",
   "execution_count": null,
   "metadata": {},
   "outputs": [],
   "source": [
    "# 위의 코드를 819번 반복 실행하기 위해서 for문 이용\n",
    "# for문을 이용하여 나온 결과 값을 1차원 데이터(list)에 저장 \n",
    "daily_death = [0]\n",
    "\n",
    "for i in range(1, len(corona), 1):\n",
    "    death_cnt = corona.loc[i, '총사망자'] - corona.loc[i-1, '총사망자']\n",
    "    daily_death.append(death_cnt)\n",
    "\n",
    "print(daily_death)"
   ]
  },
  {
   "cell_type": "code",
   "execution_count": null,
   "metadata": {},
   "outputs": [],
   "source": [
    "# 1차원 리스트 데이터를 데이터프레임에 대입 \n",
    "# 파생변수를 생성 -> 새로운 컬럼을 추가 \n",
    "corona['일일사망자'] = daily_death"
   ]
  },
  {
   "cell_type": "code",
   "execution_count": null,
   "metadata": {},
   "outputs": [],
   "source": [
    "corona.head()"
   ]
  },
  {
   "cell_type": "code",
   "execution_count": null,
   "metadata": {},
   "outputs": [],
   "source": [
    "### shift() 함수를 이용하여 일일사망자 구하기 \n",
    "# shift(n) : n만큼 인덱스를 이동 시키는 함수\n",
    "corona['일일사망자2'] = (corona['총사망자'] - corona['총사망자'].shift(1)).fillna(0)"
   ]
  },
  {
   "cell_type": "code",
   "execution_count": null,
   "metadata": {},
   "outputs": [],
   "source": [
    "corona.head()"
   ]
  },
  {
   "cell_type": "code",
   "execution_count": 66,
   "metadata": {},
   "outputs": [],
   "source": [
    "corona['일일사망자3'] = corona['총사망자'].diff(1).fillna(0)"
   ]
  },
  {
   "cell_type": "code",
   "execution_count": 67,
   "metadata": {},
   "outputs": [
    {
     "data": {
      "text/html": [
       "<div>\n",
       "<style scoped>\n",
       "    .dataframe tbody tr th:only-of-type {\n",
       "        vertical-align: middle;\n",
       "    }\n",
       "\n",
       "    .dataframe tbody tr th {\n",
       "        vertical-align: top;\n",
       "    }\n",
       "\n",
       "    .dataframe thead th {\n",
       "        text-align: right;\n",
       "    }\n",
       "</style>\n",
       "<table border=\"1\" class=\"dataframe\">\n",
       "  <thead>\n",
       "    <tr style=\"text-align: right;\">\n",
       "      <th></th>\n",
       "      <th>등록일시</th>\n",
       "      <th>총사망자</th>\n",
       "      <th>총확진자</th>\n",
       "      <th>기준일</th>\n",
       "      <th>기준시간</th>\n",
       "      <th>수정일시</th>\n",
       "      <th>누적의심자</th>\n",
       "      <th>누적확진율</th>\n",
       "      <th>일일사망자</th>\n",
       "      <th>총사망자2</th>\n",
       "      <th>일일사망자3</th>\n",
       "    </tr>\n",
       "  </thead>\n",
       "  <tbody>\n",
       "    <tr>\n",
       "      <th>0</th>\n",
       "      <td>2020-03-10 00:00:00.000</td>\n",
       "      <td>54</td>\n",
       "      <td>7513</td>\n",
       "      <td>20200310</td>\n",
       "      <td>00:00</td>\n",
       "      <td>2021-10-07 10:30:51.51</td>\n",
       "      <td>210144.0</td>\n",
       "      <td>3.919308</td>\n",
       "      <td>0</td>\n",
       "      <td>0.0</td>\n",
       "      <td>0.0</td>\n",
       "    </tr>\n",
       "    <tr>\n",
       "      <th>1</th>\n",
       "      <td>2020-03-11 00:00:00.000</td>\n",
       "      <td>60</td>\n",
       "      <td>7755</td>\n",
       "      <td>20200311</td>\n",
       "      <td>00:00</td>\n",
       "      <td>2021-10-07 10:30:51.51</td>\n",
       "      <td>222395.0</td>\n",
       "      <td>3.804175</td>\n",
       "      <td>6</td>\n",
       "      <td>6.0</td>\n",
       "      <td>6.0</td>\n",
       "    </tr>\n",
       "    <tr>\n",
       "      <th>2</th>\n",
       "      <td>2020-03-12 00:00:00.000</td>\n",
       "      <td>66</td>\n",
       "      <td>7869</td>\n",
       "      <td>20200312</td>\n",
       "      <td>00:00</td>\n",
       "      <td>2021-10-07 10:30:51.51</td>\n",
       "      <td>234998.0</td>\n",
       "      <td>3.621744</td>\n",
       "      <td>6</td>\n",
       "      <td>6.0</td>\n",
       "      <td>6.0</td>\n",
       "    </tr>\n",
       "    <tr>\n",
       "      <th>3</th>\n",
       "      <td>2020-03-13 00:00:00.000</td>\n",
       "      <td>67</td>\n",
       "      <td>7979</td>\n",
       "      <td>20200313</td>\n",
       "      <td>00:00</td>\n",
       "      <td>2021-10-07 10:30:51.51</td>\n",
       "      <td>248647.0</td>\n",
       "      <td>3.458499</td>\n",
       "      <td>1</td>\n",
       "      <td>1.0</td>\n",
       "      <td>1.0</td>\n",
       "    </tr>\n",
       "    <tr>\n",
       "      <th>4</th>\n",
       "      <td>2020-03-14 00:00:00.000</td>\n",
       "      <td>72</td>\n",
       "      <td>8086</td>\n",
       "      <td>20200314</td>\n",
       "      <td>00:00</td>\n",
       "      <td>2021-10-07 10:30:51.51</td>\n",
       "      <td>261335.0</td>\n",
       "      <td>3.318000</td>\n",
       "      <td>5</td>\n",
       "      <td>5.0</td>\n",
       "      <td>5.0</td>\n",
       "    </tr>\n",
       "  </tbody>\n",
       "</table>\n",
       "</div>"
      ],
      "text/plain": [
       "                      등록일시  총사망자  총확진자       기준일   기준시간  \\\n",
       "0  2020-03-10 00:00:00.000    54  7513  20200310  00:00   \n",
       "1  2020-03-11 00:00:00.000    60  7755  20200311  00:00   \n",
       "2  2020-03-12 00:00:00.000    66  7869  20200312  00:00   \n",
       "3  2020-03-13 00:00:00.000    67  7979  20200313  00:00   \n",
       "4  2020-03-14 00:00:00.000    72  8086  20200314  00:00   \n",
       "\n",
       "                     수정일시     누적의심자     누적확진율  일일사망자  총사망자2  일일사망자3  \n",
       "0  2021-10-07 10:30:51.51  210144.0  3.919308      0    0.0     0.0  \n",
       "1  2021-10-07 10:30:51.51  222395.0  3.804175      6    6.0     6.0  \n",
       "2  2021-10-07 10:30:51.51  234998.0  3.621744      6    6.0     6.0  \n",
       "3  2021-10-07 10:30:51.51  248647.0  3.458499      1    1.0     1.0  \n",
       "4  2021-10-07 10:30:51.51  261335.0  3.318000      5    5.0     5.0  "
      ]
     },
     "execution_count": 67,
     "metadata": {},
     "output_type": "execute_result"
    }
   ],
   "source": [
    "corona.head()"
   ]
  }
 ],
 "metadata": {
  "kernelspec": {
   "display_name": "base",
   "language": "python",
   "name": "python3"
  },
  "language_info": {
   "codemirror_mode": {
    "name": "ipython",
    "version": 3
   },
   "file_extension": ".py",
   "mimetype": "text/x-python",
   "name": "python",
   "nbconvert_exporter": "python",
   "pygments_lexer": "ipython3",
   "version": "3.11.4"
  }
 },
 "nbformat": 4,
 "nbformat_minor": 2
}
