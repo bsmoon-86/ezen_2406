{
 "cells": [
  {
   "cell_type": "markdown",
   "metadata": {},
   "source": [
    "### 시계열 데이터 \n",
    "- 시간 데이터를 의미 \n",
    "    - 년, 월, 일, 시, 분 , 초, am/pm, 요일\n",
    "- datetime 라이브러리를 이용하여 시계열 데이터 \n",
    "- pandas 라이브러리를 이용하여 시계열 데이터"
   ]
  },
  {
   "cell_type": "code",
   "execution_count": 3,
   "metadata": {},
   "outputs": [],
   "source": [
    "# datetime 라이브러리 안에 있는 datetime이라는 class 호출\n",
    "from datetime import datetime\n",
    "import datetime as dt"
   ]
  },
  {
   "cell_type": "code",
   "execution_count": 4,
   "metadata": {},
   "outputs": [],
   "source": [
    "time_data = '2024-07-06'"
   ]
  },
  {
   "cell_type": "code",
   "execution_count": 5,
   "metadata": {},
   "outputs": [
    {
     "name": "stdout",
     "output_type": "stream",
     "text": [
      "<class 'str'>\n"
     ]
    }
   ],
   "source": [
    "print(type(time_data))"
   ]
  },
  {
   "cell_type": "code",
   "execution_count": 8,
   "metadata": {},
   "outputs": [],
   "source": [
    "# 문자열을 시계열 데이터로 변경 \n",
    "# case1 :  datetime 라이브러리 안에 있는 datetime을 호출 \n",
    "time1 = datetime.strptime(time_data, '%Y-%m-%d')\n",
    "# case2 : datetime 라이브러리를 이용한 방법\n",
    "time2 = dt.datetime.strptime(time_data, '%Y-%m-%d')"
   ]
  },
  {
   "cell_type": "code",
   "execution_count": 9,
   "metadata": {},
   "outputs": [
    {
     "name": "stdout",
     "output_type": "stream",
     "text": [
      "<class 'datetime.datetime'>\n"
     ]
    }
   ],
   "source": [
    "print(type(time1))"
   ]
  },
  {
   "cell_type": "code",
   "execution_count": 10,
   "metadata": {},
   "outputs": [
    {
     "name": "stdout",
     "output_type": "stream",
     "text": [
      "2024-07-06 00:00:00\n"
     ]
    }
   ],
   "source": [
    "print(time1)"
   ]
  },
  {
   "cell_type": "markdown",
   "metadata": {},
   "source": [
    "### datetime 에서 사용이 되는 format \n",
    "- %Y : 년도를 전체 표시 (2024)\n",
    "- %y : 년도를 축약해서 표시 (24)\n",
    "- %m : 월을 표시 (07) \n",
    "- %B : 월의 이름 표시 (July)\n",
    "- %b : 월의 이름을 축약해서 표시 (Jul)\n",
    "- %d : 일을 표시 (06)\n",
    "- %H : 24시를 기준으로 시를 표시 (15)\n",
    "- %I : 12시를 기준으로 시를 표시 (03)\n",
    "- %p : AM/PM을 표시\n",
    "- %M : 분을 표시 \n",
    "- %S : 초를 표시 \n",
    "- %a : 요일을 영어로 축약해서 표시 (Sat)\n",
    "- %A : 요일을 영어로 표시 (Saturday)\n",
    "- %w : 요일을 숫자로 표시 (0 : 일, .... ,6 : 토)"
   ]
  },
  {
   "cell_type": "code",
   "execution_count": 12,
   "metadata": {},
   "outputs": [
    {
     "data": {
      "text/plain": [
       "'24-07-06 Saturday'"
      ]
     },
     "execution_count": 12,
     "metadata": {},
     "output_type": "execute_result"
    }
   ],
   "source": [
    "# 시계열 데이터를 문자열 데이터로 변경 \n",
    "time1.strftime('%y-%m-%d %A')"
   ]
  },
  {
   "cell_type": "code",
   "execution_count": 13,
   "metadata": {},
   "outputs": [],
   "source": [
    "import pandas as pd"
   ]
  },
  {
   "cell_type": "code",
   "execution_count": 14,
   "metadata": {},
   "outputs": [],
   "source": [
    "time_data2 = '2024년03월01일'"
   ]
  },
  {
   "cell_type": "code",
   "execution_count": 15,
   "metadata": {},
   "outputs": [
    {
     "data": {
      "text/plain": [
       "datetime.datetime(2024, 3, 1, 0, 0)"
      ]
     },
     "execution_count": 15,
     "metadata": {},
     "output_type": "execute_result"
    }
   ],
   "source": [
    "# time_data2를 시계열로 변경 \n",
    "datetime.strptime(time_data2, '%Y년%m월%d일')"
   ]
  },
  {
   "cell_type": "code",
   "execution_count": 16,
   "metadata": {},
   "outputs": [],
   "source": [
    "time_data3 = '02/15/24 08:15:00'"
   ]
  },
  {
   "cell_type": "code",
   "execution_count": 17,
   "metadata": {},
   "outputs": [
    {
     "data": {
      "text/plain": [
       "datetime.datetime(2024, 2, 15, 8, 15)"
      ]
     },
     "execution_count": 17,
     "metadata": {},
     "output_type": "execute_result"
    }
   ],
   "source": [
    "datetime.strptime(time_data3, '%m/%d/%y %H:%M:%S')"
   ]
  },
  {
   "cell_type": "code",
   "execution_count": 18,
   "metadata": {},
   "outputs": [],
   "source": [
    "corona = pd.read_csv('../csv/corona.csv')"
   ]
  },
  {
   "cell_type": "code",
   "execution_count": null,
   "metadata": {},
   "outputs": [],
   "source": [
    "corona.head()"
   ]
  },
  {
   "cell_type": "code",
   "execution_count": 20,
   "metadata": {},
   "outputs": [
    {
     "name": "stdout",
     "output_type": "stream",
     "text": [
      "<class 'pandas.core.frame.DataFrame'>\n",
      "RangeIndex: 820 entries, 0 to 819\n",
      "Data columns (total 10 columns):\n",
      " #   Column      Non-Null Count  Dtype  \n",
      "---  ------      --------------  -----  \n",
      " 0   Unnamed: 0  820 non-null    int64  \n",
      " 1   createDt    820 non-null    object \n",
      " 2   deathCnt    820 non-null    int64  \n",
      " 3   decideCnt   820 non-null    int64  \n",
      " 4   seq         820 non-null    int64  \n",
      " 5   stateDt     820 non-null    int64  \n",
      " 6   stateTime   820 non-null    object \n",
      " 7   updateDt    817 non-null    object \n",
      " 8   accExamCnt  692 non-null    float64\n",
      " 9   accDefRate  623 non-null    float64\n",
      "dtypes: float64(2), int64(5), object(3)\n",
      "memory usage: 64.2+ KB\n"
     ]
    }
   ],
   "source": [
    "corona.info()"
   ]
  },
  {
   "cell_type": "code",
   "execution_count": 23,
   "metadata": {},
   "outputs": [],
   "source": [
    "# corona에서 createDt 컬럼의 데이터의 타입을 시계열로 변경 \n",
    "# 데이터의 타입을 변경(to) + 변경할 데이터의 타입\n",
    "corona['createDt'] = pd.to_datetime(corona['createDt'])"
   ]
  },
  {
   "cell_type": "code",
   "execution_count": 24,
   "metadata": {},
   "outputs": [
    {
     "name": "stdout",
     "output_type": "stream",
     "text": [
      "<class 'pandas.core.frame.DataFrame'>\n",
      "RangeIndex: 820 entries, 0 to 819\n",
      "Data columns (total 10 columns):\n",
      " #   Column      Non-Null Count  Dtype         \n",
      "---  ------      --------------  -----         \n",
      " 0   Unnamed: 0  820 non-null    int64         \n",
      " 1   createDt    820 non-null    datetime64[ns]\n",
      " 2   deathCnt    820 non-null    int64         \n",
      " 3   decideCnt   820 non-null    int64         \n",
      " 4   seq         820 non-null    int64         \n",
      " 5   stateDt     820 non-null    int64         \n",
      " 6   stateTime   820 non-null    object        \n",
      " 7   updateDt    817 non-null    object        \n",
      " 8   accExamCnt  692 non-null    float64       \n",
      " 9   accDefRate  623 non-null    float64       \n",
      "dtypes: datetime64[ns](1), float64(2), int64(5), object(2)\n",
      "memory usage: 64.2+ KB\n"
     ]
    }
   ],
   "source": [
    "corona.info()"
   ]
  },
  {
   "cell_type": "code",
   "execution_count": null,
   "metadata": {},
   "outputs": [],
   "source": []
  }
 ],
 "metadata": {
  "kernelspec": {
   "display_name": "Python 3",
   "language": "python",
   "name": "python3"
  },
  "language_info": {
   "codemirror_mode": {
    "name": "ipython",
    "version": 3
   },
   "file_extension": ".py",
   "mimetype": "text/x-python",
   "name": "python",
   "nbconvert_exporter": "python",
   "pygments_lexer": "ipython3",
   "version": "3.11.4"
  }
 },
 "nbformat": 4,
 "nbformat_minor": 2
}
