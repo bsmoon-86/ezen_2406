{
 "cells": [
  {
   "cell_type": "code",
   "execution_count": null,
   "metadata": {},
   "outputs": [],
   "source": [
    "import pandas as pd"
   ]
  },
  {
   "cell_type": "code",
   "execution_count": null,
   "metadata": {},
   "outputs": [],
   "source": [
    "uriage = pd.read_csv(\"../csv/uriage.csv\")"
   ]
  },
  {
   "cell_type": "code",
   "execution_count": null,
   "metadata": {},
   "outputs": [],
   "source": [
    "uriage.head()"
   ]
  },
  {
   "cell_type": "markdown",
   "metadata": {},
   "source": [
    "### 데이터의 정형화 \n",
    "- item_name의 value들을 모두 대문자로 변경\n",
    "    - 문자열 내부함수 중 모든 문자를 대문자로 변경(upper())\n",
    "- item_name의 value들에 존재하는 문자 사이의 공백을 모두 제거 \n",
    "    - 문자열 내부함수 중 공백을 제거하는 함수 (strip())\n",
    "        - strip() 문자열 좌우의 공백을 제거한다\n",
    "        - 이 데이터에서는 사용이 불가능\n",
    "    - 문자열 내부함수 중 문자열을 치환하는 함수 (replace())\n",
    "        - 문자열 사이의 데이터들을 치환"
   ]
  },
  {
   "cell_type": "code",
   "execution_count": null,
   "metadata": {},
   "outputs": [],
   "source": [
    "uriage_origin = uriage.copy()"
   ]
  },
  {
   "cell_type": "code",
   "execution_count": null,
   "metadata": {},
   "outputs": [],
   "source": [
    "# item_name의 문자를 대문자로 변경 \n",
    "uriage.loc[2, 'item_name'].upper()"
   ]
  },
  {
   "cell_type": "code",
   "execution_count": null,
   "metadata": {},
   "outputs": [],
   "source": [
    "item_list = []\n",
    "# 반복문을 이용하여 모든 문자를 대문자로 변경 \n",
    "for i in uriage['item_name']:\n",
    "    # i는 Series의 value 데이터\n",
    "    # print(i)\n",
    "    # print(type(i))\n",
    "    item_list.append(i.upper())\n",
    "item_list"
   ]
  },
  {
   "cell_type": "code",
   "execution_count": null,
   "metadata": {},
   "outputs": [],
   "source": [
    "# item_name에 대입 \n",
    "uriage['item_name'] = item_list"
   ]
  },
  {
   "cell_type": "code",
   "execution_count": null,
   "metadata": {},
   "outputs": [],
   "source": [
    "uriage"
   ]
  },
  {
   "cell_type": "code",
   "execution_count": null,
   "metadata": {},
   "outputs": [],
   "source": [
    "uriage2 = uriage_origin.copy()"
   ]
  },
  {
   "cell_type": "code",
   "execution_count": null,
   "metadata": {},
   "outputs": [],
   "source": [
    "for i in range(len(uriage2)):\n",
    "    # print(i)\n",
    "    # print(uriage2.loc[i, 'item_name'].upper())\n",
    "    uriage2.loc[i, 'item_name'] = \\\n",
    "        uriage2.loc[i, 'item_name'].upper()"
   ]
  },
  {
   "cell_type": "code",
   "execution_count": null,
   "metadata": {},
   "outputs": [],
   "source": [
    "uriage2"
   ]
  },
  {
   "cell_type": "code",
   "execution_count": null,
   "metadata": {},
   "outputs": [],
   "source": [
    "uriage3 = uriage_origin.copy()"
   ]
  },
  {
   "cell_type": "code",
   "execution_count": null,
   "metadata": {},
   "outputs": [],
   "source": [
    "# map 함수를 이용하여 대문자로 변환 \n",
    "uriage3['item_name'].map(\n",
    "    lambda x: x.upper()\n",
    ")"
   ]
  },
  {
   "cell_type": "code",
   "execution_count": null,
   "metadata": {},
   "outputs": [],
   "source": [
    "# Series에서 문자열 함수를 사용하는 방법 \n",
    "uriage3['item_name'] = uriage3['item_name'].str.upper()"
   ]
  },
  {
   "cell_type": "code",
   "execution_count": null,
   "metadata": {},
   "outputs": [],
   "source": [
    "# 빈도수를 확인하는 함수\n",
    "uriage_origin['item_name'].value_counts()"
   ]
  },
  {
   "cell_type": "code",
   "execution_count": null,
   "metadata": {},
   "outputs": [],
   "source": [
    "# replace() 함수를 Series에서 사용 \n",
    "uriage['item_name'] = uriage['item_name'].str.replace(' ', '')"
   ]
  },
  {
   "cell_type": "code",
   "execution_count": null,
   "metadata": {},
   "outputs": [],
   "source": [
    "uriage['item_name'].value_counts()"
   ]
  },
  {
   "cell_type": "code",
   "execution_count": null,
   "metadata": {},
   "outputs": [],
   "source": [
    "def change(x):\n",
    "    # x의 데이터의 타입 : str\n",
    "    result = x.replace(' ', '')\n",
    "    return result\n",
    "uriage2['item_name'] = uriage2['item_name'].map(\n",
    "    change\n",
    ")"
   ]
  },
  {
   "cell_type": "code",
   "execution_count": null,
   "metadata": {},
   "outputs": [],
   "source": [
    "uriage2['item_name'].value_counts()"
   ]
  },
  {
   "cell_type": "code",
   "execution_count": null,
   "metadata": {},
   "outputs": [],
   "source": [
    "# for문을 이용 -> 한줄로 표현 \n",
    "item_list2 = []\n",
    "for i in uriage3['item_name']:\n",
    "    # print(i.replace(' ', ''))\n",
    "    item_list2.append(i.replace(' ', ''))\n",
    "item_list2"
   ]
  },
  {
   "cell_type": "code",
   "execution_count": null,
   "metadata": {},
   "outputs": [],
   "source": [
    "item_list3 = [ i.replace(' ', '') for i in uriage3['item_name'] ]\n",
    "item_list3"
   ]
  },
  {
   "cell_type": "markdown",
   "metadata": {},
   "source": [
    "- item_price 컬럼의 결측치에 데이터를 대입 \n",
    "    - item_price에서 결측치의 개수 확인 \n",
    "    - item_price에 결측치에 어떤 값을 넣어야되는가?\n",
    "    - 결측치를 채워주는 함수 -> fillna()\n",
    "    - 결측치의 유무를 판단하는 함수 -> isna()"
   ]
  },
  {
   "cell_type": "code",
   "execution_count": null,
   "metadata": {},
   "outputs": [],
   "source": [
    "uriage['item_price'].isna().sum()"
   ]
  },
  {
   "cell_type": "code",
   "execution_count": null,
   "metadata": {},
   "outputs": [],
   "source": [
    "uriage['item_price'].isna().value_counts()"
   ]
  },
  {
   "cell_type": "code",
   "execution_count": null,
   "metadata": {},
   "outputs": [],
   "source": [
    "# 결측치인 데이터를 확인 \n",
    "flag_null = uriage['item_price'].isna()\n",
    "flag_null"
   ]
  },
  {
   "cell_type": "code",
   "execution_count": null,
   "metadata": {},
   "outputs": [],
   "source": [
    "uriage.loc[flag_null]"
   ]
  },
  {
   "cell_type": "code",
   "execution_count": null,
   "metadata": {},
   "outputs": [],
   "source": [
    "uriage.loc[~flag_null]"
   ]
  },
  {
   "cell_type": "code",
   "execution_count": null,
   "metadata": {},
   "outputs": [],
   "source": [
    "# item_name이 상품A 그리고 item_price가 결측치가 아닌 데이터\n",
    "flag = uriage['item_name'] == '상품A'\n",
    "flag"
   ]
  },
  {
   "cell_type": "code",
   "execution_count": null,
   "metadata": {},
   "outputs": [],
   "source": [
    "uriage.loc[\n",
    "    flag & ~flag_null, \n",
    "    'item_price'\n",
    "].value_counts()"
   ]
  },
  {
   "cell_type": "code",
   "execution_count": null,
   "metadata": {},
   "outputs": [],
   "source": [
    "uriage.loc[\n",
    "    flag & flag_null\n",
    "]"
   ]
  },
  {
   "cell_type": "code",
   "execution_count": null,
   "metadata": {},
   "outputs": [],
   "source": [
    "flag_b = uriage['item_name'] == '상품D'"
   ]
  },
  {
   "cell_type": "code",
   "execution_count": null,
   "metadata": {},
   "outputs": [],
   "source": [
    "uriage.loc[\n",
    "    flag_b & ~flag_null, \n",
    "    'item_price'\n",
    "].value_counts()"
   ]
  },
  {
   "cell_type": "code",
   "execution_count": null,
   "metadata": {},
   "outputs": [],
   "source": [
    "# item_name이 상품A이고 item_price가 결측치가 아닌 데이터에서 item_price의 평균값을 추출\n",
    "mean_data = uriage.loc[\n",
    "    flag & ~flag_null, \n",
    "    'item_price'\n",
    "].mean()"
   ]
  },
  {
   "cell_type": "code",
   "execution_count": null,
   "metadata": {},
   "outputs": [],
   "source": [
    "# mean_data를 item_name이 상품A이고 item_price가 결측치인 데이터에 결측치 부분(item_price)에 대입\n",
    "uriage.loc[\n",
    "    flag & flag_null, \n",
    "    'item_price'\n",
    "] = mean_data"
   ]
  },
  {
   "cell_type": "code",
   "execution_count": null,
   "metadata": {},
   "outputs": [],
   "source": [
    "uriage.loc[\n",
    "    flag_b & flag_null\n",
    "]"
   ]
  },
  {
   "cell_type": "code",
   "execution_count": null,
   "metadata": {},
   "outputs": [],
   "source": [
    "uriage['item_name']"
   ]
  },
  {
   "cell_type": "code",
   "execution_count": null,
   "metadata": {},
   "outputs": [],
   "source": [
    "_list = ['A', 'B', 'C', 'A']\n",
    "# 중복되는 4번째 위치에 있는 A를 제외한 A, B, C라는 리스트를 생성하려면?\n",
    "data_list = []\n",
    "for i in _list:\n",
    "    # i는 _list의 원소값\n",
    "    print(i)\n",
    "    # 만약에 i가 data_list에 포함되어있지 않다면 data_list에 추가\n",
    "    if i not in data_list:\n",
    "        data_list.append(i)\n",
    "\n",
    "data_list"
   ]
  },
  {
   "cell_type": "code",
   "execution_count": null,
   "metadata": {},
   "outputs": [],
   "source": [
    "item_list = []\n",
    "\n",
    "for i in uriage['item_name']:\n",
    "    # print(i)\n",
    "    if i not in item_list:\n",
    "        item_list.append(i)\n",
    "item_list.sort()\n",
    "item_list"
   ]
  },
  {
   "cell_type": "code",
   "execution_count": null,
   "metadata": {},
   "outputs": [],
   "source": [
    "# 1차원 데이터에서 중복된 데이터를 제거 -> \n",
    "# 고유한(unique()) 데이터를 가져온다. \n",
    "uriage['item_name'].unique()"
   ]
  },
  {
   "cell_type": "code",
   "execution_count": null,
   "metadata": {},
   "outputs": [],
   "source": [
    "# 집합이라는 데이터 형태(set) \n",
    "list(set(uriage['item_name']))"
   ]
  },
  {
   "cell_type": "code",
   "execution_count": null,
   "metadata": {},
   "outputs": [],
   "source": [
    "# 빈도수를 체크하는 함수를 이용하여 고유한 데이터 출력 \n",
    "uriage['item_name'].value_counts().index"
   ]
  },
  {
   "cell_type": "code",
   "execution_count": null,
   "metadata": {},
   "outputs": [],
   "source": [
    "flag_null = uriage['item_price'].isna()\n",
    "# item_list를 기준으로 반복 실행하는 반복문 생성 \n",
    "for item in item_list:\n",
    "    # item은 상품명이 대입 \n",
    "    # print(item)\n",
    "    # 인덱스의 조건식 생성\n",
    "    flag = uriage['item_name'] == item\n",
    "\n",
    "    # flag와 flag_null의 부정 조건이 모두 만족하는 데이터에서 item_price의 평균값을 추출\n",
    "    mean_data  = uriage.loc[\n",
    "        flag & ~flag_null, 'item_price'].mean()\n",
    "    # flag와 flag_null을 모두 만족하는 item_price에 mean_data를 대입 \n",
    "    uriage.loc[flag & flag_null, 'item_price'] = mean_data"
   ]
  },
  {
   "cell_type": "code",
   "execution_count": null,
   "metadata": {},
   "outputs": [],
   "source": [
    "uriage.isna().sum()"
   ]
  },
  {
   "cell_type": "code",
   "execution_count": null,
   "metadata": {},
   "outputs": [],
   "source": [
    "uriage[['item_name', 'item_price']].groupby('item_name').mean()"
   ]
  },
  {
   "cell_type": "code",
   "execution_count": null,
   "metadata": {},
   "outputs": [],
   "source": [
    "uriage_origin['item_name'] = \\\n",
    "    uriage_origin['item_name'].str.upper().str.replace(' ', '')"
   ]
  },
  {
   "cell_type": "code",
   "execution_count": null,
   "metadata": {},
   "outputs": [],
   "source": [
    "uriage_origin.sort_values(['item_name', 'item_price'], inplace=True)"
   ]
  },
  {
   "cell_type": "code",
   "execution_count": null,
   "metadata": {},
   "outputs": [],
   "source": [
    "uriage_origin.query(\"item_name == '상품A'\")"
   ]
  },
  {
   "cell_type": "code",
   "execution_count": null,
   "metadata": {},
   "outputs": [],
   "source": [
    "uriage_origin['item_price'] = uriage_origin['item_price'].fillna(method='ffill')"
   ]
  },
  {
   "cell_type": "code",
   "execution_count": null,
   "metadata": {},
   "outputs": [],
   "source": [
    "uriage_origin.isna().sum()"
   ]
  },
  {
   "cell_type": "code",
   "execution_count": null,
   "metadata": {},
   "outputs": [],
   "source": [
    "uriage_origin[['item_name', 'item_price']].groupby('item_name').mean()"
   ]
  }
 ],
 "metadata": {
  "kernelspec": {
   "display_name": "Python 3",
   "language": "python",
   "name": "python3"
  },
  "language_info": {
   "codemirror_mode": {
    "name": "ipython",
    "version": 3
   },
   "file_extension": ".py",
   "mimetype": "text/x-python",
   "name": "python",
   "nbconvert_exporter": "python",
   "pygments_lexer": "ipython3",
   "version": "3.11.4"
  }
 },
 "nbformat": 4,
 "nbformat_minor": 2
}
