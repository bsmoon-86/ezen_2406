{
 "cells": [
  {
   "cell_type": "code",
   "execution_count": 1,
   "metadata": {},
   "outputs": [],
   "source": [
    "import requests\n",
    "import json\n",
    "import pandas as pd"
   ]
  },
  {
   "cell_type": "code",
   "execution_count": null,
   "metadata": {},
   "outputs": [],
   "source": [
    "# 네이버 데이터랩 API URL\n",
    "url = \"https://openapi.naver.com/v1/datalab/search\"\n",
    "\n",
    "# API 요청 헤더\n",
    "headers = {\n",
    "    \"Content-Type\": \"application/json\",\n",
    "    \"X-Naver-Client-Id\": \"\",      # 발급받은 Client ID\n",
    "    \"X-Naver-Client-Secret\": \"\"  # 발급받은 Client Secret\n",
    "}\n",
    "\n",
    "\n",
    "def search_naver(_start, _end, _unit, _group, _keyword):\n",
    "    # _start : 시작 시간\n",
    "    # _end : 종료 시간\n",
    "    # _unit : 시간 단위 (년/월/일)\n",
    "    # _group : 카테고리 (키워드 그룹)\n",
    "    # _keyword : 검색할 키워드\n",
    "    groups = []\n",
    "    for i in range(len(_group)):\n",
    "        groups.append(\n",
    "            {\n",
    "                'groupName' : _group[i], \n",
    "                'keywords' : _keyword[i]\n",
    "            }\n",
    "        )\n",
    "    # API 요청 데이터\n",
    "    data = {\n",
    "        \"startDate\": _start,\n",
    "        \"endDate\": _end,\n",
    "        \"timeUnit\": _unit,\n",
    "        \"keywordGroups\": groups\n",
    "    }\n",
    "\n",
    "    # API 호출\n",
    "    response = requests.post(url, headers=headers, data=json.dumps(data))\n",
    "\n",
    "    # 응답 확인\n",
    "    if response.status_code == 200:\n",
    "        result = response.json()\n",
    "        print(json.dumps(result, indent=4, ensure_ascii=False))\n",
    "    else:\n",
    "        print(\"Error Code:\", response.status_code)\n",
    "    \n",
    "    return result\n"
   ]
  },
  {
   "cell_type": "code",
   "execution_count": null,
   "metadata": {},
   "outputs": [],
   "source": [
    "result1 = search_naver('2024-01-01', '2024-06-30', 'month', \n",
    "                       ['후백', '경조사'],\n",
    "                        [\n",
    "                            ['호두강정세트'], \n",
    "                            ['호두강정 선물']\n",
    "                        ]\n",
    "                        )"
   ]
  }
 ],
 "metadata": {
  "kernelspec": {
   "display_name": "Python 3",
   "language": "python",
   "name": "python3"
  },
  "language_info": {
   "codemirror_mode": {
    "name": "ipython",
    "version": 3
   },
   "file_extension": ".py",
   "mimetype": "text/x-python",
   "name": "python",
   "nbconvert_exporter": "python",
   "pygments_lexer": "ipython3",
   "version": "3.6.8"
  }
 },
 "nbformat": 4,
 "nbformat_minor": 2
}
