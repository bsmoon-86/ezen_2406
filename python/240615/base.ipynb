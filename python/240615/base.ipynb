{
 "cells": [
  {
   "cell_type": "code",
   "execution_count": null,
   "metadata": {},
   "outputs": [],
   "source": [
    "# 주석 : 코드에 대한 설명 (실행이 되지 않는다.)\n",
    "# 작성자가 아닌 다른 사람이 코드를 확인할때 설명\n",
    "# 미래의 나에게 설명\n",
    "\n",
    "# 변수 생성\n",
    "# 변수명 = 데이터\n",
    "a = 10\n",
    "b = \"test\""
   ]
  },
  {
   "cell_type": "code",
   "execution_count": null,
   "metadata": {},
   "outputs": [],
   "source": [
    "# 변수를 호출\n",
    "# print()\n",
    "print(a)\n",
    "print(b)"
   ]
  },
  {
   "cell_type": "code",
   "execution_count": null,
   "metadata": {},
   "outputs": [],
   "source": [
    "a"
   ]
  },
  {
   "cell_type": "code",
   "execution_count": null,
   "metadata": {},
   "outputs": [],
   "source": [
    "# a, b라는 변수의 데이터의 타입\n",
    "print(type(a))\n",
    "print(type(b))"
   ]
  },
  {
   "cell_type": "code",
   "execution_count": null,
   "metadata": {},
   "outputs": [],
   "source": [
    "# 문자열의 특징은 \"\", '' 묶어서 데이터를 생성 \n",
    "c = \"10\""
   ]
  },
  {
   "cell_type": "code",
   "execution_count": null,
   "metadata": {},
   "outputs": [],
   "source": [
    "print(c)\n",
    "print(type(c))"
   ]
  },
  {
   "cell_type": "code",
   "execution_count": null,
   "metadata": {},
   "outputs": [],
   "source": [
    "# Bool이라는 데이터의 타입 : 참 / 거짓 형태의 데이터 \n",
    "bool_a = True\n",
    "print(bool_a)\n",
    "print(type(bool_a))"
   ]
  },
  {
   "cell_type": "code",
   "execution_count": null,
   "metadata": {},
   "outputs": [],
   "source": [
    "# 문자열로 되어있는 데이터를 숫자로 변경 \n",
    "print(c)\n",
    "print(type(c))\n",
    "c = int(c)\n",
    "print(c)\n",
    "print(type(c))"
   ]
  },
  {
   "cell_type": "code",
   "execution_count": null,
   "metadata": {},
   "outputs": [],
   "source": [
    "price_item = '1,000'\n",
    "# price_item 라는 변수의 데이터의 타입을 숫자로 변경 \n",
    "price_item = int(price_item)\n",
    "# 에러 발생하는 이유 : 변경하려는 문자열의 ,는 숫자로 변경이 불가능"
   ]
  },
  {
   "cell_type": "code",
   "execution_count": null,
   "metadata": {},
   "outputs": [],
   "source": [
    "# 숫자 데이터를 문자로 변경\n",
    "c = str(c)\n",
    "print(c)\n",
    "print(type(c))"
   ]
  },
  {
   "cell_type": "code",
   "execution_count": null,
   "metadata": {},
   "outputs": [],
   "source": [
    "# 문자형 데이터를 bool로 변경 \n",
    "# 문자가 존재하는 데이터를 변경 \n",
    "test_a = \"Hello World\"\n",
    "print(bool(test_a))"
   ]
  },
  {
   "cell_type": "code",
   "execution_count": null,
   "metadata": {},
   "outputs": [],
   "source": [
    "test_b = \"\"\n",
    "print(bool(test_b))"
   ]
  },
  {
   "cell_type": "code",
   "execution_count": null,
   "metadata": {},
   "outputs": [],
   "source": [
    "# 숫자형 데이터를 bool 형태로 변경 \n",
    "num_a = 10\n",
    "num_b = 0\n",
    "num_c = -10\n",
    "print(bool(num_a))\n",
    "print(bool(num_b))\n",
    "print(bool(num_c))"
   ]
  },
  {
   "cell_type": "markdown",
   "metadata": {},
   "source": [
    "# 제목1\n",
    "## 제목2\n",
    "### 제목3\n",
    "#### 제목4\n",
    "\n",
    "#### 순서형 리스트\n",
    "1. 항목1\n",
    "1. 항목2\n",
    "1. 항목3\n",
    "#### 비순서형 리스트\n",
    "- 항목1\n",
    "- 항목2\n",
    "- 항목3\n",
    "#### 서브 리스트 \n",
    "- 항목1\n",
    "    - 서브1\n",
    "    - 서브2\n",
    "    - 서브3"
   ]
  },
  {
   "cell_type": "code",
   "execution_count": null,
   "metadata": {},
   "outputs": [],
   "source": [
    "# 산술연산자 : 기본적인 사칙연산\n",
    "# 기존의 변수들이 변경이 되지 않는다. \n",
    "a = 7\n",
    "b = 3\n",
    "print(a + b)\n",
    "print(a - b)\n",
    "print(a * b)\n",
    "print(a / b)\n",
    "print(a // b)\n",
    "print(a % b)\n",
    "print(a ** b)"
   ]
  },
  {
   "cell_type": "code",
   "execution_count": null,
   "metadata": {},
   "outputs": [],
   "source": [
    "# 문자형 데이터에서 + 연산자를 사용 \n",
    "text_1 = 'Hello'\n",
    "text_2 = 'World'\n",
    "print(text_1 + text_2)"
   ]
  },
  {
   "cell_type": "code",
   "execution_count": null,
   "metadata": {},
   "outputs": [],
   "source": [
    "# bool형 데이터에서 + 연산자를 사용\n",
    "print(True + True)\n",
    "print(True + False)\n",
    "print(False + False)"
   ]
  },
  {
   "cell_type": "code",
   "execution_count": null,
   "metadata": {},
   "outputs": [],
   "source": [
    "# 대입 연산자 \n",
    "# 산술 연산자와 대입연산자(=)이 결합된 형태\n",
    "print(a + 3)    # 10\n",
    "print(a)        # 7\n",
    "# a += 3 -> a = a + 3\n",
    "a += 3\n",
    "print(a)"
   ]
  },
  {
   "cell_type": "code",
   "execution_count": null,
   "metadata": {},
   "outputs": [],
   "source": [
    "# 비교 연산자 : 두개의 데이터를 비교하여 되돌려주는 데이터는 bool형태\n",
    "a = 10\n",
    "b = 5\n",
    "# == : 두 개의 데이터가 같은가?\n",
    "print(a == b)\n",
    "# != : 두 개의 데이터가 다른가?\n",
    "print(a != b)\n",
    "# > : 왼쪽이 더 큰가?\n",
    "print(a > b)\n",
    "# < : 왼쪽이 더 작은가?\n",
    "print(a < b)"
   ]
  },
  {
   "cell_type": "code",
   "execution_count": null,
   "metadata": {},
   "outputs": [],
   "source": [
    "# 논리 연산자 : 두 개의 논리값(참/거짓)들을 판단하는 연산자\n",
    "# and : 두개의 논리값이 모두 참인 경우에 참을 출력 \n",
    "print(True and True)\n",
    "print(True & False)\n",
    "print(False & True)\n",
    "print(False and False)"
   ]
  },
  {
   "cell_type": "code",
   "execution_count": null,
   "metadata": {},
   "outputs": [],
   "source": [
    "# or : 두개의 논리값중 하나라도 참이라면 참을 출력 \n",
    "print(True or True)\n",
    "print(True | False)\n",
    "print(False or True)\n",
    "print(False or False)"
   ]
  },
  {
   "cell_type": "code",
   "execution_count": null,
   "metadata": {},
   "outputs": [],
   "source": [
    "# not : 부정형 참과 거짓을 반대로 출력 \n",
    "print(not(True))\n"
   ]
  },
  {
   "cell_type": "markdown",
   "metadata": {},
   "source": [
    "#### if문\n",
    "- if 조건식\n",
    "    - 조건식이 참인 경우 실행할 코드를 작성 \n",
    "- else문 \n",
    "    - if 조건식이 거짓일때 실행 할 코드를 작성 \n",
    "(유의할 점 : 실행 할 코드들은 들여쓰기를 한 뒤 작성 )"
   ]
  },
  {
   "cell_type": "code",
   "execution_count": null,
   "metadata": {},
   "outputs": [],
   "source": [
    "a = 5\n",
    "# 조건문 시작 \n",
    "if a < 10:\n",
    "    # a가 10보다 작은 경우 실행\n",
    "    print(\"a는 10보다 작다\")"
   ]
  },
  {
   "cell_type": "code",
   "execution_count": null,
   "metadata": {},
   "outputs": [],
   "source": [
    "a = 11\n",
    "if a < 10:\n",
    "    print('a는 10보다 작다')"
   ]
  },
  {
   "cell_type": "code",
   "execution_count": null,
   "metadata": {},
   "outputs": [],
   "source": [
    "if a < 10:\n",
    "    print('a는 10보다 작다')\n",
    "else:\n",
    "    print('a는 10보다 크거나 같다')"
   ]
  },
  {
   "cell_type": "code",
   "execution_count": null,
   "metadata": {},
   "outputs": [],
   "source": [
    "text_a = 'test1'\n",
    "\n",
    "if text_a == 'test':\n",
    "    print('성공')\n",
    "else:\n",
    "    print('실패')"
   ]
  },
  {
   "cell_type": "code",
   "execution_count": null,
   "metadata": {},
   "outputs": [],
   "source": [
    "# 논리 연산자를 이용하여 조건식이 2개를 모두 만족할때 실행할 코드 작성\n",
    "input_id = input('아이디를 입력하시오')\n",
    "input_pass = input('패스워드를 입력하시오')\n",
    "# case1\n",
    "# input_id가 test이고 input_pass가 1234인 경우 로그인 성공\n",
    "if (input_id == 'test') & (input_pass == '1234'):\n",
    "    print('로그인 성공')\n",
    "# 그외의 경우는 모두 로그인 실패\n",
    "else:\n",
    "    print('로그인 실패')\n",
    "\n",
    "# case2\n",
    "if input_id == 'test':\n",
    "    if input_pass == '1234':\n",
    "        print('로그인 성공')\n",
    "    else:\n",
    "        print('로그인 실패')\n",
    "else:\n",
    "    print('로그인 실패')"
   ]
  },
  {
   "cell_type": "code",
   "execution_count": null,
   "metadata": {},
   "outputs": [],
   "source": [
    "# if조건식이 여러개인 경우 \n",
    "# input() : 실행할때마다 다른 값들을 받아오기 위한 함수 -> 결과물을 문자열로 되돌려준다. \n",
    "score = int(input('점수를 입력하시오'))\n",
    "\n",
    "# score에 따른 학점을 출력하는 조건문 생성\n",
    "if score >= 90:\n",
    "    # score가 90점 이상이라면\n",
    "    print('A')\n",
    "elif score >= 80:\n",
    "    # score가 90점 미만이고 80점 이상\n",
    "    print('B')\n",
    "elif score >= 70:\n",
    "    # score가 80점 미만이고 70점 이상\n",
    "    print('C')\n",
    "else:\n",
    "    # score가 70점 미만인 경우\n",
    "    print('F')\n",
    "\n",
    "if score >= 90 :\n",
    "    print('A')\n",
    "if (score >= 80) & (score < 90):\n",
    "    print('B')\n",
    "if (score >= 70) & (score < 80):\n",
    "    print('C')\n",
    "if score < 70:\n",
    "    print('F')"
   ]
  },
  {
   "cell_type": "markdown",
   "metadata": {},
   "source": [
    "#### 자료형 데이터 \n",
    "- 튜플 \n",
    "    - 자료형 데이터중 가장 단순한 형태의 데이터들의 모음\n",
    "    - ()를 사용하여 데이터들을 묶어준다. \n",
    "    - 튜플 안에 있는 데이터들을 수정, 삭제, 추가가 불가능\n",
    "- 리스트\n",
    "    - []를 사용하여 데이터들을 묶어준다. \n",
    "    - 튜플과는 다르게 리스트 내부에 있는 함수들을 이용하여 데이터들을 수정, 추가, 삭제가 가능\n",
    "- 딕셔너리\n",
    "    - {}를 사용하여 데이터들을 묶어준다. \n",
    "    - 튜플과 리스트는 위치를 기준으로 데이터를 설정한다면 딕셔너리는 key값과 value를 이용하여 데이터의 위치와 데이터를 설정 "
   ]
  },
  {
   "cell_type": "code",
   "execution_count": null,
   "metadata": {},
   "outputs": [],
   "source": [
    "# 튜플 데이터를 설정 \n",
    "tuple_a = (1, 'Hello')\n",
    "tuple_b = (3, 3.14)\n",
    "print(tuple_a, type(tuple_a))\n",
    "print(tuple_b, type(tuple_b))"
   ]
  },
  {
   "cell_type": "code",
   "execution_count": null,
   "metadata": {},
   "outputs": [],
   "source": [
    "tuple_c = tuple_a + tuple_b\n",
    "print(tuple_c)"
   ]
  },
  {
   "cell_type": "code",
   "execution_count": null,
   "metadata": {},
   "outputs": [],
   "source": [
    "tuple_d = tuple_a * 3\n",
    "print(tuple_d)"
   ]
  },
  {
   "cell_type": "code",
   "execution_count": null,
   "metadata": {},
   "outputs": [],
   "source": [
    "# 데이터의 슬라이스\n",
    "# 튜플[위치] : 해당하는 위치의 데이터를 출력 \n",
    "# 튜플[시작위치(공백이면 처음부터) : 종료위치(공백이면 마지막까지)] \n",
    "# 위치는 0부터 시작\n",
    "print(tuple_c[0])\n",
    "print(tuple_c[1:3])\n",
    "print(tuple_c[:])\n",
    "# 위치의 값이 음수인 경우 \n",
    "print(tuple_c[-1])\n",
    "# 마지막 2개의 데이터를 출력 \n",
    "print(tuple_c[-2:])"
   ]
  },
  {
   "cell_type": "code",
   "execution_count": null,
   "metadata": {},
   "outputs": [],
   "source": [
    "# tuple데이터를 bool의 형태로 강제 변경 \n",
    "# False인 조건? tuple안에 원소의 개수가 0개인 경우\n",
    "tuple_x = ()\n",
    "tuple_y = (1, 2, 3)\n",
    "print(bool(tuple_x))\n",
    "print(bool(tuple_y))"
   ]
  },
  {
   "cell_type": "code",
   "execution_count": null,
   "metadata": {},
   "outputs": [],
   "source": [
    "if tuple_x:\n",
    "    # tuple_x에 원소가 1개 이상인 경우\n",
    "    print('tuple에 데이터가 존재')\n",
    "else:\n",
    "    # tuple_x에 원소의 개수가 0개인 경우\n",
    "    print('tuple에 데이터가 존재하지 않음')"
   ]
  },
  {
   "cell_type": "code",
   "execution_count": null,
   "metadata": {},
   "outputs": [],
   "source": [
    "# 리스트 데이터를 생성 \n",
    "list_a = [20, 10, 30, 40]\n",
    "list_b = [10, 20, 40, 30]"
   ]
  },
  {
   "cell_type": "code",
   "execution_count": null,
   "metadata": {},
   "outputs": [],
   "source": [
    "# list_a에 데이터들의 순서를 오름차순 정렬(sort()) 변경 \n",
    "print(list_a.sort())"
   ]
  },
  {
   "cell_type": "code",
   "execution_count": null,
   "metadata": {},
   "outputs": [],
   "source": [
    "print(list_a)"
   ]
  },
  {
   "cell_type": "code",
   "execution_count": null,
   "metadata": {},
   "outputs": [],
   "source": [
    "# list_b는 역순으로 변경(reverse())\n",
    "list_b.reverse()\n",
    "print(list_b)"
   ]
  },
  {
   "cell_type": "code",
   "execution_count": null,
   "metadata": {},
   "outputs": [],
   "source": [
    "list_c = [39, 20, 50, 44]\n",
    "# 내림차순 정렬로 변경 (오름차순 정렬로 변경 -> 역순으로 변경 )\n",
    "list_c.sort()\n",
    "list_c.reverse()\n",
    "print(list_c)"
   ]
  },
  {
   "cell_type": "code",
   "execution_count": null,
   "metadata": {},
   "outputs": [],
   "source": [
    "list_c = [39, 20, 50, 44]\n",
    "# 내림차순 정렬 (sort()함수에서 내림차순 옵션 설정)\n",
    "list_c.sort(reverse=True)\n",
    "print(list_c)"
   ]
  },
  {
   "cell_type": "code",
   "execution_count": null,
   "metadata": {},
   "outputs": [],
   "source": [
    "# list_a에 데이터를 추가 -> \n",
    "# append() : list에서 가장 마지막에 데이터를 추가  \n",
    "# insert() : list에서 내가 원하는 위치에 데이터를 추가 \n",
    "list_a.append(33)\n",
    "print(list_a)"
   ]
  },
  {
   "cell_type": "code",
   "execution_count": null,
   "metadata": {},
   "outputs": [],
   "source": [
    "list_a.insert(2, 11)\n",
    "print(list_a)"
   ]
  },
  {
   "cell_type": "code",
   "execution_count": null,
   "metadata": {},
   "outputs": [],
   "source": [
    "list_a[1] = 30"
   ]
  },
  {
   "cell_type": "code",
   "execution_count": null,
   "metadata": {},
   "outputs": [],
   "source": [
    "print(list_a)"
   ]
  },
  {
   "cell_type": "code",
   "execution_count": null,
   "metadata": {},
   "outputs": [],
   "source": [
    "# list_a에서 데이터를 제거 \n",
    "# pop() : list에서 가장 마지막 데이터를 제거 \n",
    "# remove() : list에서 특정한 값을 제거 \n",
    "# del : list에서 특정 위치의 데이터를 제거 \n",
    "list_a.pop()\n",
    "print(list_a)"
   ]
  },
  {
   "cell_type": "code",
   "execution_count": null,
   "metadata": {},
   "outputs": [],
   "source": [
    "list_a.remove(30)\n",
    "print(list_a)"
   ]
  },
  {
   "cell_type": "code",
   "execution_count": null,
   "metadata": {},
   "outputs": [],
   "source": [
    "del list_a[1]\n",
    "print(list_a)"
   ]
  },
  {
   "cell_type": "code",
   "execution_count": null,
   "metadata": {},
   "outputs": [],
   "source": [
    "# clear() : 리스트 안에 있는 모든 데이터를 제거 리스트는 존재\n",
    "list_a.clear()\n",
    "print(list_a)"
   ]
  },
  {
   "cell_type": "code",
   "execution_count": null,
   "metadata": {},
   "outputs": [],
   "source": [
    "# 리스트를 확장\n",
    "# extend() : 2개의 리스트를 결합하여 하나의 리스트로 변경\n",
    "list_b.extend(list_c)\n",
    "print(list_b)"
   ]
  },
  {
   "cell_type": "code",
   "execution_count": null,
   "metadata": {},
   "outputs": [],
   "source": [
    "print(list_c)"
   ]
  },
  {
   "cell_type": "code",
   "execution_count": null,
   "metadata": {},
   "outputs": [],
   "source": [
    "list_c + list_b"
   ]
  },
  {
   "cell_type": "code",
   "execution_count": null,
   "metadata": {},
   "outputs": [],
   "source": [
    "# copy() : 리스트를 복사하여 백업데이터를 생성\n",
    "list_x = [10, 20, 30, 40]\n",
    "list_y = list_x"
   ]
  },
  {
   "cell_type": "code",
   "execution_count": null,
   "metadata": {},
   "outputs": [],
   "source": [
    "print(list_x)\n",
    "print(list_y)"
   ]
  },
  {
   "cell_type": "code",
   "execution_count": null,
   "metadata": {},
   "outputs": [],
   "source": [
    "# list_y에 데이터를 추가 \n",
    "list_y.append(8)\n",
    "print(list_y)"
   ]
  },
  {
   "cell_type": "code",
   "execution_count": null,
   "metadata": {},
   "outputs": [],
   "source": [
    "print(list_x)"
   ]
  },
  {
   "cell_type": "code",
   "execution_count": null,
   "metadata": {},
   "outputs": [],
   "source": [
    "list_z = list_x.copy()\n",
    "print(list_x)\n",
    "print(list_z)"
   ]
  },
  {
   "cell_type": "code",
   "execution_count": null,
   "metadata": {},
   "outputs": [],
   "source": [
    "# list_z의 마지막원소를 제거 \n",
    "list_z.pop()\n",
    "print(list_z)\n",
    "print(list_x)"
   ]
  },
  {
   "cell_type": "code",
   "execution_count": null,
   "metadata": {},
   "outputs": [],
   "source": [
    "# 딕셔너리 \n",
    "# 사전형 데이터의 구조\n",
    "# key : value의 형태로 데이터가 구성\n",
    "dict_a = {\n",
    "    'name' : 'test', \n",
    "    'age' : 20, \n",
    "    'phone' : '01012345678'\n",
    "}\n",
    "print(dict_a, type(dict_a))"
   ]
  },
  {
   "cell_type": "code",
   "execution_count": null,
   "metadata": {},
   "outputs": [],
   "source": [
    "# 특정 데이터를 출력 \n",
    "# 딕셔너리에서 key 값을 기준으로 출력 \n",
    "print(dict_a['name'])"
   ]
  },
  {
   "cell_type": "code",
   "execution_count": null,
   "metadata": {},
   "outputs": [],
   "source": [
    "dict_b = {\n",
    "    0 : 'test', \n",
    "    1 : 20, \n",
    "    2 : '01012345678'\n",
    "}"
   ]
  },
  {
   "cell_type": "code",
   "execution_count": null,
   "metadata": {},
   "outputs": [],
   "source": [
    "print(dict_b[0])"
   ]
  },
  {
   "cell_type": "code",
   "execution_count": null,
   "metadata": {},
   "outputs": [],
   "source": [
    "dict_c = {\n",
    "    'age' : 30, \n",
    "    'name' : 'test2', \n",
    "    'phone' : '01098765432'\n",
    "}"
   ]
  },
  {
   "cell_type": "code",
   "execution_count": null,
   "metadata": {},
   "outputs": [],
   "source": [
    "print(dict_a['name'])\n",
    "print(dict_c['name'])"
   ]
  },
  {
   "cell_type": "code",
   "execution_count": null,
   "metadata": {},
   "outputs": [],
   "source": [
    "# dict 데이터에 새로운 데이터를 추가 \n",
    "dict_a['area'] = 'seoul'\n",
    "print(dict_a)"
   ]
  },
  {
   "cell_type": "code",
   "execution_count": null,
   "metadata": {},
   "outputs": [],
   "source": [
    "# 기존에 있는 데이터를 변경 \n",
    "dict_a['age'] = 25"
   ]
  },
  {
   "cell_type": "code",
   "execution_count": null,
   "metadata": {},
   "outputs": [],
   "source": [
    "print(dict_a)"
   ]
  },
  {
   "cell_type": "markdown",
   "metadata": {},
   "source": [
    "#### 외부에서 데이터를 로드할 때 일반적인 데이터의 형태 \n",
    "- 일반적으로 데이터는 2차원 데이터\n",
    "1. 리스트 안에 딕셔너리 \n",
    "    - [ {'name' :'test', 'age' : 20}, {'name':'test2, 'age' : 30} ]\n",
    "2. 딕셔너리 안에 리스트\n",
    "    - { 'name' : ['test', 'test2'], 'age' : [20, 30] }"
   ]
  },
  {
   "cell_type": "code",
   "execution_count": null,
   "metadata": {},
   "outputs": [],
   "source": [
    "# 리스트 안에 딕셔너리 \n",
    "data_1 = [\n",
    "    {\n",
    "        'name' : 'test', \n",
    "        'age' : 20\n",
    "    }, \n",
    "    {\n",
    "        'name' : 'test2', \n",
    "        'age' : 30\n",
    "    }\n",
    "]\n",
    "print(type(data_1))"
   ]
  },
  {
   "cell_type": "code",
   "execution_count": null,
   "metadata": {},
   "outputs": [],
   "source": [
    "# data_1에서 20이라는 데이터를 출력하려면?\n",
    "# 가장 외곽의 괄호를 없애는 방법 \n",
    "print(data_1)\n",
    "print(data_1[0])\n",
    "print(data_1[0]['age'])"
   ]
  },
  {
   "cell_type": "code",
   "execution_count": null,
   "metadata": {},
   "outputs": [],
   "source": [
    "# 딕셔너리 안에 리스트 \n",
    "data_2 = {\n",
    "    'name' : ['test', 'test2'], \n",
    "    'age' : [20, 30]\n",
    "}\n",
    "print(type(data_2))"
   ]
  },
  {
   "cell_type": "code",
   "execution_count": null,
   "metadata": {},
   "outputs": [],
   "source": [
    "# data_2에서 test2를 출력하려면?\n",
    "print(data_2)\n",
    "print(data_2['name'])\n",
    "print(data_2['name'][1])"
   ]
  },
  {
   "cell_type": "markdown",
   "metadata": {},
   "source": [
    "#### 반복문\n",
    "- for문 \n",
    "    - 기본형 \n",
    "        - for 변수명 in range(시작값, 종료값, 증가값)\n",
    "            - 변수명에 range에 있는 시작값으로 대입하여 코드를 실행하고 반복적으로 실행할때 마다 증가값만큼 값을 증가하여 변수에 대입\n",
    "            - 종료값과 같거나 커진다면 반복을 종료\n",
    "    - 리스트 데이터를 이용한 형태\n",
    "        - for 변수명 in list\n",
    "            - list에 있는 원소들 하나 하나씩 변수에 대입되어 반복 실행\n",
    "    - in 연산자\n",
    "        - '데이터' in [리스트데이터]\n",
    "            - 데이터가 리스트데이터에 포함되어 있는가?를 확인하는 비교 연산자\n",
    "            - ex) 1 in [1,2,3,4,5] --> True, 6 in [1,2,3,4,5] --> False"
   ]
  },
  {
   "cell_type": "code",
   "execution_count": null,
   "metadata": {},
   "outputs": [],
   "source": [
    "for i in range(0, 10, 1):\n",
    "    print(i)"
   ]
  },
  {
   "cell_type": "code",
   "execution_count": null,
   "metadata": {},
   "outputs": [],
   "source": [
    "print(range(0, 10, 1))\n",
    "print(tuple(range(0, 10, 2)))"
   ]
  },
  {
   "cell_type": "code",
   "execution_count": 53,
   "metadata": {},
   "outputs": [
    {
     "name": "stdout",
     "output_type": "stream",
     "text": [
      "2\n",
      "4\n",
      "6\n",
      "7\n"
     ]
    }
   ],
   "source": [
    "list_a = [2, 4, 6, 7]\n",
    "for i in list_a:\n",
    "    print(i)"
   ]
  },
  {
   "cell_type": "code",
   "execution_count": 52,
   "metadata": {},
   "outputs": [
    {
     "name": "stdout",
     "output_type": "stream",
     "text": [
      "2\n",
      "4\n",
      "6\n",
      "7\n"
     ]
    }
   ],
   "source": [
    "for i in range(0, len(list_a), 1):\n",
    "    print(list_a[i])"
   ]
  },
  {
   "cell_type": "code",
   "execution_count": 54,
   "metadata": {},
   "outputs": [],
   "source": [
    "# 반복문 응용\n",
    "# 리스트에서 특정한 값을 찾아서 다른 값으로 치환\n",
    "list_b = [10, 30, 20, 30, 50]\n",
    "# list_b에서 30이라는 데이터를 모두 15로 변경\n",
    "# list_b에서 특정 위치의 데이터를 변경 : list_b[1] = 15\n",
    "for i in range(0, len(list_b), 1):\n",
    "    # print(i)\n",
    "    # print(list_b[i])\n",
    "    if list_b[i] == 30:\n",
    "        list_b[i] = 15"
   ]
  },
  {
   "cell_type": "code",
   "execution_count": 55,
   "metadata": {},
   "outputs": [
    {
     "data": {
      "text/plain": [
       "[10, 15, 20, 15, 50]"
      ]
     },
     "execution_count": 55,
     "metadata": {},
     "output_type": "execute_result"
    }
   ],
   "source": [
    "list_b"
   ]
  },
  {
   "cell_type": "code",
   "execution_count": 56,
   "metadata": {},
   "outputs": [
    {
     "data": {
      "text/plain": [
       "2"
      ]
     },
     "execution_count": 56,
     "metadata": {},
     "output_type": "execute_result"
    }
   ],
   "source": [
    "list_b.count(15)"
   ]
  },
  {
   "cell_type": "code",
   "execution_count": 57,
   "metadata": {},
   "outputs": [
    {
     "data": {
      "text/plain": [
       "1"
      ]
     },
     "execution_count": 57,
     "metadata": {},
     "output_type": "execute_result"
    }
   ],
   "source": [
    "list_b.index(15)"
   ]
  },
  {
   "cell_type": "code",
   "execution_count": null,
   "metadata": {},
   "outputs": [],
   "source": [
    "# count()와 index()를 이용하여 list_b에 15라는 데이터를 30으로 변경 \n",
    "# count() 개수만큼 반복실행 \n",
    "for i in range(0, list_b.count(15), 1):\n",
    "    # print(i)\n",
    "    list_index = list_b.index(15)\n",
    "    list_b[list_index] = 30\n",
    "print(list_b)"
   ]
  },
  {
   "cell_type": "code",
   "execution_count": null,
   "metadata": {},
   "outputs": [],
   "source": [
    "# index()함수의 특징을 이용하여 list에 데이터를 변경 \n",
    "# index() 찾는 데이터가 존재하지 않으면 에러가 발생\n",
    "# 에러가 발생할때 특정 코드를 실행하는 구문 (try ~ except)\n",
    "for i in range(0, len(list_b), 1):\n",
    "    # list_b에서 30이라는 데이터의 위치를 찾는다.(시도한다.)\n",
    "    try:\n",
    "        list_index = list_b.index(30)\n",
    "        list_b[list_index] = 15\n",
    "    # 시도하는 코드가 에러가 발생한다면?\n",
    "    except:\n",
    "        # 에러가 발행한다의 의미는? -> 변경할 데이터가 존재하지 않는다. \n",
    "        # 반복문을 계속 실행할 이유가 존재하지 않는다. -> 반복문을 종료\n",
    "        break\n",
    "print(list_b)"
   ]
  },
  {
   "cell_type": "code",
   "execution_count": null,
   "metadata": {},
   "outputs": [],
   "source": [
    "# 다중 반복문을 이용하여 구구단을 출력 \n",
    "# 2단부터 시작하여 1 ~ 9 곱한 값을 출력 \n",
    "# 2단부터 9단까지 반복 실행을 하는 반복문을 생성 \n",
    "for i in range(2, 10, 1):\n",
    "    # 1 ~ 9 곱하는 반복문 생성\n",
    "    for j in range(1, 10, 1):\n",
    "        # print('%d X %d = %d'%(i, j, i*j))\n",
    "        # f-string 이용\n",
    "        # 문자열 앞에 f를 이용하여 문자열을 생성\n",
    "        # 문자열 중간에 {변수명} 해당 변수를 문자로 이용\n",
    "        print(f\"{i} X {j} = {i*j}\")"
   ]
  },
  {
   "cell_type": "markdown",
   "metadata": {},
   "source": [
    "#### 반복문 연습 문제 \n",
    "- 2개의 주사위를 굴려서 두 주사위의 합이 5의 배수인 경우를 모두 출력해라\n",
    "\n",
    "1. 첫번째 주사위의 경우의수만큼 반복 실행하는 반복문을 생성 (1~6)\n",
    "2. 첫번째 반복문 안에 두번째 주사위의 경우의 수만큼 반복 실행하는 반복문을 생성 (1~6)\n",
    "3. 두개의 주사위의 합이 5의 배수인가? 조건문 생성 \n",
    "4. 해당하는 조건문이 참인 경우에 두개의 주사위의 값을 출력 "
   ]
  },
  {
   "cell_type": "code",
   "execution_count": null,
   "metadata": {},
   "outputs": [],
   "source": [
    "# 첫 번째 반복문을 생성 (1부터 6까지 반복 실행)\n",
    "for i in range(1, 7, 1):\n",
    "    #두 번째 반복문을 생성 (1부터 6까지 반복 실행) \n",
    "    for j in range(1, 7, 1):\n",
    "        # print(i, j, i + j)\n",
    "        # 조건문을 생성 (i + j 데이터가 5의 배수인가?)\n",
    "        # if (i + j) % 5 == 0:\n",
    "        #     print(i, j)\n",
    "        # 합계가 5 이거나(or) 10이라면?\n",
    "        # if (i + j == 5) | (i + j == 10):\n",
    "        #     print(i, j)\n",
    "        # 합계가 5라면 ?\n",
    "        if i + j == 5:\n",
    "            print(i, j)\n",
    "        # 합계가 10이라면?\n",
    "        if i + j == 10:\n",
    "            print(i, j)\n",
    "            # 출력 함수를 생성(print)"
   ]
  },
  {
   "cell_type": "code",
   "execution_count": null,
   "metadata": {},
   "outputs": [],
   "source": []
  }
 ],
 "metadata": {
  "kernelspec": {
   "display_name": "base",
   "language": "python",
   "name": "python3"
  },
  "language_info": {
   "codemirror_mode": {
    "name": "ipython",
    "version": 3
   },
   "file_extension": ".py",
   "mimetype": "text/x-python",
   "name": "python",
   "nbconvert_exporter": "python",
   "pygments_lexer": "ipython3",
   "version": "3.11.4"
  }
 },
 "nbformat": 4,
 "nbformat_minor": 2
}
