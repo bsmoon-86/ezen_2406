{
 "cells": [
  {
   "cell_type": "code",
   "execution_count": 1,
   "metadata": {},
   "outputs": [],
   "source": [
    "import pandas as pd \n",
    "import matplotlib.pyplot as plt"
   ]
  },
  {
   "cell_type": "markdown",
   "metadata": {},
   "source": [
    "1. csv 폴더에 있는 'drinks.csv'파일을 로드 \n",
    "2. 데이터프레임에서 결측치가 존재하는가?\n",
    "3. 컬럼의 이름을 변경 -> ['국가', '맥주소비량', '위스키소비량', '와인소비량', '순수알콜량', '대륙']\n",
    "4. 대륙 컬럼에 결측치 존재 -> 결측치 'OT'로 대체\n",
    "5. 파생변수 생성\n",
    "    - 총술소비량 -> 맥주소비량 + 위스키소비량 + 와인소비량\n",
    "    - 도수 -> (순수알콜량 / 총술소비량) * 100 -> 반올림해서 2자리\n",
    "6. 어떠한 대륙이 도수가 높은 술을 마시는가?"
   ]
  },
  {
   "cell_type": "code",
   "execution_count": 3,
   "metadata": {},
   "outputs": [
    {
     "name": "stdout",
     "output_type": "stream",
     "text": [
      "<class 'pandas.core.frame.DataFrame'>\n",
      "RangeIndex: 193 entries, 0 to 192\n",
      "Data columns (total 6 columns):\n",
      " #   Column                        Non-Null Count  Dtype  \n",
      "---  ------                        --------------  -----  \n",
      " 0   country                       193 non-null    object \n",
      " 1   beer_servings                 193 non-null    int64  \n",
      " 2   spirit_servings               193 non-null    int64  \n",
      " 3   wine_servings                 193 non-null    int64  \n",
      " 4   total_litres_of_pure_alcohol  193 non-null    float64\n",
      " 5   continent                     170 non-null    object \n",
      "dtypes: float64(1), int64(3), object(2)\n",
      "memory usage: 9.2+ KB\n"
     ]
    }
   ],
   "source": [
    "# 파일을 로드 \n",
    "drinks = pd.read_csv('../csv/drinks.csv')\n",
    "drinks.info()"
   ]
  },
  {
   "cell_type": "code",
   "execution_count": 4,
   "metadata": {},
   "outputs": [
    {
     "data": {
      "text/plain": [
       "country                          0\n",
       "beer_servings                    0\n",
       "spirit_servings                  0\n",
       "wine_servings                    0\n",
       "total_litres_of_pure_alcohol     0\n",
       "continent                       23\n",
       "dtype: int64"
      ]
     },
     "execution_count": 4,
     "metadata": {},
     "output_type": "execute_result"
    }
   ],
   "source": [
    "# 결측치의 개수를 확인 \n",
    "drinks.isna().sum()"
   ]
  },
  {
   "cell_type": "code",
   "execution_count": 5,
   "metadata": {},
   "outputs": [
    {
     "data": {
      "text/plain": [
       "country                         False\n",
       "beer_servings                   False\n",
       "spirit_servings                 False\n",
       "wine_servings                   False\n",
       "total_litres_of_pure_alcohol    False\n",
       "continent                        True\n",
       "dtype: bool"
      ]
     },
     "execution_count": 5,
     "metadata": {},
     "output_type": "execute_result"
    }
   ],
   "source": [
    "# 결측치가 존재하는 컬럼은 어디인가?\n",
    "drinks.isna().any()"
   ]
  },
  {
   "cell_type": "code",
   "execution_count": 7,
   "metadata": {},
   "outputs": [],
   "source": [
    "# 컬럼의 이름을 변경 \n",
    "drinks.columns = ['국가', '맥주소비량', '위스키소비량', '와인소비량', '순수알콜량', '대륙']"
   ]
  },
  {
   "cell_type": "code",
   "execution_count": 8,
   "metadata": {},
   "outputs": [
    {
     "data": {
      "text/html": [
       "<div>\n",
       "<style scoped>\n",
       "    .dataframe tbody tr th:only-of-type {\n",
       "        vertical-align: middle;\n",
       "    }\n",
       "\n",
       "    .dataframe tbody tr th {\n",
       "        vertical-align: top;\n",
       "    }\n",
       "\n",
       "    .dataframe thead th {\n",
       "        text-align: right;\n",
       "    }\n",
       "</style>\n",
       "<table border=\"1\" class=\"dataframe\">\n",
       "  <thead>\n",
       "    <tr style=\"text-align: right;\">\n",
       "      <th></th>\n",
       "      <th>국가</th>\n",
       "      <th>맥주소비량</th>\n",
       "      <th>위스키소비량</th>\n",
       "      <th>와인소비량</th>\n",
       "      <th>순수알콜량</th>\n",
       "      <th>대륙</th>\n",
       "    </tr>\n",
       "  </thead>\n",
       "  <tbody>\n",
       "    <tr>\n",
       "      <th>0</th>\n",
       "      <td>Afghanistan</td>\n",
       "      <td>0</td>\n",
       "      <td>0</td>\n",
       "      <td>0</td>\n",
       "      <td>0.0</td>\n",
       "      <td>AS</td>\n",
       "    </tr>\n",
       "  </tbody>\n",
       "</table>\n",
       "</div>"
      ],
      "text/plain": [
       "            국가  맥주소비량  위스키소비량  와인소비량  순수알콜량  대륙\n",
       "0  Afghanistan      0       0      0    0.0  AS"
      ]
     },
     "execution_count": 8,
     "metadata": {},
     "output_type": "execute_result"
    }
   ],
   "source": [
    "drinks.head(1)"
   ]
  },
  {
   "cell_type": "code",
   "execution_count": 10,
   "metadata": {},
   "outputs": [],
   "source": [
    "# 대륙컬럼의 결측치를 OT 대체\n",
    "drinks['대륙'].fillna('OT', inplace=True)"
   ]
  },
  {
   "cell_type": "code",
   "execution_count": 11,
   "metadata": {},
   "outputs": [
    {
     "data": {
      "text/plain": [
       "국가        0\n",
       "맥주소비량     0\n",
       "위스키소비량    0\n",
       "와인소비량     0\n",
       "순수알콜량     0\n",
       "대륙        0\n",
       "dtype: int64"
      ]
     },
     "execution_count": 11,
     "metadata": {},
     "output_type": "execute_result"
    }
   ],
   "source": [
    "drinks.isna().sum()"
   ]
  },
  {
   "cell_type": "code",
   "execution_count": null,
   "metadata": {},
   "outputs": [],
   "source": [
    "# 파생변수 생성 \n",
    "# 총술소비량 생성'\n",
    "drinks['맥주소비량'] + drinks['위스키소비량'] + drinks['와인소비량']"
   ]
  },
  {
   "cell_type": "code",
   "execution_count": 18,
   "metadata": {},
   "outputs": [],
   "source": [
    "# sum() 함수를 이용\n",
    "# drinks[ ['맥주소비량', '위스키소비량', '와인소비량'] ]\n",
    "drinks['총술소비량'] = drinks.loc[:, '맥주소비량' : '와인소비량'].sum(axis=1)"
   ]
  },
  {
   "cell_type": "code",
   "execution_count": 24,
   "metadata": {},
   "outputs": [],
   "source": [
    "# 도수 생성\n",
    "# (순수알콜량 / 총술소비량) * 100 -> 반올림\n",
    "ratio = (drinks['순수알콜량'] / drinks['총술소비량']) * 100\n",
    "drinks['도수'] = round(ratio, 2).fillna(0)"
   ]
  },
  {
   "cell_type": "code",
   "execution_count": 29,
   "metadata": {},
   "outputs": [
    {
     "data": {
      "text/html": [
       "<div>\n",
       "<style scoped>\n",
       "    .dataframe tbody tr th:only-of-type {\n",
       "        vertical-align: middle;\n",
       "    }\n",
       "\n",
       "    .dataframe tbody tr th {\n",
       "        vertical-align: top;\n",
       "    }\n",
       "\n",
       "    .dataframe thead th {\n",
       "        text-align: right;\n",
       "    }\n",
       "</style>\n",
       "<table border=\"1\" class=\"dataframe\">\n",
       "  <thead>\n",
       "    <tr style=\"text-align: right;\">\n",
       "      <th></th>\n",
       "      <th>총술소비량</th>\n",
       "    </tr>\n",
       "    <tr>\n",
       "      <th>대륙</th>\n",
       "      <th></th>\n",
       "    </tr>\n",
       "  </thead>\n",
       "  <tbody>\n",
       "    <tr>\n",
       "      <th>EU</th>\n",
       "      <td>21085</td>\n",
       "    </tr>\n",
       "  </tbody>\n",
       "</table>\n",
       "</div>"
      ],
      "text/plain": [
       "    총술소비량\n",
       "대륙       \n",
       "EU  21085"
      ]
     },
     "execution_count": 29,
     "metadata": {},
     "output_type": "execute_result"
    }
   ],
   "source": [
    "# 대륙 별 총술소비량이 가장 높은 대륙은 어디인가?\n",
    "group_data = drinks[ ['대륙', '총술소비량'] ].groupby(['대륙']).sum()\n",
    "# 총술소비량을 기준으로 데이터를 내림차순 정렬 \n",
    "group_data.sort_values(['총술소비량'], ascending=False).head(1)"
   ]
  },
  {
   "cell_type": "code",
   "execution_count": 30,
   "metadata": {},
   "outputs": [
    {
     "data": {
      "text/html": [
       "<div>\n",
       "<style scoped>\n",
       "    .dataframe tbody tr th:only-of-type {\n",
       "        vertical-align: middle;\n",
       "    }\n",
       "\n",
       "    .dataframe tbody tr th {\n",
       "        vertical-align: top;\n",
       "    }\n",
       "\n",
       "    .dataframe thead th {\n",
       "        text-align: right;\n",
       "    }\n",
       "</style>\n",
       "<table border=\"1\" class=\"dataframe\">\n",
       "  <thead>\n",
       "    <tr style=\"text-align: right;\">\n",
       "      <th></th>\n",
       "      <th>도수</th>\n",
       "    </tr>\n",
       "    <tr>\n",
       "      <th>대륙</th>\n",
       "      <th></th>\n",
       "    </tr>\n",
       "  </thead>\n",
       "  <tbody>\n",
       "    <tr>\n",
       "      <th>AF</th>\n",
       "      <td>4.974528</td>\n",
       "    </tr>\n",
       "    <tr>\n",
       "      <th>OT</th>\n",
       "      <td>1.786087</td>\n",
       "    </tr>\n",
       "    <tr>\n",
       "      <th>SA</th>\n",
       "      <td>1.785833</td>\n",
       "    </tr>\n",
       "    <tr>\n",
       "      <th>EU</th>\n",
       "      <td>1.752667</td>\n",
       "    </tr>\n",
       "    <tr>\n",
       "      <th>OC</th>\n",
       "      <td>1.690000</td>\n",
       "    </tr>\n",
       "    <tr>\n",
       "      <th>AS</th>\n",
       "      <td>1.635682</td>\n",
       "    </tr>\n",
       "  </tbody>\n",
       "</table>\n",
       "</div>"
      ],
      "text/plain": [
       "          도수\n",
       "대륙          \n",
       "AF  4.974528\n",
       "OT  1.786087\n",
       "SA  1.785833\n",
       "EU  1.752667\n",
       "OC  1.690000\n",
       "AS  1.635682"
      ]
     },
     "execution_count": 30,
     "metadata": {},
     "output_type": "execute_result"
    }
   ],
   "source": [
    "# 대륙 별 도수가 가장 높은 대륙은 어디인가?\n",
    "group_data2 = drinks[['대륙', '도수']].groupby(['대륙']).mean()\n",
    "# 도수를 기준으로 내림차순 정렬 \n",
    "group_data2.sort_values(['도수'], ascending=False)"
   ]
  },
  {
   "cell_type": "markdown",
   "metadata": {},
   "source": [
    "- 총술소비량을 기준으로 우리나라는 얼마나 많은 술을 먹고 있는가?\n",
    "    1. 총술소비량을 기준으로 내림차순 정렬 \n",
    "    2. 인덱스를 초기화하고 기존의 인덱스는 제거 \n",
    "    3. 국가 컬럼의 데이터가 'South Korea'인 데이터의 인덱스와 총술소비량 데이터를 확인 \n",
    "    4. 전체 데이터를 기준으로 막대그래프 생성하고 한국의 막대의 색상을 변경하고 주석 추가 "
   ]
  },
  {
   "cell_type": "code",
   "execution_count": 31,
   "metadata": {},
   "outputs": [],
   "source": [
    "# 복사본 생성 \n",
    "df = drinks.copy()"
   ]
  },
  {
   "cell_type": "code",
   "execution_count": 33,
   "metadata": {},
   "outputs": [],
   "source": [
    "# 총술소비량을 기준으로 내림차순 정렬\n",
    "df.sort_values(['총술소비량'], ascending=False, inplace=True)"
   ]
  },
  {
   "cell_type": "code",
   "execution_count": 36,
   "metadata": {},
   "outputs": [],
   "source": [
    "# 인덱스를 재지정하고 기존의 인덱스는 제거 \n",
    "df.reset_index(drop=True, inplace=True)"
   ]
  },
  {
   "cell_type": "code",
   "execution_count": 49,
   "metadata": {},
   "outputs": [
    {
     "data": {
      "text/plain": [
       "98"
      ]
     },
     "execution_count": 49,
     "metadata": {},
     "output_type": "execute_result"
    }
   ],
   "source": [
    "# South Korea의 데이터를 확인 \n",
    "# 조건식 생성 -> 국가 컬럼의 데이터가 'South Korea'와 같다면\n",
    "flag = df['국가'] == 'South Korea'\n",
    "df.loc[flag].index[0]"
   ]
  },
  {
   "cell_type": "code",
   "execution_count": null,
   "metadata": {},
   "outputs": [],
   "source": [
    "# 그래프 시각화\n",
    "x = df['국가']\n",
    "y = df['총술소비량']\n",
    "\n",
    "# 그래프의 사이즈를 변경 \n",
    "plt.figure(figsize=(20, 30))\n",
    "\n",
    "plt.barh(x, y)\n",
    "# x축의 값들을 회전\n",
    "plt.xticks(rotation=45)\n",
    "\n",
    "plt.show()"
   ]
  },
  {
   "cell_type": "code",
   "execution_count": 54,
   "metadata": {},
   "outputs": [],
   "source": [
    "import platform"
   ]
  },
  {
   "cell_type": "code",
   "execution_count": 55,
   "metadata": {},
   "outputs": [],
   "source": [
    "if platform.system() == 'Darwin':    # MAC 인 경우\n",
    "    plt.rc('font', family='AppleGothic')\n",
    "else:\n",
    "    plt.rc('font', family='Malgun Gothic')"
   ]
  },
  {
   "cell_type": "code",
   "execution_count": 59,
   "metadata": {},
   "outputs": [
    {
     "data": {
      "text/plain": [
       "165"
      ]
     },
     "execution_count": 59,
     "metadata": {},
     "output_type": "execute_result"
    }
   ],
   "source": [
    "df.loc[korea_index, '총술소비량']"
   ]
  },
  {
   "cell_type": "code",
   "execution_count": 63,
   "metadata": {},
   "outputs": [
    {
     "data": {
      "image/png": "[encoded data removed]",
      "text/plain": [
       "<Figure size 2000x800 with 1 Axes>"
      ]
     },
     "metadata": {},
     "output_type": "display_data"
    }
   ],
   "source": [
    "# x축에는 인덱스를 대입 \n",
    "x = df.index\n",
    "y = df['총술소비량']\n",
    "\n",
    "# South Korea의 인덱스를 변수에 저장 \n",
    "flag = df['국가'] == 'South Korea'\n",
    "korea_index = df.loc[flag].index[0]\n",
    "# South Korea의 총술소비량의 value를 변수에 저장\n",
    "korea_value = df.loc[korea_index, '총술소비량']\n",
    "\n",
    "plt.figure(figsize=(20, 8))\n",
    "bar_graph = plt.bar(x, y)\n",
    "bar_graph[korea_index].set_color('r')\n",
    "\n",
    "# 주석을 추가 \n",
    "plt.annotate(\n",
    "    f\"South Korea Rank : {korea_index + 1}, Value : {korea_value}\", \n",
    "    xy = (korea_index, korea_value), \n",
    "    xytext= (korea_index + 10, korea_value + 100), \n",
    "    arrowprops= {\n",
    "        'facecolor' : 'r', \n",
    "        'edgecolor' : 'k', \n",
    "        'headwidth' : 10, \n",
    "        'headlength' : 10, \n",
    "        'width' : 5, \n",
    "        'shrink' : 0.1\n",
    "    } \n",
    ")\n",
    "\n",
    "# x축 이름 \n",
    "plt.xlabel('국가')\n",
    "# y축 이름 \n",
    "plt.ylabel('총술소비량')\n",
    "\n",
    "# x축의 범위를 지정 \n",
    "plt.xlim(-1, 200)\n",
    "plt.show()"
   ]
  }
 ],
 "metadata": {
  "kernelspec": {
   "display_name": "Python 3",
   "language": "python",
   "name": "python3"
  },
  "language_info": {
   "codemirror_mode": {
    "name": "ipython",
    "version": 3
   },
   "file_extension": ".py",
   "mimetype": "text/x-python",
   "name": "python",
   "nbconvert_exporter": "python",
   "pygments_lexer": "ipython3",
   "version": "3.11.4"
  }
 },
 "nbformat": 4,
 "nbformat_minor": 2
}
